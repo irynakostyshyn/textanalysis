{
 "cells": [
  {
   "cell_type": "code",
   "execution_count": 1,
   "metadata": {},
   "outputs": [
    {
     "data": {
      "text/plain": [
       "['',\n",
       " '/usr/lib/python35.zip',\n",
       " '/usr/lib/python3.5',\n",
       " '/usr/lib/python3.5/plat-x86_64-linux-gnu',\n",
       " '/usr/lib/python3.5/lib-dynload',\n",
       " '/home/ira/.local/lib/python3.5/site-packages',\n",
       " '/usr/local/lib/python3.5/dist-packages',\n",
       " '/usr/local/lib/python3.5/dist-packages/setuptools-28.8.0-py3.5.egg',\n",
       " '/usr/lib/python3/dist-packages',\n",
       " '/home/ira/.local/lib/python3.5/site-packages/IPython/extensions',\n",
       " '/home/ira/.ipython']"
      ]
     },
     "execution_count": 1,
     "metadata": {},
     "output_type": "execute_result"
    }
   ],
   "source": [
    "%matplotlib inline\n",
    "#import pycld2\n",
    "import sys\n",
    "sys.path"
   ]
  },
  {
   "cell_type": "code",
   "execution_count": 2,
   "metadata": {},
   "outputs": [],
   "source": [
    "import pandas as pd\n",
    "import matplotlib.pyplot as plt\n",
    "import re\n",
    "from bs4 import BeautifulSoup\n",
    "from polyglot.detect import Detector\n",
    "\n",
    "from sklearn.model_selection import train_test_split\n",
    "from sklearn.pipeline import Pipeline\n",
    "from sklearn.linear_model import LogisticRegression\n",
    "from sklearn.feature_extraction.text import TfidfVectorizer\n",
    "from nltk.tokenize import sent_tokenize"
   ]
  },
  {
   "cell_type": "code",
   "execution_count": 3,
   "metadata": {},
   "outputs": [],
   "source": [
    "DATA = \"data/\"\n",
    "\n",
    "df = pd.read_csv(DATA+\"Сушия.csv\")"
   ]
  },
  {
   "cell_type": "code",
   "execution_count": 4,
   "metadata": {},
   "outputs": [
    {
     "data": {
      "text/html": [
       "<div>\n",
       "<style scoped>\n",
       "    .dataframe tbody tr th:only-of-type {\n",
       "        vertical-align: middle;\n",
       "    }\n",
       "\n",
       "    .dataframe tbody tr th {\n",
       "        vertical-align: top;\n",
       "    }\n",
       "\n",
       "    .dataframe thead th {\n",
       "        text-align: right;\n",
       "    }\n",
       "</style>\n",
       "<table border=\"1\" class=\"dataframe\">\n",
       "  <thead>\n",
       "    <tr style=\"text-align: right;\">\n",
       "      <th></th>\n",
       "      <th>title</th>\n",
       "      <th>text</th>\n",
       "      <th>keyword_role</th>\n",
       "      <th>keyword_tone</th>\n",
       "      <th>source_type</th>\n",
       "      <th>source_url</th>\n",
       "    </tr>\n",
       "  </thead>\n",
       "  <tbody>\n",
       "    <tr>\n",
       "      <th>0</th>\n",
       "      <td>Какой у вас в Харькове Сушия? У нас в Одессе к...</td>\n",
       "      <td>&lt;p&gt;Какой у вас в Харькове Сушия? У нас в Одесс...</td>\n",
       "      <td>object</td>\n",
       "      <td>negative</td>\n",
       "      <td>socialnetworksource</td>\n",
       "      <td>http://instagram.com/</td>\n",
       "    </tr>\n",
       "    <tr>\n",
       "      <th>1</th>\n",
       "      <td>Меня качество еды в Сушия устраивает, но не ве...</td>\n",
       "      <td>&lt;p&gt;Меня качество еды в Сушия устраивает, но не...</td>\n",
       "      <td>object</td>\n",
       "      <td>negative</td>\n",
       "      <td>socialnetworksource</td>\n",
       "      <td>http://youtube.com/</td>\n",
       "    </tr>\n",
       "    <tr>\n",
       "      <th>2</th>\n",
       "      <td>[club30459962|Сушия – сучасна японська кухня],...</td>\n",
       "      <td>&lt;p&gt;[club30459962|Сушия – сучасна японська кухн...</td>\n",
       "      <td>object</td>\n",
       "      <td>negative</td>\n",
       "      <td>socialnetworksource</td>\n",
       "      <td>http://vk.com/</td>\n",
       "    </tr>\n",
       "    <tr>\n",
       "      <th>3</th>\n",
       "      <td>​Ни при каких не заказывайте доставку</td>\n",
       "      <td>&lt;p&gt; Отзыв о Сушия: Ни при каких не заказывайте...</td>\n",
       "      <td>object</td>\n",
       "      <td>negative</td>\n",
       "      <td>socialnetworksource</td>\n",
       "      <td>http://www.otzyvua.net/</td>\n",
       "    </tr>\n",
       "    <tr>\n",
       "      <th>4</th>\n",
       "      <td>Сушия, на час не на 2.</td>\n",
       "      <td>&lt;p&gt;Сушия, на час не на 2.&lt;/p&gt;</td>\n",
       "      <td>object</td>\n",
       "      <td>negative</td>\n",
       "      <td>socialnetworksource</td>\n",
       "      <td>http://vk.com/</td>\n",
       "    </tr>\n",
       "  </tbody>\n",
       "</table>\n",
       "</div>"
      ],
      "text/plain": [
       "                                               title  \\\n",
       "0  Какой у вас в Харькове Сушия? У нас в Одессе к...   \n",
       "1  Меня качество еды в Сушия устраивает, но не ве...   \n",
       "2  [club30459962|Сушия – сучасна японська кухня],...   \n",
       "3              ​Ни при каких не заказывайте доставку   \n",
       "4                             Сушия, на час не на 2.   \n",
       "\n",
       "                                                text keyword_role  \\\n",
       "0  <p>Какой у вас в Харькове Сушия? У нас в Одесс...       object   \n",
       "1  <p>Меня качество еды в Сушия устраивает, но не...       object   \n",
       "2  <p>[club30459962|Сушия – сучасна японська кухн...       object   \n",
       "3  <p> Отзыв о Сушия: Ни при каких не заказывайте...       object   \n",
       "4                      <p>Сушия, на час не на 2.</p>       object   \n",
       "\n",
       "  keyword_tone          source_type               source_url  \n",
       "0     negative  socialnetworksource    http://instagram.com/  \n",
       "1     negative  socialnetworksource      http://youtube.com/  \n",
       "2     negative  socialnetworksource           http://vk.com/  \n",
       "3     negative  socialnetworksource  http://www.otzyvua.net/  \n",
       "4     negative  socialnetworksource           http://vk.com/  "
      ]
     },
     "execution_count": 4,
     "metadata": {},
     "output_type": "execute_result"
    }
   ],
   "source": [
    "df.head()"
   ]
  },
  {
   "cell_type": "code",
   "execution_count": 5,
   "metadata": {},
   "outputs": [
    {
     "data": {
      "text/plain": [
       "neutral     3228\n",
       "negative    3228\n",
       "positive    3228\n",
       "Name: keyword_tone, dtype: int64"
      ]
     },
     "execution_count": 5,
     "metadata": {},
     "output_type": "execute_result"
    }
   ],
   "source": [
    "df['keyword_tone'].value_counts()"
   ]
  },
  {
   "cell_type": "code",
   "execution_count": 6,
   "metadata": {
    "scrolled": true
   },
   "outputs": [],
   "source": [
    "symbols_in_text = df['text'].str.len()"
   ]
  },
  {
   "cell_type": "code",
   "execution_count": 7,
   "metadata": {},
   "outputs": [
    {
     "data": {
      "text/plain": [
       "198.0    351\n",
       "18.0     150\n",
       "167.0    118\n",
       "37.0      91\n",
       "30.0      87\n",
       "Name: text, dtype: int64"
      ]
     },
     "execution_count": 7,
     "metadata": {},
     "output_type": "execute_result"
    }
   ],
   "source": [
    "symbols_in_text.value_counts().head()"
   ]
  },
  {
   "cell_type": "markdown",
   "metadata": {},
   "source": [
    "Найдовші тексти"
   ]
  },
  {
   "cell_type": "code",
   "execution_count": 8,
   "metadata": {},
   "outputs": [
    {
     "data": {
      "text/plain": [
       "2534    <p>Сегодня в центре Киева, в ресторания \"\"Суши...\n",
       "2557    <p>Сегодня в центре Киева, в ресторания \"\"Суши...\n",
       "2724    <p>В центре Киева расстреляли посетителя ресто...\n",
       "2807    <p>Сегодня в центре Киева, в ресторания \"\"Суши...\n",
       "2808    <p>Сегодня в центре Киева, в ресторания \"\"Суши...\n",
       "2809    <p>Сегодня в центре Киева, в ресторания \"\"Суши...\n",
       "2811    <p>Сегодня в центре Киева, в ресторания \"\"Суши...\n",
       "2813    <p>Сегодня в центре Киева, в ресторания \"\"Суши...\n",
       "2814    <p>Сегодня в центре Киева, в ресторания \"\"Суши...\n",
       "2815    <p>Сегодня в центре Киева, в ресторания \"\"Суши...\n",
       "2817    <p>Сегодня в центре Киева, в ресторания \"\"Суши...\n",
       "2819    <p>Сегодня в центре Киева, в ресторания \"\"Суши...\n",
       "2820    <p>Сегодня в центре Киева, в ресторания \"\"Суши...\n",
       "2824    <p>Сегодня в центре Киева, в ресторания \"\"Суши...\n",
       "2826    <p>Сегодня в центре Киева, в ресторания \"\"Суши...\n",
       "2842    <p>Сегодня в центре Киева, в ресторания \"\"Суши...\n",
       "2843    <p>Сегодня в центре Киева, в ресторания \"\"Суши...\n",
       "2844    <p>Сегодня в центре Киева, в ресторания \"\"Суши...\n",
       "2845    <p>Сегодня в центре Киева, в ресторания \"\"Суши...\n",
       "2846    <p>Сегодня в центре Киева, в ресторания \"\"Суши...\n",
       "Name: text, dtype: object"
      ]
     },
     "execution_count": 8,
     "metadata": {},
     "output_type": "execute_result"
    }
   ],
   "source": [
    "df[symbols_in_text == 351]['text']"
   ]
  },
  {
   "cell_type": "markdown",
   "metadata": {},
   "source": [
    "Кількість текстів, що починаються з тегу &lt;p&gt;, тобто відкриття абзацу"
   ]
  },
  {
   "cell_type": "code",
   "execution_count": 9,
   "metadata": {},
   "outputs": [
    {
     "data": {
      "text/plain": [
       "object       7020\n",
       "subject       425\n",
       "secondary      45\n",
       "Name: keyword_role, dtype: int64"
      ]
     },
     "execution_count": 9,
     "metadata": {},
     "output_type": "execute_result"
    }
   ],
   "source": [
    "df['text'].str.startswith('<p>').sum()\n",
    "updated_df = df.drop_duplicates(['text'])\n",
    "updated_df['keyword_tone'].value_counts()\n",
    "updated_df['keyword_role'].value_counts()"
   ]
  },
  {
   "cell_type": "markdown",
   "metadata": {},
   "source": [
    "Забираємо HTML розмітку"
   ]
  },
  {
   "cell_type": "code",
   "execution_count": 10,
   "metadata": {},
   "outputs": [
    {
     "name": "stderr",
     "output_type": "stream",
     "text": [
      "/usr/local/lib/python3.5/dist-packages/ipykernel_launcher.py:1: SettingWithCopyWarning: \n",
      "A value is trying to be set on a copy of a slice from a DataFrame.\n",
      "Try using .loc[row_indexer,col_indexer] = value instead\n",
      "\n",
      "See the caveats in the documentation: http://pandas.pydata.org/pandas-docs/stable/indexing.html#indexing-view-versus-copy\n",
      "  \"\"\"Entry point for launching an IPython kernel.\n"
     ]
    }
   ],
   "source": [
    "updated_df['text'] = updated_df['text'].apply(lambda x: BeautifulSoup(str(x), \"lxml\").text.replace(\"\\n\", \" \"))"
   ]
  },
  {
   "cell_type": "markdown",
   "metadata": {},
   "source": [
    "Забираємо VK розмітку"
   ]
  },
  {
   "cell_type": "code",
   "execution_count": 11,
   "metadata": {
    "scrolled": true
   },
   "outputs": [
    {
     "name": "stderr",
     "output_type": "stream",
     "text": [
      "/usr/local/lib/python3.5/dist-packages/ipykernel_launcher.py:1: SettingWithCopyWarning: \n",
      "A value is trying to be set on a copy of a slice from a DataFrame.\n",
      "Try using .loc[row_indexer,col_indexer] = value instead\n",
      "\n",
      "See the caveats in the documentation: http://pandas.pydata.org/pandas-docs/stable/indexing.html#indexing-view-versus-copy\n",
      "  \"\"\"Entry point for launching an IPython kernel.\n"
     ]
    }
   ],
   "source": [
    "updated_df['text'] = updated_df['text'].apply(lambda x: re.sub(r'\\[([^\\|\\]]+\\|)?([^\\]]+)\\]',r'\\2', x))"
   ]
  },
  {
   "cell_type": "code",
   "execution_count": 12,
   "metadata": {
    "scrolled": true
   },
   "outputs": [
    {
     "name": "stderr",
     "output_type": "stream",
     "text": [
      "/usr/local/lib/python3.5/dist-packages/ipykernel_launcher.py:1: SettingWithCopyWarning: \n",
      "A value is trying to be set on a copy of a slice from a DataFrame.\n",
      "Try using .loc[row_indexer,col_indexer] = value instead\n",
      "\n",
      "See the caveats in the documentation: http://pandas.pydata.org/pandas-docs/stable/indexing.html#indexing-view-versus-copy\n",
      "  \"\"\"Entry point for launching an IPython kernel.\n",
      "/home/ira/.local/lib/python3.5/site-packages/IPython/core/interactiveshell.py:2963: SettingWithCopyWarning: \n",
      "A value is trying to be set on a copy of a slice from a DataFrame\n",
      "\n",
      "See the caveats in the documentation: http://pandas.pydata.org/pandas-docs/stable/indexing.html#indexing-view-versus-copy\n",
      "  exec(code_obj, self.user_global_ns, self.user_ns)\n",
      "Detector is not able to detect the language reliably.\n",
      "Detector is not able to detect the language reliably.\n",
      "Detector is not able to detect the language reliably.\n"
     ]
    },
    {
     "name": "stdout",
     "output_type": "stream",
     "text": [
      "Виталий, ска, Виталик, дай пять.мы прекрасно сыграли эту партию)мне Сушия не нра, шо делать,спасай\n"
     ]
    },
    {
     "name": "stderr",
     "output_type": "stream",
     "text": [
      "Detector is not able to detect the language reliably.\n",
      "Detector is not able to detect the language reliably.\n"
     ]
    },
    {
     "name": "stdout",
     "output_type": "stream",
     "text": [
      "Вчера, приблизительно в 21.00 были в сушия в р-не Южного Вокзала (ул. Георгия Кирпы, 3) заказывали суши с копченным лососем deluxe- это не суши, а крашенная селедка...реально экономят, на вкус никак:( скандалить не хотели...но больше в сушия никогда не пойду, так и отравиться недолго...при стоимости 109 грн. лучше добавлю и пойду в Мураками.Что и Вам советую!!!Всем удачи\n"
     ]
    },
    {
     "name": "stderr",
     "output_type": "stream",
     "text": [
      "Detector is not able to detect the language reliably.\n",
      "Detector is not able to detect the language reliably.\n",
      "Detector is not able to detect the language reliably.\n",
      "Detector is not able to detect the language reliably.\n",
      "Detector is not able to detect the language reliably.\n"
     ]
    },
    {
     "name": "stdout",
     "output_type": "stream",
     "text": [
      "Гавно ваши праздники. (@ Сушия / @Sushiya_ukraine in Київ, м. Київ) https://www.swarmapp.com/c/e7DWgMJcoZp \n"
     ]
    },
    {
     "name": "stderr",
     "output_type": "stream",
     "text": [
      "Detector is not able to detect the language reliably.\n",
      "Detector is not able to detect the language reliably.\n",
      "Detector is not able to detect the language reliably.\n",
      "Detector is not able to detect the language reliably.\n",
      "Detector is not able to detect the language reliably.\n",
      "Detector is not able to detect the language reliably.\n"
     ]
    },
    {
     "name": "stdout",
     "output_type": "stream",
     "text": [
      "Всегда заказывала и кушала суши в сушия. Но в эту субботу в Скаймолле, отравилась так, что до сих пор отхожу! Тошнота, рвота, температура и диарея, в результате. То ли продукты были не свежие, То ли повара ваши не чистоплотные! Прошу обратить внимание руководства и решить этот неприятный момент.\n",
      "Добрый день! Обратите внимание на работу ресторана на в Днепропетровске на ул.Плеханова. Заказывали мохито и роллы. Мохито- лед огромными кусками,на дне слой сахара,трубочки...да купите вы уже нормальные трубочки для мохито,не позорьтесь.Роллы- с первого раза принести то что надо не получилось,ничего,подождали свой заказ. Роллы разваливаются,невозможно донести до рта.Официантки зависают на баре,не дозовешься.\n"
     ]
    },
    {
     "name": "stderr",
     "output_type": "stream",
     "text": [
      "Detector is not able to detect the language reliably.\n",
      "Detector is not able to detect the language reliably.\n",
      "Detector is not able to detect the language reliably.\n",
      "Detector is not able to detect the language reliably.\n"
     ]
    },
    {
     "name": "stdout",
     "output_type": "stream",
     "text": [
      "Нет своего туалета, как у Лофта и других заведений на этаже\n"
     ]
    },
    {
     "name": "stderr",
     "output_type": "stream",
     "text": [
      "Detector is not able to detect the language reliably.\n",
      "Detector is not able to detect the language reliably.\n",
      "Detector is not able to detect the language reliably.\n",
      "Detector is not able to detect the language reliably.\n",
      "Detector is not able to detect the language reliably.\n",
      "Detector is not able to detect the language reliably.\n",
      "Detector is not able to detect the language reliably.\n",
      "Detector is not able to detect the language reliably.\n",
      "Detector is not able to detect the language reliably.\n",
      "Detector is not able to detect the language reliably.\n",
      "Detector is not able to detect the language reliably.\n",
      "Detector is not able to detect the language reliably.\n",
      "Detector is not able to detect the language reliably.\n"
     ]
    },
    {
     "name": "stdout",
     "output_type": "stream",
     "text": [
      "Ruslan Salmanov Serge Duts Подобный принцип теперь используют во многих заведениях. Например в Сушия нужно заказать дополнительно соус за 2грн или васаби с имбирём по 1грн:)Serge Duts Сушие значит надо тоже ссать на дверь\n"
     ]
    },
    {
     "name": "stderr",
     "output_type": "stream",
     "text": [
      "Detector is not able to detect the language reliably.\n",
      "Detector is not able to detect the language reliably.\n",
      "Detector is not able to detect the language reliably.\n",
      "Detector is not able to detect the language reliably.\n",
      "Detector is not able to detect the language reliably.\n",
      "Detector is not able to detect the language reliably.\n",
      "Detector is not able to detect the language reliably.\n"
     ]
    },
    {
     "name": "stdout",
     "output_type": "stream",
     "text": [
      "Людмила Дружинина Сушия сейчас испоганилась, лучше Евразия или Каста\n",
      "Сушия на Майдане,  возле мака\n"
     ]
    },
    {
     "name": "stderr",
     "output_type": "stream",
     "text": [
      "Detector is not able to detect the language reliably.\n"
     ]
    },
    {
     "name": "stdout",
     "output_type": "stream",
     "text": [
      "Плохие суши. Не донесли, то что мы заказали. Но мы были рады, потому что качество было плохое. Не хотелось добавки. Среди точек сушии по украине это место не качественное. Специально шли именно сюда в сушия, а тут такое....поэтому именно во львове лучше пойти наверное в другое  место, чтобы не остаться разочарованым в сети сушия! В киеве и других точках такого нет Сушия\n"
     ]
    },
    {
     "name": "stderr",
     "output_type": "stream",
     "text": [
      "Detector is not able to detect the language reliably.\n",
      "Detector is not able to detect the language reliably.\n"
     ]
    },
    {
     "name": "stdout",
     "output_type": "stream",
     "text": [
      " и только детище дядюшки МакДональда десятки лет стабильно держит марку вредного фастфуда для детишек)ешно хоронят и репутацию и уже раскрученную марку\n",
      " Или есть альтернатива?верить точно вес?ик заявлен 910 грамм и 36 кусочков. Отводим быстро зрение от кнопки \"\"замовити\"\",  читаем детали (которые в мобильной версии хорошо спрятаны). А там мелкими значками вес и количество\n"
     ]
    },
    {
     "name": "stderr",
     "output_type": "stream",
     "text": [
      "Detector is not able to detect the language reliably.\n",
      "Detector is not able to detect the language reliably.\n",
      "Detector is not able to detect the language reliably.\n",
      "Detector is not able to detect the language reliably.\n"
     ]
    },
    {
     "name": "stdout",
     "output_type": "stream",
     "text": [
      "в сушия априори лучше не ходить)\n"
     ]
    },
    {
     "name": "stderr",
     "output_type": "stream",
     "text": [
      "Detector is not able to detect the language reliably.\n",
      "Detector is not able to detect the language reliably.\n",
      "Detector is not able to detect the language reliably.\n",
      "Detector is not able to detect the language reliably.\n",
      "Detector is not able to detect the language reliably.\n"
     ]
    },
    {
     "name": "stdout",
     "output_type": "stream",
     "text": [
      "Резко перехотелось ходить в Сушия 😫\n"
     ]
    },
    {
     "name": "stderr",
     "output_type": "stream",
     "text": [
      "Detector is not able to detect the language reliably.\n",
      "Detector is not able to detect the language reliably.\n",
      "Detector is not able to detect the language reliably.\n"
     ]
    },
    {
     "name": "stdout",
     "output_type": "stream",
     "text": [
      "Яка антисанітарія! ВІДЕО https://bdzhola.com/news/kijanin-stav-svidkom-togo-jak-spivrobitniki-sushija-konstrujujut-u-metro-navchalni-palichkiКиянин став свідком того, як співробітники «СушіЯ» конструюють у метро навчальні паличкиhttps://bdzhola.com/news/kijanin-stav-svidkom-togo-jak-spivrobitniki-sushija-konstrujujut-u-metro-navchalni-palichkiОшибка 404! Страница не найдена\n"
     ]
    },
    {
     "name": "stderr",
     "output_type": "stream",
     "text": [
      "Detector is not able to detect the language reliably.\n",
      "Detector is not able to detect the language reliably.\n",
      "Detector is not able to detect the language reliably.\n",
      "Detector is not able to detect the language reliably.\n",
      "Detector is not able to detect the language reliably.\n"
     ]
    },
    {
     "name": "stdout",
     "output_type": "stream",
     "text": [
      "Що? Ви жартуєте?! Цікаво, що скаже компанія у своє виправдання! Після таких публікацій починаєш розуміти людей, які у суші-барі, не вміючи користуватися паличками - просять виделку!SergeyЯ тут стал свидетелем создания учебных китайских палочек. И дай Бог, что бы эта девочка их делала, не для подачи малоопытным клиентам в ресторане. #СушиЯ привет! Сушия - сучасна японська кухня\n",
      "https://nashkiev.ua/novosti/rouchnaya-rabota-kak-d...                Просто \"\"СУПЕР\"\"!\n"
     ]
    },
    {
     "name": "stderr",
     "output_type": "stream",
     "text": [
      "Detector is not able to detect the language reliably.\n"
     ]
    },
    {
     "name": "stdout",
     "output_type": "stream",
     "text": [
      "сушия біла та. что на бесарабке\n",
      "Люди,Вы вообще обходите стороной такие заведения как Мафия,Сушия,Евразия,Л Кафа и т.д.\n"
     ]
    },
    {
     "name": "stderr",
     "output_type": "stream",
     "text": [
      "Detector is not able to detect the language reliably.\n",
      "Detector is not able to detect the language reliably.\n",
      "Detector is not able to detect the language reliably.\n"
     ]
    },
    {
     "name": "stdout",
     "output_type": "stream",
     "text": [
      "Без слов)) топ ролл с сыром филадельфия)\n"
     ]
    },
    {
     "name": "stderr",
     "output_type": "stream",
     "text": [
      "Detector is not able to detect the language reliably.\n"
     ]
    },
    {
     "name": "stdout",
     "output_type": "stream",
     "text": [
      "На ланчи ходить нет смысла, выносят заказ min через 25мин, официанты путают заказы,все медленно ...Отзыв на основе 4х посещений в разные дни недели\n",
      "Нечего ходить в эту сушию вообще..\n"
     ]
    },
    {
     "name": "stderr",
     "output_type": "stream",
     "text": [
      "Detector is not able to detect the language reliably.\n",
      "Detector is not able to detect the language reliably.\n"
     ]
    },
    {
     "name": "stdout",
     "output_type": "stream",
     "text": [
      "Вся сеть выше средней троечки, не прыгает\n"
     ]
    },
    {
     "name": "stderr",
     "output_type": "stream",
     "text": [
      "Detector is not able to detect the language reliably.\n",
      "Detector is not able to detect the language reliably.\n",
      "Detector is not able to detect the language reliably.\n",
      "Detector is not able to detect the language reliably.\n"
     ]
    },
    {
     "name": "stdout",
     "output_type": "stream",
     "text": [
      "Таракан в Сушие. Харьков, Сумская.\n",
      "Таракан в Сушие. Харьков, Сумская. ᅠ Автор: Джамал Стаценко Таракан в Сушие. Харьков, Сумская.\n"
     ]
    },
    {
     "name": "stderr",
     "output_type": "stream",
     "text": [
      "Detector is not able to detect the language reliably.\n",
      "Detector is not able to detect the language reliably.\n",
      "Detector is not able to detect the language reliably.\n",
      "Detector is not able to detect the language reliably.\n",
      "Detector is not able to detect the language reliably.\n"
     ]
    },
    {
     "name": "stdout",
     "output_type": "stream",
     "text": [
      "Светлана, я в Днепре в Сушия была, тоже разваливались😔\n"
     ]
    },
    {
     "name": "stderr",
     "output_type": "stream",
     "text": [
      "Detector is not able to detect the language reliably.\n",
      "Detector is not able to detect the language reliably.\n",
      "Detector is not able to detect the language reliably.\n"
     ]
    },
    {
     "name": "stdout",
     "output_type": "stream",
     "text": [
      "Пару лет назад в сушия  попался таракан вместе с имбирем - теперь лого ассоциируется именно с ним ))))Ресторан делает еду, а сеть бабки!!!!!!\n",
      "\"\"Очень много не вкусной еды\"\" #FoursquareFind @ Сушия / Sushiya http://4sq.com/2vO7wCO\n"
     ]
    },
    {
     "name": "stderr",
     "output_type": "stream",
     "text": [
      "Detector is not able to detect the language reliably.\n"
     ]
    },
    {
     "name": "stdout",
     "output_type": "stream",
     "text": [
      "Надо шоб Голубович как человек с заслугами перед Молодой Республикой и орденоносец походатайствовал эту буржуазную \"\"Сушию\"\" закрыть и реконструировать \"\"Мясо-молоко\"\" - ведь очаг Культуры Донбасса! А то министрам перед работой в Доме Правительства и опохмелиться негде\n"
     ]
    },
    {
     "name": "stderr",
     "output_type": "stream",
     "text": [
      "Detector is not able to detect the language reliably.\n",
      "Detector is not able to detect the language reliably.\n",
      "Detector is not able to detect the language reliably.\n",
      "Detector is not able to detect the language reliably.\n",
      "Detector is not able to detect the language reliably.\n",
      "Detector is not able to detect the language reliably.\n",
      "Detector is not able to detect the language reliably.\n",
      "Detector is not able to detect the language reliably.\n",
      "Detector is not able to detect the language reliably.\n",
      "Detector is not able to detect the language reliably.\n"
     ]
    },
    {
     "name": "stdout",
     "output_type": "stream",
     "text": [
      " Мужчины кавказской внешности ворвались в ресторан Сушия в Киеве, около метро Печерская и открыли огонь по посетителю.  Об этом сообщает Информатор . \n",
      "Мужчины кавказской внешности ворвались в ресторан Сушия в Киеве, около метро Печерская и открыли огонь по посетителю.    Об этом сообщает Информатор .\n",
      "Чурки стрелять не умеютВ центре Киева кавказцы ворвались в ресторан и расстреляли человекаКавказцы ворвались в \"\"Сушию\"\" и убили человекаhttps://vesti-ukr.com/kiev/262831-v-tsentre-kieva-...\n"
     ]
    },
    {
     "name": "stderr",
     "output_type": "stream",
     "text": [
      "Detector is not able to detect the language reliably.\n"
     ]
    },
    {
     "name": "stdout",
     "output_type": "stream",
     "text": [
      "Земляки Сакашвілі, вирвались з Міхомайдану? Це вже зовсім... В центре Киева кавказцы ворвались в «Сушию» и расстреляли посетителя https://kiev.informator.ua/2017/10/28/v-tsentre-kieva-kavkaztsy-vorvalis-v-sushiyu-i-rasstrelyali-posetitelya/ Мы уже на месте. Следим за событиями\n"
     ]
    },
    {
     "name": "stderr",
     "output_type": "stream",
     "text": [
      "Detector is not able to detect the language reliably.\n"
     ]
    },
    {
     "name": "stdout",
     "output_type": "stream",
     "text": [
      "Стрельба в центре: кавказцы напали на посетителя в ресторане \"\"Сушия\"\" на Печерске https://kiev.vgorode.ua/news/sobytyia/344644\n",
      "Интересно, а редактор есть на канале? Если есть, то уволить немедленно. Если нет, нанять. Или вообще канал закрытьСМИ: в Киеве кавказцы ворвались в суши бар и расстреляли посетителяМужчины кавказской внешности ворвались в ресторан Сушия в Киеве, около метро Печерская и открыли огонь по посетителю.  Об этом сообщает Информатор.https://newsone.ua/ru/smi-v-kieve-kavkazcy-vorvalis-v-sushi-bar-i-rasstrelyali-posetitelya/?fb_action_ids=1489973124384213&fb_action_types=og.comments&fb_source=other_multiline&action_object_map=1460648384056508&action_type_map=\"\"og.comments\"\"&action_ref_map=[]\n"
     ]
    },
    {
     "name": "stderr",
     "output_type": "stream",
     "text": [
      "Detector is not able to detect the language reliably.\n"
     ]
    },
    {
     "name": "stdout",
     "output_type": "stream",
     "text": [
      "СРОЧНО! Кавказцы устроили стрельбу в киевском ресторане: есть раненый Мужчины кавказской внешности ворвались в ресторан \"\"Сушия\"\" в Киеве, около метро Печерская и открыли огонь по посетителю. Об этом сообщает… http://www.amn.org.ua/podiyi/srochno-kavkaztsy-ustroyly-strelbu-v-kyevskom-restorane-est-ranenyj/\n",
      "Нічого собі!!! Це шо, 90-ті повертаються??? Кавказцы устроили стрельбу в киевском ресторане (опубликованы фото) - Нова Україна Мужчины кавказской внешности ворвались в ресторан “Сушия” в Киеве, около метро Печерская и открыли огонь по посетителю. Как сообщает “Информатор“, инцидент произошел в ресторане, который расположен по адресу Коновальца, 44, примерно в 19.30, в субботу, 28 октября. Сообщается, что пострадавшего ... http://newukrainian.co.ua/2017/10/28/kavkacy-ustroili-strelbu-v-kievskom/\n",
      "Кавказцы расстреляли посетителя одного из киевских ресторанов: http://begemot.media/news/muzhchiny-kavkazskoj-vneshnosti-rasstrelyali/ Мужчины кавказской внешности устроили стрельбу в киевском ресторане Мужчины кавказской внешности ворвались в ресторан \"\"Сушия\"\" в Киеве, около метро Печерская и открыли огонь по одному из посетителей.\n",
      "New post (Кавказцы устроили стрельбу в киевском ресторане: есть раненый) has been published on Journal News Кавказцы устроили стрельбу в киевском ресторане: есть раненый | Journal News Події  Кавказцы устроили стрельбу в киевском ресторане: есть раненый Жовтень 28, 2017 nazar 0 Comments Мужчины кавказской внешности ворвались в ресторан “Сушия” в Киеве, около метро Печерская и открыли огонь по посетителю. Об этом сообщает “Информатор“. Инцидент произошел в ресторане, который ... http://www.journal-news.com.ua/кавказцы-устроили-стрельбу-в-киевско/\n",
      "Мужчины кавказской внешности ворвались в ресторан «Сушия» в Киеве, около метро Печерская и открыли огонь по одному из посетителей. Как сообщает Обозреватель.ua https://www.obozrevatel.com/kiyany/crime/kavkaztsyi-ustroili-strelbu-v-kievskom-restorane-est-ranenyij.htm , инцидент произошел в ресторане, который расположен по адресу Коновальца, 44, примерно в 19.30, в субботу, 28 октября.       Сообщается, что пострадавшего удалось спасти, однако его состояние неизвестно. Первыми на место происшествия приехали медики, чуть позже прибыли следователи\n"
     ]
    },
    {
     "name": "stderr",
     "output_type": "stream",
     "text": [
      "Detector is not able to detect the language reliably.\n"
     ]
    },
    {
     "name": "stdout",
     "output_type": "stream",
     "text": [
      " Сегодня в центре Киева, в ресторане \"\"Сушия\"\" (по адресу Коновальца, 44), произошла стрельба.  Столичная полиция уточняет, что выстрел был произведен в ходе конфликта четырех человек. Стрелял оппоненту в голову мужчина кавказской национальности.  Пострадавший в тяжелом состоянии госпитализирован, стрелок и двое других участников конфликта с места преступления скрылись.  В ресторане работает опергруппа, ведутся поиски. \n"
     ]
    },
    {
     "name": "stderr",
     "output_type": "stream",
     "text": [
      "Detector is not able to detect the language reliably.\n",
      "Detector is not able to detect the language reliably.\n"
     ]
    },
    {
     "name": "stdout",
     "output_type": "stream",
     "text": [
      "#Новости этого часа В киевском ресторане расстреляли мужчину Сегодня в центре Киева, в ресторане \"\"Сушия\"\" (по адресу Коновальца, 44), произошла стрельба. Столичная полиция уточняет, что выстрел был произведен в ходе конфликта четырех человек. Стрелял оппоненту в голову мужчина кавказской национальности. Пострадавший в тяжелом состоянии госпитализирован, стр http://real-vin.com/v-kievskom-restorane-rasstreljali-muzhchinu\n"
     ]
    },
    {
     "name": "stderr",
     "output_type": "stream",
     "text": [
      "Detector is not able to detect the language reliably.\n"
     ]
    },
    {
     "name": "stdout",
     "output_type": "stream",
     "text": [
      "Мужчины кавказской внешности ворвались в ресторан \"\"Сушия\"\" в Киеве, около метро Печерская и открыли огонь по посетителю.\n",
      "Вартові.Еспресо, все трое нападающих были кавказской внешности, один из которых был постарше остальных и с проседью. Предполагается, что стрельба велась из пистолета Макарова.    На месте происшествия работает следственно-оперативная группа.    Отметим, что по указанному адресу в Киеве расположен ресторан «Сушия».\n"
     ]
    },
    {
     "name": "stderr",
     "output_type": "stream",
     "text": [
      "Detector is not able to detect the language reliably.\n",
      "Detector is not able to detect the language reliably.\n"
     ]
    },
    {
     "name": "stdout",
     "output_type": "stream",
     "text": [
      "В субботу вечером в Киеве неизвестные ворвались в ресторан Сушия и открыли огонь по одному из посетителей. Об этом говорится в сообщении группы Типичный Киев в Facebook. «В ресторане Сушия по адресу Коновальца, 44 произошла стрельба. Двое мужчин кавказкой внешности, ворвались в заведение и начали стрелять в посетителя. Затем они сбежали из ресторана в неизвестном направлении», … #Новороссия\n",
      "Кавказцы расстреляли посетителя одного из киевских ресторанов | Страна IN.UA - ТОП новости Украины🇺🇦 Происшествия 29 октября 2017 в 11:18Strana In Ua Поделиться ⤵TweetМужчины кавказской внешности ворвались в ресторан «Сушия» в Киеве, около метро Печерская и открыли огонь по одному из посетителей. Как сообщает Обозреватель, инцидент произошел в ресторане, который расположен по адресу Коновальца, ... http://strana.in.ua/news/accidents/63385-kavkazcy-rasstrelyali-posetitelya-odnogo-iz-kievskix-restoranov.html\n",
      "Поделиться ⤵Мужчины кавказской внешности ворвались в ресторан «Сушия» в Киеве, около метро Печерская и открыли огонь по одному из посетителей. Как сообщает Обозреватель https://www.obozrevatel.com/kiyany/crime/kavkaztsyi-ustroili-strelbu-v-kievskom-restorane-est-ranenyij.htm , инцидент произошел в ресторане, который расположен по адресу Коновальца, 44, примерно в 19.30, в субботу, 28 октября. Сообщается, что пострадавшего удалось спасти, однако его состояние неизвестно. Первыми на место происшествия приехали медики, чуть позже прибыли\n"
     ]
    },
    {
     "name": "stderr",
     "output_type": "stream",
     "text": [
      "Detector is not able to detect the language reliably.\n",
      "Detector is not able to detect the language reliably.\n"
     ]
    },
    {
     "name": "stdout",
     "output_type": "stream",
     "text": [
      " Мужчины кавказской внешности ворвались в ресторан «Сушия» в Киеве, около метро Печерская и открыли огонь по одному из посетителей.  Инцидент произошел в ресторане, который расположен по адресу Коновальца, 44, примерно в 19.30, в субботу, 28 октября.  Сообщается, что пострадавшего удалось спасти, однако его состояние неизвестно.  Первыми на место происшествия приехали медики, чуть позже прибыли следователи.  Уже известны некоторые приметы стрелявших: кавказская внешность, черные джинсы и темные волосы.  По словам следователей на месте инцидента, у пострадавшего одно ранение. Единственное, что известно о его состоянии — он жив и сейчас находится в больнице. \n"
     ]
    },
    {
     "name": "stderr",
     "output_type": "stream",
     "text": [
      "Detector is not able to detect the language reliably.\n"
     ]
    },
    {
     "name": "stdout",
     "output_type": "stream",
     "text": [
      "Нападавших до сих пор разыскивают. https://kiev.vgorode.ua/news/sobytyia/344665 Стрельба в Сушие : полиция раскрыла подробности происшествия Полиция раскрыла подробности вчерашней стрельбы в «Сушие»: https://kiev.vgorode.ua/news/sobytyia/344665-strelba-v-sushye-polytsyia-raskryla-podrobnosty-proysshestvyia\n",
      "Стрельба в \"\"Сушие\"\": полиция раскрыла подробности происшествия https://kiev.vgorode.ua/news/sobytyia/344665\n",
      "Берите нормальных поваров работать.Вчера вечером заказали еду на дом, с ресторана который находится на территории ЖК Паркове Місто. Улица Вышгородская.  Второй раз подряд заказываем рис с курицей жареный и второй раз находим части от нарощеных ресниц Ваших поваров. Это прикол такой?  Или может Вы в состав блюда внесете \"\"жареный рис с курицей и границами\"\"?! Убедительная просьба к руководству СУШИЯ решите как то это проблему!\n",
      "Yuri Нам говорили, дескать, на улице Ленина всегда будут плохие дороги, а вот на улице Бандеры они всегда будут хорошие. И надо сказать, это работает - правда, немного не так, как думали авторы. В смысле, когда такое происходит на улице Щорса - кажется, что это беспредел. А вот с улицы Коновальца такие новости смотрятся логично. Вечером 28 октября двое мужчин ворвались в помещение кафе «Сушия» на улице Щорса, 44 (переименована в улицу Коновальца) и расстреляли одного из http://timer-odessa.net/news/v_tsentre_kieva_rasstrelyali_mujchinu_987.html\n",
      "Kiev today, Ukraine  В центре Киева расстреляли мужчину Вечером 28 октября двое мужчин ворвались в помещение кафе «Сушия» на улице Щорса, 44 (переименована в улицу Коновальца) и расстреляли одного из http://timer-odessa.net/news/v_tsentre_kieva_rasstrelyali_mujchinu_987.html\n",
      "Стрельба кавказцов в \"\"Сушия\"\": полиция установила личность пострадавшего (1) Все патрульные и оперативные блоки полиции киевской площади направлены на их розыски. Стрельба кавказцов в \"\"Сушия\"\": полиция установила личность пострадавшего Следователи квалифицируют стрельбу в ресторане как покушение на убийство. Это статья 115 (Уголовного Кодекса), за совершение этого преступления предусмотрено до 15 лет лишения свободы. http://news.meta.ua/go.php?to=2017-10-56777776\n"
     ]
    },
    {
     "name": "stderr",
     "output_type": "stream",
     "text": [
      "Detector is not able to detect the language reliably.\n",
      "Detector is not able to detect the language reliably.\n"
     ]
    },
    {
     "name": "stdout",
     "output_type": "stream",
     "text": [
      "Будни Вна Укр.пресса: \"\"Мужчины кавказской внешности ворвались в ресторан Сушия в Киеве, около метро Печерская и открыли огонь по посетителю\"\"\n"
     ]
    },
    {
     "name": "stderr",
     "output_type": "stream",
     "text": [
      "Detector is not able to detect the language reliably.\n",
      "Detector is not able to detect the language reliably.\n",
      "Detector is not able to detect the language reliably.\n",
      "Detector is not able to detect the language reliably.\n"
     ]
    },
    {
     "name": "stdout",
     "output_type": "stream",
     "text": [
      "Кавказцы устроили стрельбу в киевском ресторане (опубликованы фото) - Нова Україна Мужчины кавказской внешности ворвались в ресторан “Сушия” в Киеве, около метро Печерская и открыли огонь по посетителю. Как сообщает “Информатор“, инцидент произошел в ресторане, который расположен по адресу Коновальца, 44, примерно в 19.30, в субботу, 28 октября. Сообщается, что пострадавшего ... http://newukrainian.co.ua/2017/10/28/kavkacy-ustroili-strelbu-v-kievskom/\n",
      "Віче НСН -  Народна Служба Новин. Найцінніша інформація з народу.Нічого собі!!!Це шо, 90-ті повертаються???Мужчины кавказской внешности ворвались в ресторан “Сушия” в Киеве, около метро Печерская и открыли огонь по посетителю. Как сообщает “Информатор“, инцидент произошел в ресторане, который расположен по адресу Коновальца, 44, примерно в 19.30, в субботу, 28 октября. Сообщается, что пострадавшего ...http://newukrainian.co.ua/2017/10/28/kavkacy-ustro...\n",
      "Begemot Кавказцы расстреляли посетителя одного из киевских ресторанов: http://begemot.media/news/muzhchiny-kavkazskoj-vneshnosti-rasstrelyali/ Мужчины кавказской внешности ворвались в ресторан \"\"Сушия\"\" в Киеве, около метро Печерская и открыли огонь по одному из посетителей. http://begemot.media/news/muzhchiny-kavkazskoj-vneshnosti-rasstrelyali/\n",
      " В субботу, 28 октября, в Киеве произошла стрельба в ресторане «Сушия» по адресу Коновальца, 44. В ее результате пострадал мужчина.  Инцидент произошел около 19:30.  В заведение возле станции метро «Печерская» между тремя посетителями кавказской внешности возник конфликт. В результате прозвучал выстрел и двое выбежали из ресторана. Мужчина ранен в грудь. Об этом Информатор узнал от одного из сотрудников ресторана на месте происшествия.  В то же время пресс-служба полиции передает, что в конфликте участвовали четверо, а пострадавший ранен в голову. По их словам, он находится в тяжелом состоянии.  Мужчина выжил. Его забрала карета скорой помощи. По словам очевидцев, пострадавший не сразу понял, что с ним произошло. Пытался встать, но его стошнило.  Чуть позже прибыли следователи. Уже известны некоторые приметы стрелявших: кавказская внешность, черные джинсы и темные волосы.  Посетители, находившиеся в ресторане в момент выстрела говорят, что ничего не видели. Несколько человек только слышали хлопок.  Игорь Кулик, Маргарита Хорунжая  Фото: Виталий Куздровский \n"
     ]
    },
    {
     "name": "stderr",
     "output_type": "stream",
     "text": [
      "Detector is not able to detect the language reliably.\n",
      "Detector is not able to detect the language reliably.\n"
     ]
    },
    {
     "name": "stdout",
     "output_type": "stream",
     "text": [
      " Відповідні судові рішення виніс... http://fb.me/FyeHLAVJЕ ВИКОРИСТАННЯ МУЗИКИ\n",
      "Заказали значит мы в #Сушия  роллы с лососем, салатом, огурцом и сыром Филадельфия.... Вот та маленькая розовая полочка это и есть лосось, а чуть сверху беленькая полосочка это сыр... В итоге я заплатила 80 грн. за салат с рисом....😤\n"
     ]
    },
    {
     "name": "stderr",
     "output_type": "stream",
     "text": [
      "Detector is not able to detect the language reliably.\n",
      "Detector is not able to detect the language reliably.\n",
      "Detector is not able to detect the language reliably.\n",
      "Detector is not able to detect the language reliably.\n",
      "Detector is not able to detect the language reliably.\n",
      "Detector is not able to detect the language reliably.\n",
      "Detector is not able to detect the language reliably.\n",
      "Detector is not able to detect the language reliably.\n",
      "Detector is not able to detect the language reliably.\n",
      "Detector is not able to detect the language reliably.\n",
      "Detector is not able to detect the language reliably.\n"
     ]
    },
    {
     "name": "stdout",
     "output_type": "stream",
     "text": [
      "СушияКиїв, просп. Оболонський, 1б, ТРЦ \"\"Dream Town\"\", Оболонський проспект, 1Б, Киев, 02000Японская кухня\n"
     ]
    },
    {
     "name": "stderr",
     "output_type": "stream",
     "text": [
      "Detector is not able to detect the language reliably.\n",
      "Detector is not able to detect the language reliably.\n"
     ]
    },
    {
     "name": "stdout",
     "output_type": "stream",
     "text": [
      "Ходили сюда еще со времен когда они находились возле Якитории. После переезда все было хорошо, потом хорошо через раз. Теперь вообще на \"\"хорошо\"\" не тянет. Сушия\n"
     ]
    },
    {
     "name": "stderr",
     "output_type": "stream",
     "text": [
      "Detector is not able to detect the language reliably.\n"
     ]
    },
    {
     "name": "stdout",
     "output_type": "stream",
     "text": [
      "24 марта состоится модуль Вознаграждение и мотивация персонала с @100007459004235:2048:Анастасия Осипова (Anastasiia Osypova) - 8 + лет опыта работы в HR сфере (Imperial Tobacco, Сушия, 1+1 Media Group, Leroy Merlin Ukraine, Mary Kay).\r",
      " Цели и задачи компенсационной политики. Фиксированная часть\r",
      " заработной платы: принципы построения, определение\r",
      " справедливости. Связь стратегии бизнеса и компенсации.\r",
      " Система грейдирования.\r",
      " Переменная часть заработной платы. Понятие и виды КРІ,\r",
      " принципы формирования системы КРІ. Премирование.\r",
      " Инструменты\n"
     ]
    },
    {
     "name": "stderr",
     "output_type": "stream",
     "text": [
      "Detector is not able to detect the language reliably.\n"
     ]
    },
    {
     "name": "stdout",
     "output_type": "stream",
     "text": [
      "А как в Одессе с Сушия?\n"
     ]
    },
    {
     "name": "stderr",
     "output_type": "stream",
     "text": [
      "Detector is not able to detect the language reliably.\n",
      "Detector is not able to detect the language reliably.\n",
      "Detector is not able to detect the language reliably.\n",
      "Detector is not able to detect the language reliably.\n",
      "Detector is not able to detect the language reliably.\n"
     ]
    },
    {
     "name": "stdout",
     "output_type": "stream",
     "text": [
      "Ролл\"\"Осака\"\"(начинка:угорь,краб.мясо,авокадо,сыр сверху икра масаго)#sushi#sushi🍣#sushimaniaantalia#sushiantalia#sushishef#суши#сушиwok#сушия\n"
     ]
    },
    {
     "name": "stderr",
     "output_type": "stream",
     "text": [
      "Detector is not able to detect the language reliably.\n"
     ]
    },
    {
     "name": "stdout",
     "output_type": "stream",
     "text": [
      "Киев > Skymall > Сушия\n"
     ]
    },
    {
     "name": "stderr",
     "output_type": "stream",
     "text": [
      "Detector is not able to detect the language reliably.\n",
      "Detector is not able to detect the language reliably.\n",
      "Detector is not able to detect the language reliably.\n",
      "Detector is not able to detect the language reliably.\n"
     ]
    },
    {
     "name": "stdout",
     "output_type": "stream",
     "text": [
      "+ новый Гиви Рубинштейн открылся на Круглой башне, возле Бестии и Сушии)\n"
     ]
    },
    {
     "name": "stderr",
     "output_type": "stream",
     "text": [
      "Detector is not able to detect the language reliably.\n",
      "Detector is not able to detect the language reliably.\n",
      "Detector is not able to detect the language reliably.\n",
      "Detector is not able to detect the language reliably.\n",
      "Detector is not able to detect the language reliably.\n",
      "Detector is not able to detect the language reliably.\n",
      "Detector is not able to detect the language reliably.\n",
      "Detector is not able to detect the language reliably.\n",
      "Detector is not able to detect the language reliably.\n",
      "Detector is not able to detect the language reliably.\n",
      "Detector is not able to detect the language reliably.\n",
      "Detector is not able to detect the language reliably.\n",
      "Detector is not able to detect the language reliably.\n",
      "Detector is not able to detect the language reliably.\n",
      "Detector is not able to detect the language reliably.\n",
      "Detector is not able to detect the language reliably.\n",
      "Detector is not able to detect the language reliably.\n",
      "Detector is not able to detect the language reliably.\n",
      "Detector is not able to detect the language reliably.\n",
      "Detector is not able to detect the language reliably.\n",
      "Detector is not able to detect the language reliably.\n",
      "Detector is not able to detect the language reliably.\n",
      "Detector is not able to detect the language reliably.\n",
      "Detector is not able to detect the language reliably.\n",
      "Detector is not able to detect the language reliably.\n",
      "Detector is not able to detect the language reliably.\n",
      "Detector is not able to detect the language reliably.\n",
      "Detector is not able to detect the language reliably.\n",
      "Detector is not able to detect the language reliably.\n",
      "Detector is not able to detect the language reliably.\n",
      "Detector is not able to detect the language reliably.\n"
     ]
    },
    {
     "name": "stdout",
     "output_type": "stream",
     "text": [
      "#работатакаяработа#бар#бармен#ресторан#сушия\n"
     ]
    },
    {
     "name": "stderr",
     "output_type": "stream",
     "text": [
      "Detector is not able to detect the language reliably.\n"
     ]
    },
    {
     "name": "stdout",
     "output_type": "stream",
     "text": [
      "#сушия  @ Khreshchatyk\n"
     ]
    },
    {
     "name": "stderr",
     "output_type": "stream",
     "text": [
      "Detector is not able to detect the language reliably.\n",
      "Detector is not able to detect the language reliably.\n",
      "Detector is not able to detect the language reliably.\n",
      "Detector is not able to detect the language reliably.\n"
     ]
    },
    {
     "name": "stdout",
     "output_type": "stream",
     "text": [
      "#Обід між сеансами #кіно та бані#эт_я, #вольвове, #myson, #Янсын, #mywife, #children, #семья,#myfamily, #Рада, #моядочь, #обед. @ Сушия\n"
     ]
    },
    {
     "name": "stderr",
     "output_type": "stream",
     "text": [
      "Detector is not able to detect the language reliably.\n",
      "Detector is not able to detect the language reliably.\n",
      "Detector is not able to detect the language reliably.\n",
      "Detector is not able to detect the language reliably.\n"
     ]
    },
    {
     "name": "stdout",
     "output_type": "stream",
     "text": [
      "#forumlviv #сушія #diner\n"
     ]
    },
    {
     "name": "stderr",
     "output_type": "stream",
     "text": [
      "Detector is not able to detect the language reliably.\n",
      "Detector is not able to detect the language reliably.\n",
      "Detector is not able to detect the language reliably.\n",
      "Detector is not able to detect the language reliably.\n",
      "Detector is not able to detect the language reliably.\n",
      "Detector is not able to detect the language reliably.\n",
      "Detector is not able to detect the language reliably.\n",
      "Detector is not able to detect the language reliably.\n",
      "Detector is not able to detect the language reliably.\n",
      "Detector is not able to detect the language reliably.\n",
      "Detector is not able to detect the language reliably.\n",
      "Detector is not able to detect the language reliably.\n"
     ]
    },
    {
     "name": "stdout",
     "output_type": "stream",
     "text": [
      "it's in the water baby, it's in your frequency #placebolyrics #postblue #design #colorful #light #сушия #style #kyiv #kyivgram #kievgram #ukraine\n"
     ]
    },
    {
     "name": "stderr",
     "output_type": "stream",
     "text": [
      "Detector is not able to detect the language reliably.\n",
      "Detector is not able to detect the language reliably.\n",
      "Detector is not able to detect the language reliably.\n",
      "Detector is not able to detect the language reliably.\n",
      "Detector is not able to detect the language reliably.\n",
      "Detector is not able to detect the language reliably.\n",
      "Detector is not able to detect the language reliably.\n",
      "Detector is not able to detect the language reliably.\n",
      "Detector is not able to detect the language reliably.\n",
      "Detector is not able to detect the language reliably.\n",
      "Detector is not able to detect the language reliably.\n"
     ]
    },
    {
     "name": "stdout",
     "output_type": "stream",
     "text": [
      "Сальвадору уже надоело и он собрался домой) @ Сушия\n",
      "Сушия - мережа ресторанів сучасної японської кух, https://vk.com/id35236562?w=wall-30459962_10668\n",
      "Встреча 283 - ИтогПредложений по месту было два: \"\"Фудзивара Ёси\"\" и \"\"Сушия\"\", предложений по теме тоже было два: \"\"игры\"\" - два голоса и \"\"сон\"\" - один голос. По дню - одно предложение, суббота. Итог следующий: следующая встреча японского разговорного клуба состоится в субботу, 10 октября, в 18:00, в ресторане \"\"Сушия\"\", что на ул. Богдана Хмельницкого, 10. Тема встречи: \"\"сон\"\". Столик заказан на имя Дмитрий. Вот карта: https://goo.gl/maps/qifzj3RJNAP2次の　はなしかい　日時：土曜日、10月10日、18:00場所：「Сушия」（「Sushiya」)というレストラン、アドレスは Str. Bohdan Khmelnitsky, 10、 「Teatralna」（119）メトロ駅のすぐ近くにあります。テーブル席を予約した人の名前：Dmitrii はなしかい　の　テーマ：寝ること地図：https://goo.gl/maps/qifzj3RJNAP2\n",
      "Обедик:-)#sushi #sushitime#сушия#работа#обед\n"
     ]
    },
    {
     "name": "stderr",
     "output_type": "stream",
     "text": [
      "Detector is not able to detect the language reliably.\n",
      "Detector is not able to detect the language reliably.\n"
     ]
    },
    {
     "name": "stdout",
     "output_type": "stream",
     "text": [
      "With friend #сушія\n",
      "Для заказа сумочки SAINT LAURENT 22Cm/6Cm/14Cm обращаться @style4you_today Viber/WhatsApp +380506010305 Доставка по всему мируpremium_brend_#любовь#цветы#прогулки#киев#фильм#нижнеебелье#чулки#львов#цветы#фото#картина#гомель#минск#ресторан#мураками#круасан#кофе#сушия#буддабар#весело#\n"
     ]
    },
    {
     "name": "stderr",
     "output_type": "stream",
     "text": [
      "Detector is not able to detect the language reliably.\n",
      "Detector is not able to detect the language reliably.\n",
      "Detector is not able to detect the language reliably.\n",
      "Detector is not able to detect the language reliably.\n",
      "Detector is not able to detect the language reliably.\n",
      "Detector is not able to detect the language reliably.\n"
     ]
    },
    {
     "name": "stdout",
     "output_type": "stream",
     "text": [
      "С папой тут (@ Сушия / @Sushiya_ukraine in Київ, м. Київ) https://www.swarmapp.com/c/5qyDfjQhqR6 \n"
     ]
    },
    {
     "name": "stderr",
     "output_type": "stream",
     "text": [
      "Detector is not able to detect the language reliably.\n",
      "Detector is not able to detect the language reliably.\n",
      "Detector is not able to detect the language reliably.\n",
      "Detector is not able to detect the language reliably.\n"
     ]
    },
    {
     "name": "stdout",
     "output_type": "stream",
     "text": [
      "@empty_bitch я зп получаю от продажи в ресторанах. Евразия, Сушия, Мураками, Челентано, Мафия, Шоколадница и тд\n"
     ]
    },
    {
     "name": "stderr",
     "output_type": "stream",
     "text": [
      "Detector is not able to detect the language reliably.\n",
      "Detector is not able to detect the language reliably.\n"
     ]
    },
    {
     "name": "stdout",
     "output_type": "stream",
     "text": [
      "Действительно доброе утро (@ Сушия / @Sushiya_ukraine in Дніпропетровськ, Дніпропетровська область) https://www.swarmapp.com/c/jt1MhIEhlQa \n"
     ]
    },
    {
     "name": "stderr",
     "output_type": "stream",
     "text": [
      "Detector is not able to detect the language reliably.\n",
      "Detector is not able to detect the language reliably.\n",
      "Detector is not able to detect the language reliably.\n",
      "Detector is not able to detect the language reliably.\n",
      "Detector is not able to detect the language reliably.\n",
      "Detector is not able to detect the language reliably.\n",
      "Detector is not able to detect the language reliably.\n",
      "Detector is not able to detect the language reliably.\n",
      "Detector is not able to detect the language reliably.\n",
      "Detector is not able to detect the language reliably.\n"
     ]
    },
    {
     "name": "stdout",
     "output_type": "stream",
     "text": [
      "Сушшшши :))))))) @ Сушия\n"
     ]
    },
    {
     "name": "stderr",
     "output_type": "stream",
     "text": [
      "Detector is not able to detect the language reliably.\n",
      "Detector is not able to detect the language reliably.\n",
      "Detector is not able to detect the language reliably.\n",
      "Detector is not able to detect the language reliably.\n"
     ]
    },
    {
     "name": "stdout",
     "output_type": "stream",
     "text": [
      "#forumlviv#сушия#доця_кохана\n"
     ]
    },
    {
     "name": "stderr",
     "output_type": "stream",
     "text": [
      "Detector is not able to detect the language reliably.\n",
      "Detector is not able to detect the language reliably.\n",
      "Detector is not able to detect the language reliably.\n"
     ]
    },
    {
     "name": "stdout",
     "output_type": "stream",
     "text": [
      "Ням #sushiya\n"
     ]
    },
    {
     "name": "stderr",
     "output_type": "stream",
     "text": [
      "Detector is not able to detect the language reliably.\n"
     ]
    },
    {
     "name": "stdout",
     "output_type": "stream",
     "text": [
      " (@ Сушия / @Sushiya_ukraine in Київ, м. Київ) https://www.swarmapp.com/c/hEVSBsODsOU \n",
      "Взяли собі з @lizaaaaa_Nd  в Сушия вина,красіво\n",
      "Сушия\\Варенична моя любимая кисуля@forkeps #rest_in_cherkassy #ukraine #ukrainiangirl #bff #mybaby #photooftheday #україна #девочкитакиедевочки #лучшаяподруга #любовь\n"
     ]
    },
    {
     "name": "stderr",
     "output_type": "stream",
     "text": [
      "Detector is not able to detect the language reliably.\n"
     ]
    },
    {
     "name": "stdout",
     "output_type": "stream",
     "text": [
      "#посиденьки#зкоханою@grynchuk_natalia#форумЛьвів#сушия\n"
     ]
    },
    {
     "name": "stderr",
     "output_type": "stream",
     "text": [
      "Detector is not able to detect the language reliably.\n",
      "Detector is not able to detect the language reliably.\n",
      "Detector is not able to detect the language reliably.\n",
      "Detector is not able to detect the language reliably.\n"
     ]
    },
    {
     "name": "stdout",
     "output_type": "stream",
     "text": [
      "#деньрождениясестры #ДримТаун #DreamTown #сушия #sushiya #лимонад #мятныйлимонад #мирдолжензнатьчтояем #goodtime #goodemotions\n",
      "встретились наконец))) младшие лейтенанты ЗСУ @ Сушия Южный Вокзал\n",
      "подготовка к Halloween @ Офис Сушия\n"
     ]
    },
    {
     "name": "stderr",
     "output_type": "stream",
     "text": [
      "Detector is not able to detect the language reliably.\n",
      "Detector is not able to detect the language reliably.\n",
      "Detector is not able to detect the language reliably.\n",
      "Detector is not able to detect the language reliably.\n",
      "Detector is not able to detect the language reliably.\n"
     ]
    },
    {
     "name": "stdout",
     "output_type": "stream",
     "text": [
      "#goodtimes #отдыхаем #отличныевыходные #goodday #yyuumm #sushitime #sushki #mmm #сушия #yum #sushilove #photooftheday #happy #followme #followforfollow #follow4follow #life #dp #sushi #likeforlike #dneprgram #like4like #commentslikes #f4f #l4l #20likes #100likes #tagsforlikes #instalike #instagood\n",
      "Колектив \"\"Сушия\"\" Ocean Plaza приветствует #сушия\n"
     ]
    },
    {
     "name": "stderr",
     "output_type": "stream",
     "text": [
      "Detector is not able to detect the language reliably.\n",
      "Detector is not able to detect the language reliably.\n",
      "Detector is not able to detect the language reliably.\n",
      "Detector is not able to detect the language reliably.\n",
      "Detector is not able to detect the language reliably.\n",
      "Detector is not able to detect the language reliably.\n",
      "Detector is not able to detect the language reliably.\n",
      "Detector is not able to detect the language reliably.\n"
     ]
    },
    {
     "name": "stdout",
     "output_type": "stream",
     "text": [
      "(@ Сушия / @Sushiya_ukraine in Київ, м. Київ) https://www.swarmapp.com/c/77erOpLm4Dt \n"
     ]
    },
    {
     "name": "stderr",
     "output_type": "stream",
     "text": [
      "Detector is not able to detect the language reliably.\n",
      "Detector is not able to detect the language reliably.\n"
     ]
    },
    {
     "name": "stdout",
     "output_type": "stream",
     "text": [
      "Делаю запоминающиеся портреты от 200$ Viber:+380637963072 #beauty #beautiful #model #portait #girl #face #freshart #sexy #pretty #style #makeup #editorial #смоки #smokyeyes #портоет #девушка #бьюти #секси #красотка #модель #взгляд #макияж #стиль #портрет #крупныйплан #freshart #мостсити #украина #ukraine #днепропетровск #днепр #модель #украинка #мышибляхера #coast #чарли #репортер #синегина #sinegina #подворотня #пальмира #феличита #бирхаус #сушия #макияж @ Мясоедовская в7\n"
     ]
    },
    {
     "name": "stderr",
     "output_type": "stream",
     "text": [
      "Detector is not able to detect the language reliably.\n",
      "Detector is not able to detect the language reliably.\n",
      "Detector is not able to detect the language reliably.\n",
      "Detector is not able to detect the language reliably.\n",
      "Detector is not able to detect the language reliably.\n",
      "Detector is not able to detect the language reliably.\n"
     ]
    },
    {
     "name": "stdout",
     "output_type": "stream",
     "text": [
      "Снеговичок  #nofilter @ Сушия\n"
     ]
    },
    {
     "name": "stderr",
     "output_type": "stream",
     "text": [
      "Detector is not able to detect the language reliably.\n",
      "Detector is not able to detect the language reliably.\n",
      "Detector is not able to detect the language reliably.\n",
      "Detector is not able to detect the language reliably.\n"
     ]
    },
    {
     "name": "stdout",
     "output_type": "stream",
     "text": [
      "#капучино #сушия #одесса\n",
      "заказала #хэллоуин #helloween #сушиЯ #сушия\n"
     ]
    },
    {
     "name": "stderr",
     "output_type": "stream",
     "text": [
      "Detector is not able to detect the language reliably.\n",
      "Detector is not able to detect the language reliably.\n",
      "Detector is not able to detect the language reliably.\n",
      "Detector is not able to detect the language reliably.\n",
      "Detector is not able to detect the language reliably.\n",
      "Detector is not able to detect the language reliably.\n",
      "Detector is not able to detect the language reliably.\n",
      "Detector is not able to detect the language reliably.\n",
      "Detector is not able to detect the language reliably.\n"
     ]
    },
    {
     "name": "stdout",
     "output_type": "stream",
     "text": [
      "Няшка* #обожаю #панд #хочу @ Сушия Трц\"\"район\"\", Лаврухина\n"
     ]
    },
    {
     "name": "stderr",
     "output_type": "stream",
     "text": [
      "Detector is not able to detect the language reliably.\n"
     ]
    },
    {
     "name": "stdout",
     "output_type": "stream",
     "text": [
      "слово peperama blokc звездопад дурак bouncing ball sudoku 1-2-3-4 фильворды casta сушия\n"
     ]
    },
    {
     "name": "stderr",
     "output_type": "stream",
     "text": [
      "Detector is not able to detect the language reliably.\n"
     ]
    },
    {
     "name": "stdout",
     "output_type": "stream",
     "text": [
      "#сушия #girl #girls\n"
     ]
    },
    {
     "name": "stderr",
     "output_type": "stream",
     "text": [
      "Detector is not able to detect the language reliably.\n"
     ]
    },
    {
     "name": "stdout",
     "output_type": "stream",
     "text": [
      "Отзыв по проекту: Постановка и автоматизация бюджетного управления и управленческого учета в компании «СушиЯ»... http://fb.me/6MJ2ynwTJ \n"
     ]
    },
    {
     "name": "stderr",
     "output_type": "stream",
     "text": [
      "Detector is not able to detect the language reliably.\n",
      "Detector is not able to detect the language reliably.\n",
      "Detector is not able to detect the language reliably.\n",
      "Detector is not able to detect the language reliably.\n",
      "Detector is not able to detect the language reliably.\n",
      "Detector is not able to detect the language reliably.\n",
      "Detector is not able to detect the language reliably.\n"
     ]
    },
    {
     "name": "stdout",
     "output_type": "stream",
     "text": [
      "СушиЯ, скажите пожалуйста как получить сертификат?\n"
     ]
    },
    {
     "name": "stderr",
     "output_type": "stream",
     "text": [
      "Detector is not able to detect the language reliably.\n",
      "Detector is not able to detect the language reliably.\n"
     ]
    },
    {
     "name": "stdout",
     "output_type": "stream",
     "text": [
      "#Київ#oceanplaza #сушиЯ\n"
     ]
    },
    {
     "name": "stderr",
     "output_type": "stream",
     "text": [
      "Detector is not able to detect the language reliably.\n",
      "Detector is not able to detect the language reliably.\n",
      "Detector is not able to detect the language reliably.\n",
      "Detector is not able to detect the language reliably.\n",
      "Detector is not able to detect the language reliably.\n",
      "Detector is not able to detect the language reliably.\n",
      "Detector is not able to detect the language reliably.\n"
     ]
    },
    {
     "name": "stdout",
     "output_type": "stream",
     "text": [
      "Уважаемый представитель Сушия Вконтакте, свяжитесь пожалуйста через ПМ, есть вопрос. Заранее спасибо\n",
      "#сушия#сушиwok#ням-ням\n"
     ]
    },
    {
     "name": "stderr",
     "output_type": "stream",
     "text": [
      "Detector is not able to detect the language reliably.\n",
      "Detector is not able to detect the language reliably.\n",
      "Detector is not able to detect the language reliably.\n"
     ]
    },
    {
     "name": "stdout",
     "output_type": "stream",
     "text": [
      "#рыбки #природа #yellow #сушия #instagram #instamagandroid #greatday #likeforlike #smile @ Сушия\n"
     ]
    },
    {
     "name": "stderr",
     "output_type": "stream",
     "text": [
      "Detector is not able to detect the language reliably.\n",
      "Detector is not able to detect the language reliably.\n",
      "Detector is not able to detect the language reliably.\n",
      "Detector is not able to detect the language reliably.\n",
      "Detector is not able to detect the language reliably.\n",
      "Detector is not able to detect the language reliably.\n",
      "Detector is not able to detect the language reliably.\n",
      "Detector is not able to detect the language reliably.\n"
     ]
    },
    {
     "name": "stdout",
     "output_type": "stream",
     "text": [
      "Романтик #amazing #sushi #rolls #yum #foodporn #wine #сушия #фотоеды #мирдолжензнатьчтояем\n"
     ]
    },
    {
     "name": "stderr",
     "output_type": "stream",
     "text": [
      "Detector is not able to detect the language reliably.\n",
      "Detector is not able to detect the language reliably.\n",
      "Detector is not able to detect the language reliably.\n",
      "Detector is not able to detect the language reliably.\n",
      "Detector is not able to detect the language reliably.\n",
      "Detector is not able to detect the language reliably.\n",
      "Detector is not able to detect the language reliably.\n",
      "Detector is not able to detect the language reliably.\n",
      "Detector is not able to detect the language reliably.\n"
     ]
    },
    {
     "name": "stdout",
     "output_type": "stream",
     "text": [
      " @ Сушия Ocean Plaza\n"
     ]
    },
    {
     "name": "stderr",
     "output_type": "stream",
     "text": [
      "Detector is not able to detect the language reliably.\n",
      "Detector is not able to detect the language reliably.\n",
      "Detector is not able to detect the language reliably.\n",
      "Detector is not able to detect the language reliably.\n"
     ]
    },
    {
     "name": "stdout",
     "output_type": "stream",
     "text": [
      "#sushiya #суши с @natalia_ostapenko_ \n"
     ]
    },
    {
     "name": "stderr",
     "output_type": "stream",
     "text": [
      "Detector is not able to detect the language reliably.\n",
      "Detector is not able to detect the language reliably.\n",
      "Detector is not able to detect the language reliably.\n",
      "Detector is not able to detect the language reliably.\n",
      "Detector is not able to detect the language reliably.\n"
     ]
    },
    {
     "name": "stdout",
     "output_type": "stream",
     "text": [
      "Forum Lviv#сушиЯ\n"
     ]
    },
    {
     "name": "stderr",
     "output_type": "stream",
     "text": [
      "Detector is not able to detect the language reliably.\n",
      "Detector is not able to detect the language reliably.\n",
      "Detector is not able to detect the language reliably.\n",
      "Detector is not able to detect the language reliably.\n",
      "Detector is not able to detect the language reliably.\n",
      "Detector is not able to detect the language reliably.\n"
     ]
    },
    {
     "name": "stdout",
     "output_type": "stream",
     "text": [
      "И никаких углеводов) (@ Сушия / @Sushiya_ukraine in Київ, м. Київ) https://www.swarmapp.com/c/2vWU3WnU0Dg \n"
     ]
    },
    {
     "name": "stderr",
     "output_type": "stream",
     "text": [
      "Detector is not able to detect the language reliably.\n",
      "Detector is not able to detect the language reliably.\n"
     ]
    },
    {
     "name": "stdout",
     "output_type": "stream",
     "text": [
      "Есть ТРИ типа женщин: которые пекут торты, которые выпрыгивают из них и такие, как я - которые только жрут их!)) @ Сушия Я, На Малышка 3\n"
     ]
    },
    {
     "name": "stderr",
     "output_type": "stream",
     "text": [
      "Detector is not able to detect the language reliably.\n",
      "Detector is not able to detect the language reliably.\n",
      "Detector is not able to detect the language reliably.\n",
      "Detector is not able to detect the language reliably.\n",
      "Detector is not able to detect the language reliably.\n"
     ]
    },
    {
     "name": "stdout",
     "output_type": "stream",
     "text": [
      "Заправляемся и отдыхать) #pcmedved #kiev #ukraine @ Сушия Арена\n"
     ]
    },
    {
     "name": "stderr",
     "output_type": "stream",
     "text": [
      "Detector is not able to detect the language reliably.\n",
      "Detector is not able to detect the language reliably.\n",
      "Detector is not able to detect the language reliably.\n",
      "Detector is not able to detect the language reliably.\n",
      "Detector is not able to detect the language reliably.\n",
      "Detector is not able to detect the language reliably.\n"
     ]
    },
    {
     "name": "stdout",
     "output_type": "stream",
     "text": [
      "#fish #orangefish #сушия #sushiya\n"
     ]
    },
    {
     "name": "stderr",
     "output_type": "stream",
     "text": [
      "Detector is not able to detect the language reliably.\n",
      "Detector is not able to detect the language reliably.\n",
      "Detector is not able to detect the language reliably.\n",
      "Detector is not able to detect the language reliably.\n",
      "Detector is not able to detect the language reliably.\n",
      "Detector is not able to detect the language reliably.\n",
      "Detector is not able to detect the language reliably.\n",
      "Detector is not able to detect the language reliably.\n",
      "Detector is not able to detect the language reliably.\n",
      "Detector is not able to detect the language reliably.\n",
      "Detector is not able to detect the language reliably.\n",
      "Detector is not able to detect the language reliably.\n"
     ]
    },
    {
     "name": "stdout",
     "output_type": "stream",
     "text": [
      "###Одесса##Сушия###\n",
      "наїлося сушЕй до ушей #ukraine #Украина #kiev #autumn #troeshina #nature #smartphonephotography #galaxyS #galaxys4 #instamood #instadaily #осень #киев #всякаяфигня #ukraingram #picoftheday #city #ноябрь #november #sweetnovember #food #foodporn #sushi #sushitime #sushiya #троещина\n"
     ]
    },
    {
     "name": "stderr",
     "output_type": "stream",
     "text": [
      "Detector is not able to detect the language reliably.\n",
      "Detector is not able to detect the language reliably.\n"
     ]
    },
    {
     "name": "stdout",
     "output_type": "stream",
     "text": [
      "Ох этот день студента...#студенты#филологи#сушия#вместопар#праздник\n"
     ]
    },
    {
     "name": "stderr",
     "output_type": "stream",
     "text": [
      "Detector is not able to detect the language reliably.\n",
      "Detector is not able to detect the language reliably.\n",
      "Detector is not able to detect the language reliably.\n",
      "Detector is not able to detect the language reliably.\n",
      "Detector is not able to detect the language reliably.\n",
      "Detector is not able to detect the language reliably.\n",
      "Detector is not able to detect the language reliably.\n",
      "Detector is not able to detect the language reliably.\n",
      "Detector is not able to detect the language reliably.\n",
      "Detector is not able to detect the language reliably.\n",
      "Detector is not able to detect the language reliably.\n",
      "Detector is not able to detect the language reliably.\n"
     ]
    },
    {
     "name": "stdout",
     "output_type": "stream",
     "text": [
      "Сидимо з @chernetskaolka #forumlviv #сушия #tagsforlikes #likesforlikes #instalike #tags4like #follow4follow #follow #me\n"
     ]
    },
    {
     "name": "stderr",
     "output_type": "stream",
     "text": [
      "Detector is not able to detect the language reliably.\n",
      "Detector is not able to detect the language reliably.\n",
      "Detector is not able to detect the language reliably.\n",
      "Detector is not able to detect the language reliably.\n"
     ]
    },
    {
     "name": "stdout",
     "output_type": "stream",
     "text": [
      "СЕО Сушия, Роман Романчук о том, как по-разному воспринимается работа маркетинг-отдела со стороны СЕО, маркетинга и других отделов #vshk\n"
     ]
    },
    {
     "name": "stderr",
     "output_type": "stream",
     "text": [
      "Detector is not able to detect the language reliably.\n",
      "Detector is not able to detect the language reliably.\n",
      "Detector is not able to detect the language reliably.\n",
      "Detector is not able to detect the language reliably.\n",
      "Detector is not able to detect the language reliably.\n"
     ]
    },
    {
     "name": "stdout",
     "output_type": "stream",
     "text": [
      "Суши, Ролы и Приколы Ужин с любимой в СушиЯ by danil_oberkovych #Харків Место съемки: http://bit.ly/1PDYUWv  \n"
     ]
    },
    {
     "name": "stderr",
     "output_type": "stream",
     "text": [
      "Detector is not able to detect the language reliably.\n"
     ]
    },
    {
     "name": "stdout",
     "output_type": "stream",
     "text": [
      "#forum_lviv #сушия\n"
     ]
    },
    {
     "name": "stderr",
     "output_type": "stream",
     "text": [
      "Detector is not able to detect the language reliably.\n",
      "Detector is not able to detect the language reliably.\n",
      "Detector is not able to detect the language reliably.\n",
      "Detector is not able to detect the language reliably.\n",
      "Detector is not able to detect the language reliably.\n",
      "Detector is not able to detect the language reliably.\n",
      "Detector is not able to detect the language reliably.\n"
     ]
    },
    {
     "name": "stdout",
     "output_type": "stream",
     "text": [
      "Обед (@ Сушия / @Sushiya_ukraine in Одеса, Одеська область) https://www.swarmapp.com/c/bTD7zItqb9R \n",
      "#Одесса #Выходной #Дерибасовская #Сушия\n"
     ]
    },
    {
     "name": "stderr",
     "output_type": "stream",
     "text": [
      "Detector is not able to detect the language reliably.\n",
      "Detector is not able to detect the language reliably.\n",
      "Detector is not able to detect the language reliably.\n"
     ]
    },
    {
     "name": "stdout",
     "output_type": "stream",
     "text": [
      "Мой ангел @ Сушия Я, На Малышка 3\n"
     ]
    },
    {
     "name": "stderr",
     "output_type": "stream",
     "text": [
      "Detector is not able to detect the language reliably.\n"
     ]
    },
    {
     "name": "stdout",
     "output_type": "stream",
     "text": [
      "Чекин что-ли. 100 лет не чекинился. (@ Сушия / @Sushiya_ukraine in Харків, Харківська обл.) http://4sq.com/1PHKoNq \n"
     ]
    },
    {
     "name": "stderr",
     "output_type": "stream",
     "text": [
      "Detector is not able to detect the language reliably.\n",
      "Detector is not able to detect the language reliably.\n",
      "Detector is not able to detect the language reliably.\n"
     ]
    },
    {
     "name": "stdout",
     "output_type": "stream",
     "text": [
      "со старым Новым годом, ребьзя сдачу экзамена отметили в \"\"Сушия\"\" и песнями в такси а теперь планируется шампанское в честь праздничка\n"
     ]
    },
    {
     "name": "stderr",
     "output_type": "stream",
     "text": [
      "Detector is not able to detect the language reliably.\n",
      "Detector is not able to detect the language reliably.\n",
      "Detector is not able to detect the language reliably.\n",
      "Detector is not able to detect the language reliably.\n",
      "Detector is not able to detect the language reliably.\n",
      "Detector is not able to detect the language reliably.\n",
      "Detector is not able to detect the language reliably.\n"
     ]
    },
    {
     "name": "stdout",
     "output_type": "stream",
     "text": [
      "С милым (@ Сушия / @Sushiya_ukraine in Київ, м. Київ) https://www.swarmapp.com/c/5xmWRzDiYg8\n"
     ]
    },
    {
     "name": "stderr",
     "output_type": "stream",
     "text": [
      "Detector is not able to detect the language reliably.\n",
      "Detector is not able to detect the language reliably.\n",
      "Detector is not able to detect the language reliably.\n",
      "Detector is not able to detect the language reliably.\n",
      "Detector is not able to detect the language reliably.\n",
      "Detector is not able to detect the language reliably.\n",
      "Detector is not able to detect the language reliably.\n",
      "Detector is not able to detect the language reliably.\n",
      "Detector is not able to detect the language reliably.\n"
     ]
    },
    {
     "name": "stdout",
     "output_type": "stream",
     "text": [
      "Куртку не купили, пошли есть (@ Сушия / @Sushiya_ukraine in Київ, м. Київ) https://www.swarmapp.com/c/dwrKqNPO22x \n",
      "Время подкрепиться, пока малышку переобувают  (@ Сушия / @Sushiya_ukraine in Київ, м. Київ) https://www.swarmapp.com/c/ihYkyD3W2vU \n"
     ]
    },
    {
     "name": "stderr",
     "output_type": "stream",
     "text": [
      "Detector is not able to detect the language reliably.\n"
     ]
    },
    {
     "name": "stdout",
     "output_type": "stream",
     "text": [
      "Лимонадик после рабочего дня ! Божественно ! #сушия #olgashynkarenko @… https://instagram.com/p/-o5g98q1NFgXBYGVG__wxVJfc11beB0xmAmgs0/ …\n"
     ]
    },
    {
     "name": "stderr",
     "output_type": "stream",
     "text": [
      "Detector is not able to detect the language reliably.\n",
      "Detector is not able to detect the language reliably.\n",
      "Detector is not able to detect the language reliably.\n",
      "Detector is not able to detect the language reliably.\n",
      "Detector is not able to detect the language reliably.\n",
      "Detector is not able to detect the language reliably.\n"
     ]
    },
    {
     "name": "stdout",
     "output_type": "stream",
     "text": [
      "3 дня беспрерывных тусовок)#у_тебя_еbло_шире#традиция#Crystal_Club#барильеф#Indigo#СушиЯ#Компашка#Вписка_у_Рости#Бимба#устали\n"
     ]
    },
    {
     "name": "stderr",
     "output_type": "stream",
     "text": [
      "Detector is not able to detect the language reliably.\n",
      "Detector is not able to detect the language reliably.\n",
      "Detector is not able to detect the language reliably.\n",
      "Detector is not able to detect the language reliably.\n",
      "Detector is not able to detect the language reliably.\n",
      "Detector is not able to detect the language reliably.\n",
      "Detector is not able to detect the language reliably.\n",
      "Detector is not able to detect the language reliably.\n",
      "Detector is not able to detect the language reliably.\n",
      "Detector is not able to detect the language reliably.\n",
      "Detector is not able to detect the language reliably.\n",
      "Detector is not able to detect the language reliably.\n",
      "Detector is not able to detect the language reliably.\n",
      "Detector is not able to detect the language reliably.\n",
      "Detector is not able to detect the language reliably.\n",
      "Detector is not able to detect the language reliably.\n",
      "Detector is not able to detect the language reliably.\n",
      "Detector is not able to detect the language reliably.\n"
     ]
    },
    {
     "name": "stdout",
     "output_type": "stream",
     "text": [
      "Сити,СушиЯ . Экспресс не рекомендую,отравилась. Еще есть доставка из Терра Маре\n",
      "#посидели #былокруто #cool #lmissyou #давнотакневеселилась @ Сушия\n",
      "#Киев #Україна #rue #building #Украина #вулиця #місто #город #день #столица #Kiev #архитектура #мак #сушия #здание #метробуд #Ukraine #архітектура #улица #city #красиво #красота #будинок #макдоналдс #Kyiv #day #capital #architecture #Київ #beautiful\n"
     ]
    },
    {
     "name": "stderr",
     "output_type": "stream",
     "text": [
      "Detector is not able to detect the language reliably.\n",
      "Detector is not able to detect the language reliably.\n",
      "Detector is not able to detect the language reliably.\n",
      "Detector is not able to detect the language reliably.\n",
      "Detector is not able to detect the language reliably.\n"
     ]
    },
    {
     "name": "stdout",
     "output_type": "stream",
     "text": [
      "#тусадома #сушы #сушия #мышарик #шарик #креизи #френдс\n"
     ]
    },
    {
     "name": "stderr",
     "output_type": "stream",
     "text": [
      "Detector is not able to detect the language reliably.\n",
      "Detector is not able to detect the language reliably.\n",
      "Detector is not able to detect the language reliably.\n",
      "Detector is not able to detect the language reliably.\n",
      "Detector is not able to detect the language reliably.\n",
      "Detector is not able to detect the language reliably.\n"
     ]
    },
    {
     "name": "stdout",
     "output_type": "stream",
     "text": [
      "Моя непоседа @ Сушия\n"
     ]
    },
    {
     "name": "stderr",
     "output_type": "stream",
     "text": [
      "Detector is not able to detect the language reliably.\n",
      "Detector is not able to detect the language reliably.\n",
      "Detector is not able to detect the language reliably.\n",
      "Detector is not able to detect the language reliably.\n",
      "Detector is not able to detect the language reliably.\n"
     ]
    },
    {
     "name": "stdout",
     "output_type": "stream",
     "text": [
      "#здаладержавнийекзамен #заслужила #sushi#myNatali @ Сушия Forum Lviv\n",
      "Вадим, спасибо за Ваш ответ. С уважением, Юлия, служба поддержки Сушия\n",
      "Я ЗА встречу! Могу в любой день, но по времени во второй половине дня (до14,00 занята буду) а место не принципиально. можно в центре где нибудь. кстати, на московской там где раньше была якитория (или сушия...не помню уже...) теперь неплохая забегаловка ЧЕМОДАН. или в Пузатой хате на короленко\n"
     ]
    },
    {
     "name": "stderr",
     "output_type": "stream",
     "text": [
      "Detector is not able to detect the language reliably.\n",
      "Detector is not able to detect the language reliably.\n"
     ]
    },
    {
     "name": "stdout",
     "output_type": "stream",
     "text": [
      "#сушия #почтивсевзборе #полныйротеды\n",
      "#YBS @ Сушия Я, На Малышка 3\n"
     ]
    },
    {
     "name": "stderr",
     "output_type": "stream",
     "text": [
      "Detector is not able to detect the language reliably.\n",
      "Detector is not able to detect the language reliably.\n",
      "Detector is not able to detect the language reliably.\n"
     ]
    },
    {
     "name": "stdout",
     "output_type": "stream",
     "text": [
      "#Чтобвсемейнойжизнивсебылотакхорошо#какнамвчера# @ Сушия Трц\"\"район\"\", Лаврухина\n",
      "#she is very #busy #mammy #mylove #kiev #ontheway to #lviv @ Сушия Южный Вокзал\n"
     ]
    },
    {
     "name": "stderr",
     "output_type": "stream",
     "text": [
      "Detector is not able to detect the language reliably.\n"
     ]
    },
    {
     "name": "stdout",
     "output_type": "stream",
     "text": [
      "#сушия#forum_lviv\n"
     ]
    },
    {
     "name": "stderr",
     "output_type": "stream",
     "text": [
      "Detector is not able to detect the language reliably.\n",
      "Detector is not able to detect the language reliably.\n",
      "Detector is not able to detect the language reliably.\n",
      "Detector is not able to detect the language reliably.\n",
      "Detector is not able to detect the language reliably.\n",
      "Detector is not able to detect the language reliably.\n"
     ]
    },
    {
     "name": "stdout",
     "output_type": "stream",
     "text": [
      "После 7-ми часового #brainstorm прогулка по Русановке #silver_breeze #сушия\n",
      "Отметить 9 месяцев и хорошое выступление на концерте (@ Сушия / @Sushiya_ukraine in Київ, м. Київ w/ @sonya_oh) https://www.swarmapp.com/c/lgxmN0Y9T9N \n",
      "Прилечу и сразу с аэропорта поеду в сушию\n"
     ]
    },
    {
     "name": "stderr",
     "output_type": "stream",
     "text": [
      "Detector is not able to detect the language reliably.\n",
      "Detector is not able to detect the language reliably.\n",
      "Detector is not able to detect the language reliably.\n",
      "Detector is not able to detect the language reliably.\n",
      "Detector is not able to detect the language reliably.\n",
      "Detector is not able to detect the language reliably.\n",
      "Detector is not able to detect the language reliably.\n",
      "Detector is not able to detect the language reliably.\n"
     ]
    },
    {
     "name": "stdout",
     "output_type": "stream",
     "text": [
      "Work.ua > Кассир (Сушия, ТОВ) — Одесса: полная занятость. http://dlvr.it/D2Mv8f  #Одесса #pабота\n",
      "#Kyiv #Ukraine #girls #girlkyiv #Guys @ Сушия Ул. Крещатик, 13/2\n"
     ]
    },
    {
     "name": "stderr",
     "output_type": "stream",
     "text": [
      "Detector is not able to detect the language reliably.\n",
      "Detector is not able to detect the language reliably.\n",
      "Detector is not able to detect the language reliably.\n",
      "Detector is not able to detect the language reliably.\n",
      "Detector is not able to detect the language reliably.\n",
      "Detector is not able to detect the language reliably.\n",
      "Detector is not able to detect the language reliably.\n",
      "Detector is not able to detect the language reliably.\n",
      "Detector is not able to detect the language reliably.\n",
      "Detector is not able to detect the language reliably.\n",
      "Detector is not able to detect the language reliably.\n",
      "Detector is not able to detect the language reliably.\n",
      "Detector is not able to detect the language reliably.\n",
      "Detector is not able to detect the language reliably.\n",
      "Detector is not able to detect the language reliably.\n",
      "Detector is not able to detect the language reliably.\n"
     ]
    },
    {
     "name": "stdout",
     "output_type": "stream",
     "text": [
      "Полный итоговый список закрытых заведений в Донецке 2014 - 2015 года: 1. Два товарища2. Крузо3. Creme4. Charte Bar в ТРЦ Донецк-Сити5. El Torro6. Дерёвня7. Pasta Project8. Арбуз9. Fashion Cake на Пушкина10. Fashion Cake в ТРЦ Донецк-Сити11. Сушия в ТРЦ Золотое Кольцо12. Avenue13. Ливерпуль14. Панорама15.Бухарест16.Tabasco17.Bassano18. Шопен-Гоген в ТЦ Форум19. Фартовый20. Забей21. Больше жизни22. Озерный23. Биф Фиш Гриль24. Волконский25. Старгород\n"
     ]
    },
    {
     "name": "stderr",
     "output_type": "stream",
     "text": [
      "Detector is not able to detect the language reliably.\n",
      "Detector is not able to detect the language reliably.\n",
      "Detector is not able to detect the language reliably.\n",
      "Detector is not able to detect the language reliably.\n",
      "Detector is not able to detect the language reliably.\n",
      "Detector is not able to detect the language reliably.\n"
     ]
    },
    {
     "name": "stdout",
     "output_type": "stream",
     "text": [
      "#обнімашки #сушия @ Kyiv, Ukraine\n"
     ]
    },
    {
     "name": "stderr",
     "output_type": "stream",
     "text": [
      "Detector is not able to detect the language reliably.\n",
      "Detector is not able to detect the language reliably.\n",
      "Detector is not able to detect the language reliably.\n",
      "Detector is not able to detect the language reliably.\n",
      "Detector is not able to detect the language reliably.\n",
      "Detector is not able to detect the language reliably.\n",
      "Detector is not able to detect the language reliably.\n",
      "Detector is not able to detect the language reliably.\n",
      "Detector is not able to detect the language reliably.\n",
      "Detector is not able to detect the language reliably.\n",
      "Detector is not able to detect the language reliably.\n",
      "Detector is not able to detect the language reliably.\n",
      "Detector is not able to detect the language reliably.\n"
     ]
    },
    {
     "name": "stdout",
     "output_type": "stream",
     "text": [
      "Fashion портреты - Viber:+380637963072 #portait #портрет #крупныйплан #freshart #мостсити #украина #ukraine #днепропетровск #днепр #молель #украинка #мышибляхера #coast #чарли #репортер #синегина #sinegina #подворотня #пальмира #феличита #бирхаус #сушия #макияж #яркиймакияж #блестки #ночь #гламур @ Escobar / Эскобар\n"
     ]
    },
    {
     "name": "stderr",
     "output_type": "stream",
     "text": [
      "Detector is not able to detect the language reliably.\n",
      "Detector is not able to detect the language reliably.\n",
      "Detector is not able to detect the language reliably.\n",
      "Detector is not able to detect the language reliably.\n",
      "Detector is not able to detect the language reliably.\n",
      "Detector is not able to detect the language reliably.\n"
     ]
    },
    {
     "name": "stdout",
     "output_type": "stream",
     "text": [
      "#сушия #сушияодесса #Одесса #одесса #iloveodessa #sushi #sushiart #хорошеенастроение #суши #роллы @ Deribasivska Street\n",
      "#сушия #сушияодесса #Одесса #одесса #iloveodessa #sushi #sushiart #хорошеенастроение #суши #роллы\n",
      "Рідний #7я @ Сушия @ Aeromall\n"
     ]
    },
    {
     "name": "stderr",
     "output_type": "stream",
     "text": [
      "Detector is not able to detect the language reliably.\n",
      "Detector is not able to detect the language reliably.\n",
      "Detector is not able to detect the language reliably.\n",
      "Detector is not able to detect the language reliably.\n",
      "Detector is not able to detect the language reliably.\n",
      "Detector is not able to detect the language reliably.\n",
      "Detector is not able to detect the language reliably.\n",
      "Detector is not able to detect the language reliably.\n",
      "Detector is not able to detect the language reliably.\n",
      "Detector is not able to detect the language reliably.\n",
      "Detector is not able to detect the language reliably.\n",
      "Detector is not able to detect the language reliably.\n",
      "Detector is not able to detect the language reliably.\n",
      "Detector is not able to detect the language reliably.\n",
      "Detector is not able to detect the language reliably.\n",
      "Detector is not able to detect the language reliably.\n",
      "Detector is not able to detect the language reliably.\n",
      "Detector is not able to detect the language reliably.\n",
      "Detector is not able to detect the language reliably.\n",
      "Detector is not able to detect the language reliably.\n",
      "Detector is not able to detect the language reliably.\n",
      "Detector is not able to detect the language reliably.\n",
      "Detector is not able to detect the language reliably.\n",
      "Detector is not able to detect the language reliably.\n",
      "Detector is not able to detect the language reliably.\n",
      "Detector is not able to detect the language reliably.\n",
      "Detector is not able to detect the language reliably.\n",
      "Detector is not able to detect the language reliably.\n",
      "Detector is not able to detect the language reliably.\n",
      "Detector is not able to detect the language reliably.\n"
     ]
    },
    {
     "name": "stdout",
     "output_type": "stream",
     "text": [
      "Work.ua > Кассир (Сушия, ТОВ) — Одесса: полная занятость. http://dlvr.it/D7r23w  #Одесса #pабота\n"
     ]
    },
    {
     "name": "stderr",
     "output_type": "stream",
     "text": [
      "Detector is not able to detect the language reliably.\n",
      "Detector is not able to detect the language reliably.\n",
      "Detector is not able to detect the language reliably.\n",
      "Detector is not able to detect the language reliably.\n",
      "Detector is not able to detect the language reliably.\n"
     ]
    },
    {
     "name": "stdout",
     "output_type": "stream",
     "text": [
      "Сушия Гринченко\n"
     ]
    },
    {
     "name": "stderr",
     "output_type": "stream",
     "text": [
      "Detector is not able to detect the language reliably.\n",
      "Detector is not able to detect the language reliably.\n",
      "Detector is not able to detect the language reliably.\n",
      "Detector is not able to detect the language reliably.\n",
      "Detector is not able to detect the language reliably.\n"
     ]
    },
    {
     "name": "stdout",
     "output_type": "stream",
     "text": [
      "Нарешті Київ!)))#киев #friends #happynewyear @ Сушия, Бул. Богдана Хмельницкого,10\n"
     ]
    },
    {
     "name": "stderr",
     "output_type": "stream",
     "text": [
      "Detector is not able to detect the language reliably.\n",
      "Detector is not able to detect the language reliably.\n",
      "Detector is not able to detect the language reliably.\n",
      "Detector is not able to detect the language reliably.\n",
      "Detector is not able to detect the language reliably.\n",
      "Detector is not able to detect the language reliably.\n",
      "Detector is not able to detect the language reliably.\n",
      "Detector is not able to detect the language reliably.\n",
      "Detector is not able to detect the language reliably.\n",
      "Detector is not able to detect the language reliably.\n",
      "Detector is not able to detect the language reliably.\n",
      "Detector is not able to detect the language reliably.\n",
      "Detector is not able to detect the language reliably.\n",
      "Detector is not able to detect the language reliably.\n",
      "Detector is not able to detect the language reliably.\n",
      "Detector is not able to detect the language reliably.\n",
      "Detector is not able to detect the language reliably.\n",
      "Detector is not able to detect the language reliably.\n",
      "Detector is not able to detect the language reliably.\n",
      "Detector is not able to detect the language reliably.\n",
      "Detector is not able to detect the language reliably.\n",
      "Detector is not able to detect the language reliably.\n",
      "Detector is not able to detect the language reliably.\n",
      "Detector is not able to detect the language reliably.\n",
      "Detector is not able to detect the language reliably.\n",
      "Detector is not able to detect the language reliably.\n",
      "Detector is not able to detect the language reliably.\n",
      "Detector is not able to detect the language reliably.\n",
      "Detector is not able to detect the language reliably.\n",
      "Detector is not able to detect the language reliably.\n",
      "Detector is not able to detect the language reliably.\n"
     ]
    },
    {
     "name": "stdout",
     "output_type": "stream",
     "text": [
      "Мой любимый братишка @dragon.alive #яибрат #братишка #семья #чемпион #karatekid #любимыйбрат #молодці #family #fun #havefun #sushi #smile #brother #oldersister #sister&brother #superstar @dragon.alive @ Сушия\n",
      "Мой любимый братишка @dragon.alive #яибрат #братишка #семья #чемпион #karatekid #любимыйбрат #молодці #family #fun #havefun #sushi #smile #brother #oldersister #sister&brother #superstar @dragon.alive  \n"
     ]
    },
    {
     "name": "stderr",
     "output_type": "stream",
     "text": [
      "Detector is not able to detect the language reliably.\n",
      "Detector is not able to detect the language reliably.\n",
      "Detector is not able to detect the language reliably.\n",
      "Detector is not able to detect the language reliably.\n"
     ]
    },
    {
     "name": "stdout",
     "output_type": "stream",
     "text": [
      "Полный итоговый список закрытых заведений в Донецке 2014 - 2015 года: 1. Два товарища2. Крузо3. Creme4. Charte Bar в ТРЦ Донецк-Сити5. El Torro6. Дерёвня7. Pasta Project8. Арбуз9. Fashion Cake на Пушкина10. Fashion Cake в ТРЦ Донецк-Сити11. Сушия в ТРЦ Золотое Кольцо12. Avenue13. Ливерпуль14. Панорама15.Бухарест16.Tabasco17.Bassano18. Шопен-Гоген в ТЦ Форум19. Фартовый20. Забей21. Больше жизни22. Озерный23. Биф Фиш Гриль24. Волконский25. Старгород\n"
     ]
    },
    {
     "name": "stderr",
     "output_type": "stream",
     "text": [
      "Detector is not able to detect the language reliably.\n",
      "Detector is not able to detect the language reliably.\n",
      "Detector is not able to detect the language reliably.\n",
      "Detector is not able to detect the language reliably.\n",
      "Detector is not able to detect the language reliably.\n",
      "Detector is not able to detect the language reliably.\n",
      "Detector is not able to detect the language reliably.\n",
      "Detector is not able to detect the language reliably.\n",
      "Detector is not able to detect the language reliably.\n",
      "Detector is not able to detect the language reliably.\n",
      "Detector is not able to detect the language reliably.\n",
      "Detector is not able to detect the language reliably.\n",
      "Detector is not able to detect the language reliably.\n"
     ]
    },
    {
     "name": "stdout",
     "output_type": "stream",
     "text": [
      "Повар на пр-т. Голосеевский в компании Сушияrabota.uaПовар на пр-т. Голосеевский в компании СушияПовар на пр-т. Голосеевский в компании Сушия\n"
     ]
    },
    {
     "name": "stderr",
     "output_type": "stream",
     "text": [
      "Detector is not able to detect the language reliably.\n"
     ]
    },
    {
     "name": "stdout",
     "output_type": "stream",
     "text": [
      "Полный итоговый список закрытых заведений в Донецке 2014 - 2015 года: 1. Два товарища2. Крузо3. Creme4. Charte Bar в ТРЦ Донецк-Сити5. El Torro6. Дерёвня7. Pasta Project8. Арбуз9. Fashion Cake на Пушкина10. Fashion Cake в ТРЦ Донецк-Сити11. Сушия в ТРЦ Золотое Кольцо12. Avenue13. Ливерпуль14. Панорама15.Бухарест16.Tabasco17.Bassano18. Шопен-Гоген в ТЦ Форум19. Фартовый20. Забей21. Больше жизни22. Озерный23. Биф Фиш Гриль24. Волконский25. Старгород\n"
     ]
    },
    {
     "name": "stderr",
     "output_type": "stream",
     "text": [
      "Detector is not able to detect the language reliably.\n",
      "Detector is not able to detect the language reliably.\n"
     ]
    },
    {
     "name": "stdout",
     "output_type": "stream",
     "text": [
      "Кушать очень хочецца (@ Сушия / @Sushiya_ukraine in Київ, м. Київ w/ @kissmenya) https://www.swarmapp.com/c/bfL6vhY1ApE \n",
      "#СНоВымГоДоМ #сновымгодом2016 #СРожДестВомХрисТоВым #рождество #різдво #happynewyear #happynewyear2016 #майдан #майданнезалежності #новийрік2016 #олені #оля #оленьусушії #сушія #maydan #marrychristmas #marrychristmas2016 #kiev #kyiv #ua #ukraine #maydannezalejnosti #deer #seryodkina #якапуста холодно :)) но нам весело, Ведь сегодня #Рождество :)))\n",
      "Полный итоговый список закрытых заведений в Донецке 2014 - 2015 года: 1. Два товарища2. Крузо3. Creme4. Charte Bar в ТРЦ Донецк-Сити5. El Torro6. Дерёвня7. Pasta Project8. Арбуз9. Fashion Cake на Пушкина10. Fashion Cake в ТРЦ Донецк-Сити11. Сушия в ТРЦ Золотое Кольцо12. Avenue13. Ливерпуль14. Панорама15.Бухарест16.Tabasco17.Bassano18. Шопен-Гоген в ТЦ Форум19. Фартовый20. Забей21. Больше жизни22. Озерный23. Биф Фиш Гриль24. Волконский25. Старгород\n"
     ]
    },
    {
     "name": "stderr",
     "output_type": "stream",
     "text": [
      "Detector is not able to detect the language reliably.\n",
      "Detector is not able to detect the language reliably.\n",
      "Detector is not able to detect the language reliably.\n"
     ]
    },
    {
     "name": "stdout",
     "output_type": "stream",
     "text": [
      "#СНоВымГоДоМ #сновымгодом2016 #СРожДестВомХрисТоВым #рождество #різдво #happynewyear #happynewyear2016 #майдан #майданнезалежності #новийрік2016 #олені #оля #оленьусушії #сушія #maydan #marrychristmas #marrychristmas2016 #kiev #kyiv #ua #ukraine #maydannezalejnosti #deer #seryodkina #якапуста холодно :)) но нам весело, Ведь сегодня #Рождество :))) @ Maidan Nezalezhnosti\n"
     ]
    },
    {
     "name": "stderr",
     "output_type": "stream",
     "text": [
      "Detector is not able to detect the language reliably.\n",
      "Detector is not able to detect the language reliably.\n",
      "Detector is not able to detect the language reliably.\n",
      "Detector is not able to detect the language reliably.\n"
     ]
    },
    {
     "name": "stdout",
     "output_type": "stream",
     "text": [
      "@ Сушия Я, На Малышка 3\n",
      "=*=*=*=*=*\n"
     ]
    },
    {
     "name": "stderr",
     "output_type": "stream",
     "text": [
      "Detector is not able to detect the language reliably.\n",
      "Detector is not able to detect the language reliably.\n",
      "Detector is not able to detect the language reliably.\n",
      "Detector is not able to detect the language reliably.\n",
      "Detector is not able to detect the language reliably.\n",
      "Detector is not able to detect the language reliably.\n"
     ]
    },
    {
     "name": "stdout",
     "output_type": "stream",
     "text": [
      "#Sushiya#сушия#с Машенькой и Лизой @ Терраса\n",
      "#Sushiya#сушия#с Машенькой и Лизой  \n"
     ]
    },
    {
     "name": "stderr",
     "output_type": "stream",
     "text": [
      "Detector is not able to detect the language reliably.\n",
      "Detector is not able to detect the language reliably.\n",
      "Detector is not able to detect the language reliably.\n",
      "Detector is not able to detect the language reliably.\n",
      "Detector is not able to detect the language reliably.\n",
      "Detector is not able to detect the language reliably.\n"
     ]
    },
    {
     "name": "stdout",
     "output_type": "stream",
     "text": [
      "Поговорим? ;) (@ Сушия / @Sushiya_ukraine in Київ, м. Київ w/ @madhed85) https://www.swarmapp.com/c/aEZoUSC2PSa  \n",
      "Мажики ходят в сушию\n"
     ]
    },
    {
     "name": "stderr",
     "output_type": "stream",
     "text": [
      "Detector is not able to detect the language reliably.\n"
     ]
    },
    {
     "name": "stdout",
     "output_type": "stream",
     "text": [
      "forum Lviv Сушія\n"
     ]
    },
    {
     "name": "stderr",
     "output_type": "stream",
     "text": [
      "Detector is not able to detect the language reliably.\n",
      "Detector is not able to detect the language reliably.\n",
      "Detector is not able to detect the language reliably.\n",
      "Detector is not able to detect the language reliably.\n",
      "Detector is not able to detect the language reliably.\n",
      "Detector is not able to detect the language reliably.\n",
      "Detector is not able to detect the language reliably.\n",
      "Detector is not able to detect the language reliably.\n",
      "Detector is not able to detect the language reliably.\n",
      "Detector is not able to detect the language reliably.\n"
     ]
    },
    {
     "name": "stdout",
     "output_type": "stream",
     "text": [
      "Стипендия нужна была позарез))) в сушия не за что было ходить)\n"
     ]
    },
    {
     "name": "stderr",
     "output_type": "stream",
     "text": [
      "Detector is not able to detect the language reliably.\n",
      "Detector is not able to detect the language reliably.\n",
      "Detector is not able to detect the language reliably.\n"
     ]
    },
    {
     "name": "stdout",
     "output_type": "stream",
     "text": [
      "#Одесса #сушия #food #nice #evening #f4f #followforfollow #like4like #vsco #restaurant #люблюсуши #роллы\n"
     ]
    },
    {
     "name": "stderr",
     "output_type": "stream",
     "text": [
      "Detector is not able to detect the language reliably.\n",
      "Detector is not able to detect the language reliably.\n",
      "Detector is not able to detect the language reliably.\n",
      "Detector is not able to detect the language reliably.\n",
      "Detector is not able to detect the language reliably.\n",
      "Detector is not able to detect the language reliably.\n",
      "Detector is not able to detect the language reliably.\n",
      "Detector is not able to detect the language reliably.\n",
      "Detector is not able to detect the language reliably.\n",
      "Detector is not able to detect the language reliably.\n",
      "Detector is not able to detect the language reliably.\n",
      "Detector is not able to detect the language reliably.\n",
      "Detector is not able to detect the language reliably.\n"
     ]
    },
    {
     "name": "stdout",
     "output_type": "stream",
     "text": [
      "#Kiev #Київ #Україна #Ukranie #сушия\n"
     ]
    },
    {
     "name": "stderr",
     "output_type": "stream",
     "text": [
      "Detector is not able to detect the language reliably.\n",
      "Detector is not able to detect the language reliably.\n",
      "Detector is not able to detect the language reliably.\n",
      "Detector is not able to detect the language reliably.\n",
      "Detector is not able to detect the language reliably.\n",
      "Detector is not able to detect the language reliably.\n",
      "Detector is not able to detect the language reliably.\n",
      "Detector is not able to detect the language reliably.\n",
      "Detector is not able to detect the language reliably.\n",
      "Detector is not able to detect the language reliably.\n",
      "Detector is not able to detect the language reliably.\n",
      "Detector is not able to detect the language reliably.\n",
      "Detector is not able to detect the language reliably.\n"
     ]
    },
    {
     "name": "stdout",
     "output_type": "stream",
     "text": [
      "#зыринг удался @девушка с зелеными глазами @ Сушия Трц\"\"район\"\", Лаврухина\n"
     ]
    },
    {
     "name": "stderr",
     "output_type": "stream",
     "text": [
      "Detector is not able to detect the language reliably.\n",
      "Detector is not able to detect the language reliably.\n",
      "Detector is not able to detect the language reliably.\n",
      "Detector is not able to detect the language reliably.\n",
      "Detector is not able to detect the language reliably.\n",
      "Detector is not able to detect the language reliably.\n",
      "Detector is not able to detect the language reliably.\n",
      "Detector is not able to detect the language reliably.\n"
     ]
    },
    {
     "name": "stdout",
     "output_type": "stream",
     "text": [
      "Срочно чай (@ Сушия / @Sushiya_ukraine in Київ, м. Київ) https://www.swarmapp.com/c/18I2vNBeQIG  \n",
      "Мы любим суши,а суши любят нас (@ Сушия / @Sushiya_ukraine in Чернівці, Чернівецька обл.) https://www.swarmapp.com/c/aOnSYSA3dIC \n"
     ]
    },
    {
     "name": "stderr",
     "output_type": "stream",
     "text": [
      "Detector is not able to detect the language reliably.\n"
     ]
    },
    {
     "name": "stdout",
     "output_type": "stream",
     "text": [
      "ПРЯМОЙ ЭФИР в #Periscope: Сушия  https://www.periscope.tv/w/aXi81DEwNDY1NTIwfDFPd0dXWnFZQlhRS1Gxt3LmHDH5q80v_8eDM90m9QAa_mbiqUUcL83uLsNSMg== …\n"
     ]
    },
    {
     "name": "stderr",
     "output_type": "stream",
     "text": [
      "Detector is not able to detect the language reliably.\n",
      "Detector is not able to detect the language reliably.\n",
      "Detector is not able to detect the language reliably.\n"
     ]
    },
    {
     "name": "stdout",
     "output_type": "stream",
     "text": [
      "Olya, в \"\"Сушия\"\" или \"\"Coffee house\"\", что возле McDonalds.\n",
      "ПРЯМОЙ ЭФИР в #Periscope: Сушия  https://www.periscope.tv/w/aXtm4DEwNDY1NTIwfDFkakd... …\n"
     ]
    },
    {
     "name": "stderr",
     "output_type": "stream",
     "text": [
      "Detector is not able to detect the language reliably.\n",
      "Detector is not able to detect the language reliably.\n",
      "Detector is not able to detect the language reliably.\n",
      "Detector is not able to detect the language reliably.\n",
      "Detector is not able to detect the language reliably.\n",
      "Detector is not able to detect the language reliably.\n",
      "Detector is not able to detect the language reliably.\n",
      "Detector is not able to detect the language reliably.\n"
     ]
    },
    {
     "name": "stdout",
     "output_type": "stream",
     "text": [
      "На Дне Рождении Оли (@ СушиЯ / @Sushiya_ukraine in Київ, м. Київ) https://www.swarmapp.com/c/8Fqsdi8oD4e  \n"
     ]
    },
    {
     "name": "stderr",
     "output_type": "stream",
     "text": [
      "Detector is not able to detect the language reliably.\n",
      "Detector is not able to detect the language reliably.\n",
      "Detector is not able to detect the language reliably.\n",
      "Detector is not able to detect the language reliably.\n",
      "Detector is not able to detect the language reliably.\n",
      "Detector is not able to detect the language reliably.\n",
      "Detector is not able to detect the language reliably.\n",
      "Detector is not able to detect the language reliably.\n",
      "Detector is not able to detect the language reliably.\n",
      "Detector is not able to detect the language reliably.\n",
      "Detector is not able to detect the language reliably.\n",
      "Detector is not able to detect the language reliably.\n"
     ]
    },
    {
     "name": "stdout",
     "output_type": "stream",
     "text": [
      "МакДональдз і ресторан Сушія.\n"
     ]
    },
    {
     "name": "stderr",
     "output_type": "stream",
     "text": [
      "Detector is not able to detect the language reliably.\n",
      "Detector is not able to detect the language reliably.\n",
      "Detector is not able to detect the language reliably.\n",
      "Detector is not able to detect the language reliably.\n",
      "Detector is not able to detect the language reliably.\n"
     ]
    },
    {
     "name": "stdout",
     "output_type": "stream",
     "text": [
      "#sushi #sushiya #махито\n"
     ]
    },
    {
     "name": "stderr",
     "output_type": "stream",
     "text": [
      "Detector is not able to detect the language reliably.\n",
      "Detector is not able to detect the language reliably.\n",
      "Detector is not able to detect the language reliably.\n"
     ]
    },
    {
     "name": "stdout",
     "output_type": "stream",
     "text": [
      "А тем временем я поднимаюсь на лифте в Сушию....#сушия#ждименя#одесса#влифте#прик#взаимныелайки#лайки#подписки#лайкивзаимно\n"
     ]
    },
    {
     "name": "stderr",
     "output_type": "stream",
     "text": [
      "Detector is not able to detect the language reliably.\n",
      "Detector is not able to detect the language reliably.\n",
      "Detector is not able to detect the language reliably.\n",
      "Detector is not able to detect the language reliably.\n",
      "Detector is not able to detect the language reliably.\n",
      "Detector is not able to detect the language reliably.\n",
      "Detector is not able to detect the language reliably.\n"
     ]
    },
    {
     "name": "stdout",
     "output_type": "stream",
     "text": [
      "marakot.ru/order/ekspress/dostavka-sushi-borispol-sushiya … доставка суши борисполь сушия\n"
     ]
    },
    {
     "name": "stderr",
     "output_type": "stream",
     "text": [
      "Detector is not able to detect the language reliably.\n",
      "Detector is not able to detect the language reliably.\n",
      "Detector is not able to detect the language reliably.\n",
      "Detector is not able to detect the language reliably.\n",
      "Detector is not able to detect the language reliably.\n",
      "Detector is not able to detect the language reliably.\n",
      "Detector is not able to detect the language reliably.\n",
      "Detector is not able to detect the language reliably.\n",
      "Detector is not able to detect the language reliably.\n",
      "Detector is not able to detect the language reliably.\n",
      "Detector is not able to detect the language reliably.\n",
      "Detector is not able to detect the language reliably.\n",
      "Detector is not able to detect the language reliably.\n",
      "Detector is not able to detect the language reliably.\n",
      "Detector is not able to detect the language reliably.\n",
      "Detector is not able to detect the language reliably.\n",
      "Detector is not able to detect the language reliably.\n"
     ]
    },
    {
     "name": "stdout",
     "output_type": "stream",
     "text": [
      "#утроможетбытьдобрым #omg #зиматыгде #утроначалосьнескофе #сушия #исноваздравствуйте #self #делайселфи #доброеутространа #selfi #девочкитакиедевочки #goodmorning\n"
     ]
    },
    {
     "name": "stderr",
     "output_type": "stream",
     "text": [
      "Detector is not able to detect the language reliably.\n",
      "Detector is not able to detect the language reliably.\n",
      "Detector is not able to detect the language reliably.\n",
      "Detector is not able to detect the language reliably.\n",
      "Detector is not able to detect the language reliably.\n",
      "Detector is not able to detect the language reliably.\n",
      "Detector is not able to detect the language reliably.\n"
     ]
    },
    {
     "name": "stdout",
     "output_type": "stream",
     "text": [
      "ПРЯМОЙ ЭФИР в #Periscope: Сушия, сидим https://www.periscope.tv/w/aYX4gDQzMTM3NHwxeW9LTVF... …\n"
     ]
    },
    {
     "name": "stderr",
     "output_type": "stream",
     "text": [
      "Detector is not able to detect the language reliably.\n",
      "Detector is not able to detect the language reliably.\n",
      "Detector is not able to detect the language reliably.\n",
      "Detector is not able to detect the language reliably.\n",
      "Detector is not able to detect the language reliably.\n",
      "Detector is not able to detect the language reliably.\n",
      "Detector is not able to detect the language reliably.\n",
      "Detector is not able to detect the language reliably.\n",
      "Detector is not able to detect the language reliably.\n"
     ]
    },
    {
     "name": "stdout",
     "output_type": "stream",
     "text": [
      "#mysister #mysisteristhebest @ сушия в sky mall\n",
      "Сейчас ну ооочень хорошот, т9 спасает))#Лерчик  @ Сушия На Майдане https://www.instagram.com/p/BBe8DBPr8fzNvTsoO5cPF8... …\n"
     ]
    },
    {
     "name": "stderr",
     "output_type": "stream",
     "text": [
      "Detector is not able to detect the language reliably.\n",
      "Detector is not able to detect the language reliably.\n",
      "Detector is not able to detect the language reliably.\n"
     ]
    },
    {
     "name": "stdout",
     "output_type": "stream",
     "text": [
      "#sisterlove #семьяглавное #kiev #сушия\n",
      "@ Сушия Ул. Крещатик, 13/2\n"
     ]
    },
    {
     "name": "stderr",
     "output_type": "stream",
     "text": [
      "Detector is not able to detect the language reliably.\n",
      "Detector is not able to detect the language reliably.\n",
      "Detector is not able to detect the language reliably.\n"
     ]
    },
    {
     "name": "stdout",
     "output_type": "stream",
     "text": [
      "Уважаемый автор, добрый день! Прежде всего благодарим Вас за отзыв. Действительно, наполняемость визуально разная и причина в смене посуды для того, чтобы улучшить подачу десертов. При этом вес и внешний вид блюда полностью соблюден. Приглашаем Вас в ресторан, чтобы удостовериться😉. С уважением, Юлия, служба поддержки Сушия.\n"
     ]
    },
    {
     "name": "stderr",
     "output_type": "stream",
     "text": [
      "Detector is not able to detect the language reliably.\n"
     ]
    },
    {
     "name": "stdout",
     "output_type": "stream",
     "text": [
      "Ул. Плеханова 1-аРесторан \"\"Сушия\"\"Курьер со своим автоТел. 067 238 76 80\n"
     ]
    },
    {
     "name": "stderr",
     "output_type": "stream",
     "text": [
      "Detector is not able to detect the language reliably.\n",
      "Detector is not able to detect the language reliably.\n",
      "Detector is not able to detect the language reliably.\n",
      "Detector is not able to detect the language reliably.\n",
      "Detector is not able to detect the language reliably.\n",
      "Detector is not able to detect the language reliably.\n"
     ]
    },
    {
     "name": "stdout",
     "output_type": "stream",
     "text": [
      "В оккупированном Донецке в одном из помещений, ранее принадлежавшем компании \"\"Сушия\"\", открылся ресторан с новым названием \"\"Сашими\"\", владельцы которого используют брендовые элементы интерьера, логотипа и меню своих предшественников. \"\"Безопасность сотрудников и гостей есть основным приоритетом для компании, поэтому она вынуждена была закрыть рестораны, оставив на местах ......\n"
     ]
    },
    {
     "name": "stderr",
     "output_type": "stream",
     "text": [
      "Detector is not able to detect the language reliably.\n",
      "Detector is not able to detect the language reliably.\n",
      "Detector is not able to detect the language reliably.\n"
     ]
    },
    {
     "name": "stdout",
     "output_type": "stream",
     "text": [
      "@letoooos Сушия ?\n"
     ]
    },
    {
     "name": "stderr",
     "output_type": "stream",
     "text": [
      "Detector is not able to detect the language reliably.\n",
      "Detector is not able to detect the language reliably.\n",
      "Detector is not able to detect the language reliably.\n"
     ]
    },
    {
     "name": "stdout",
     "output_type": "stream",
     "text": [
      "Владислав, Ресторан китайской кухни - Сушия))\n",
      "Форум# сушія# люблю# @ Forum Lviv / Форум Львів\n"
     ]
    },
    {
     "name": "stderr",
     "output_type": "stream",
     "text": [
      "Detector is not able to detect the language reliably.\n",
      "Detector is not able to detect the language reliably.\n",
      "Detector is not able to detect the language reliably.\n",
      "Detector is not able to detect the language reliably.\n",
      "Detector is not able to detect the language reliably.\n",
      "Detector is not able to detect the language reliably.\n",
      "Detector is not able to detect the language reliably.\n"
     ]
    },
    {
     "name": "stdout",
     "output_type": "stream",
     "text": [
      "#оработе Добавлен отзыв о компании сушия http://orabote.biz/feedback/show/id/1144171 …\n"
     ]
    },
    {
     "name": "stderr",
     "output_type": "stream",
     "text": [
      "Detector is not able to detect the language reliably.\n",
      "Detector is not able to detect the language reliably.\n",
      "Detector is not able to detect the language reliably.\n",
      "Detector is not able to detect the language reliably.\n",
      "Detector is not able to detect the language reliably.\n",
      "Detector is not able to detect the language reliably.\n",
      "Detector is not able to detect the language reliably.\n"
     ]
    },
    {
     "name": "stdout",
     "output_type": "stream",
     "text": [
      "#Пашкаприлетел #Ура! #за8лет #первоесовместноефото! @ Сушия\n",
      "#odessagram #Odessa #igersodessa #instaodessa #Одесса #Сушия\n"
     ]
    },
    {
     "name": "stderr",
     "output_type": "stream",
     "text": [
      "Detector is not able to detect the language reliably.\n",
      "Detector is not able to detect the language reliably.\n",
      "Detector is not able to detect the language reliably.\n",
      "Detector is not able to detect the language reliably.\n",
      "Detector is not able to detect the language reliably.\n",
      "Detector is not able to detect the language reliably.\n",
      "Detector is not able to detect the language reliably.\n",
      "Detector is not able to detect the language reliably.\n",
      "Detector is not able to detect the language reliably.\n"
     ]
    },
    {
     "name": "stdout",
     "output_type": "stream",
     "text": [
      "Моя Лерка #girls#Dnepropetrovsk#passage#сушия#др#friends#bestfriends\n"
     ]
    },
    {
     "name": "stderr",
     "output_type": "stream",
     "text": [
      "Detector is not able to detect the language reliably.\n",
      "Detector is not able to detect the language reliably.\n"
     ]
    },
    {
     "name": "stdout",
     "output_type": "stream",
     "text": [
      "#сушия #сушияхарьков #kharkov #kharkovcity #kharkiv #ночнойгород #food  #роллы #ukraine #украина\n",
      "А яВ СушиЯ Сижу и пьюКофе ЯКапец, поэт!))\n",
      "Наташа, возвращение в Сушия =)\n"
     ]
    },
    {
     "name": "stderr",
     "output_type": "stream",
     "text": [
      "Detector is not able to detect the language reliably.\n",
      "Detector is not able to detect the language reliably.\n",
      "Detector is not able to detect the language reliably.\n",
      "Detector is not able to detect the language reliably.\n",
      "Detector is not able to detect the language reliably.\n",
      "Detector is not able to detect the language reliably.\n",
      "Detector is not able to detect the language reliably.\n",
      "Detector is not able to detect the language reliably.\n",
      "Detector is not able to detect the language reliably.\n",
      "Detector is not able to detect the language reliably.\n"
     ]
    },
    {
     "name": "stdout",
     "output_type": "stream",
     "text": [
      "#oceanplaza#сушиЯ. 😀😊😊😊\n",
      "МойВыходнойДень 😊 😃 ♥♥#СушиЯ #БориспольMiyaGi & Эндшпиль - #ТАМАДА (feat. al l bo & Wooshendoo) (04:19)MiyaGi & Эндшпиль  - Самая ft. Amigo (#NR)  (04:51)\n"
     ]
    },
    {
     "name": "stderr",
     "output_type": "stream",
     "text": [
      "Detector is not able to detect the language reliably.\n",
      "Detector is not able to detect the language reliably.\n",
      "Detector is not able to detect the language reliably.\n",
      "Detector is not able to detect the language reliably.\n",
      "Detector is not able to detect the language reliably.\n",
      "Detector is not able to detect the language reliably.\n",
      "Detector is not able to detect the language reliably.\n",
      "Detector is not able to detect the language reliably.\n",
      "Detector is not able to detect the language reliably.\n",
      "Detector is not able to detect the language reliably.\n"
     ]
    },
    {
     "name": "stdout",
     "output_type": "stream",
     "text": [
      "Сушия 10 лет😊#корпоратив#буддабар\n"
     ]
    },
    {
     "name": "stderr",
     "output_type": "stream",
     "text": [
      "Detector is not able to detect the language reliably.\n",
      "Detector is not able to detect the language reliably.\n",
      "Detector is not able to detect the language reliably.\n",
      "Detector is not able to detect the language reliably.\n",
      "Detector is not able to detect the language reliably.\n",
      "Detector is not able to detect the language reliably.\n",
      "Detector is not able to detect the language reliably.\n"
     ]
    },
    {
     "name": "stdout",
     "output_type": "stream",
     "text": [
      "Сушия / SushiyaSushi Restaurant in Київ, м. Київswarmapp.com\n"
     ]
    },
    {
     "name": "stderr",
     "output_type": "stream",
     "text": [
      "Detector is not able to detect the language reliably.\n",
      "Detector is not able to detect the language reliably.\n",
      "Detector is not able to detect the language reliably.\n",
      "Detector is not able to detect the language reliably.\n"
     ]
    },
    {
     "name": "stdout",
     "output_type": "stream",
     "text": [
      "#сушиЯ#lvivforym\n"
     ]
    },
    {
     "name": "stderr",
     "output_type": "stream",
     "text": [
      "Detector is not able to detect the language reliably.\n",
      "Detector is not able to detect the language reliably.\n",
      "Detector is not able to detect the language reliably.\n"
     ]
    },
    {
     "name": "stdout",
     "output_type": "stream",
     "text": [
      "#Сушія#ням-ням😉😉😉😀😃Каспийский Груз - Кайфуем (NEW 2016) (02:41)\n"
     ]
    },
    {
     "name": "stderr",
     "output_type": "stream",
     "text": [
      "Detector is not able to detect the language reliably.\n",
      "Detector is not able to detect the language reliably.\n",
      "Detector is not able to detect the language reliably.\n"
     ]
    },
    {
     "name": "stdout",
     "output_type": "stream",
     "text": [
      "#киев#kiev#суши#сушия#shushi# 😒😒\n",
      "@sadness_ocean сушия\n"
     ]
    },
    {
     "name": "stderr",
     "output_type": "stream",
     "text": [
      "Detector is not able to detect the language reliably.\n",
      "Detector is not able to detect the language reliably.\n",
      "Detector is not able to detect the language reliably.\n",
      "Detector is not able to detect the language reliably.\n"
     ]
    },
    {
     "name": "stdout",
     "output_type": "stream",
     "text": [
      "Руслан Ткаченко was eating суши with Анна Жданюк at Сушия Дрим.\n",
      "Lilia Pidvalna is eating суши at Сушия Трц\"\"район\"\", Лаврухина with Lyudmila Krasilenko.\n"
     ]
    },
    {
     "name": "stderr",
     "output_type": "stream",
     "text": [
      "Detector is not able to detect the language reliably.\n",
      "Detector is not able to detect the language reliably.\n",
      "Detector is not able to detect the language reliably.\n"
     ]
    },
    {
     "name": "stdout",
     "output_type": "stream",
     "text": [
      "Людмила Паращенко was eating суши at Сушия На Майдане.\n"
     ]
    },
    {
     "name": "stderr",
     "output_type": "stream",
     "text": [
      "Detector is not able to detect the language reliably.\n",
      "Detector is not able to detect the language reliably.\n"
     ]
    },
    {
     "name": "stdout",
     "output_type": "stream",
     "text": [
      "В \"\" Сушия\"\" с друзьями.Photos from Лариса Бурлака's post\n"
     ]
    },
    {
     "name": "stderr",
     "output_type": "stream",
     "text": [
      "Detector is not able to detect the language reliably.\n",
      "Detector is not able to detect the language reliably.\n",
      "Detector is not able to detect the language reliably.\n",
      "Detector is not able to detect the language reliably.\n",
      "Detector is not able to detect the language reliably.\n",
      "Detector is not able to detect the language reliably.\n",
      "Detector is not able to detect the language reliably.\n",
      "Detector is not able to detect the language reliably.\n",
      "Detector is not able to detect the language reliably.\n",
      "Detector is not able to detect the language reliably.\n",
      "Detector is not able to detect the language reliably.\n",
      "Detector is not able to detect the language reliably.\n",
      "Detector is not able to detect the language reliably.\n",
      "Detector is not able to detect the language reliably.\n",
      "Detector is not able to detect the language reliably.\n",
      "Detector is not able to detect the language reliably.\n",
      "Detector is not able to detect the language reliably.\n",
      "Detector is not able to detect the language reliably.\n",
      "Detector is not able to detect the language reliably.\n"
     ]
    },
    {
     "name": "stdout",
     "output_type": "stream",
     "text": [
      "Антонине Павловне снова 18 @ Сушия\n"
     ]
    },
    {
     "name": "stderr",
     "output_type": "stream",
     "text": [
      "Detector is not able to detect the language reliably.\n"
     ]
    },
    {
     "name": "stdout",
     "output_type": "stream",
     "text": [
      "мммм....омномном @ Сушия @ Aeromall\n"
     ]
    },
    {
     "name": "stderr",
     "output_type": "stream",
     "text": [
      "Detector is not able to detect the language reliably.\n",
      "Detector is not able to detect the language reliably.\n",
      "Detector is not able to detect the language reliably.\n"
     ]
    },
    {
     "name": "stdout",
     "output_type": "stream",
     "text": [
      "Ужин — в чудесном настроении в Сушия http://fb.me/7xR7FF7DV \n"
     ]
    },
    {
     "name": "stderr",
     "output_type": "stream",
     "text": [
      "Detector is not able to detect the language reliably.\n",
      "Detector is not able to detect the language reliably.\n",
      "Detector is not able to detect the language reliably.\n",
      "Detector is not able to detect the language reliably.\n",
      "Detector is not able to detect the language reliably.\n",
      "Detector is not able to detect the language reliably.\n",
      "Detector is not able to detect the language reliably.\n",
      "Detector is not able to detect the language reliably.\n",
      "Detector is not able to detect the language reliably.\n",
      "Detector is not able to detect the language reliably.\n",
      "Detector is not able to detect the language reliably.\n",
      "Detector is not able to detect the language reliably.\n",
      "Detector is not able to detect the language reliably.\n"
     ]
    },
    {
     "name": "stdout",
     "output_type": "stream",
     "text": [
      "Japanese speaking club :) (@ Сушия / @Sushiya_ukraine in Київ, м. Київ) https://www.swarmapp.com/c/9H4MOBf57n2 \n"
     ]
    },
    {
     "name": "stderr",
     "output_type": "stream",
     "text": [
      "Detector is not able to detect the language reliably.\n",
      "Detector is not able to detect the language reliably.\n",
      "Detector is not able to detect the language reliably.\n",
      "Detector is not able to detect the language reliably.\n"
     ]
    },
    {
     "name": "stdout",
     "output_type": "stream",
     "text": [
      "#до....#после#KYIV#СушиЯ\n"
     ]
    },
    {
     "name": "stderr",
     "output_type": "stream",
     "text": [
      "Detector is not able to detect the language reliably.\n",
      "Detector is not able to detect the language reliably.\n",
      "Detector is not able to detect the language reliably.\n"
     ]
    },
    {
     "name": "stdout",
     "output_type": "stream",
     "text": [
      "#те шо обожнюю #суші #сушия #смакота\n",
      "Вечеря з моєю @olmarko #сушияyour_dianochkaКрасуня\n"
     ]
    },
    {
     "name": "stderr",
     "output_type": "stream",
     "text": [
      "Detector is not able to detect the language reliably.\n",
      "Detector is not able to detect the language reliably.\n",
      "Detector is not able to detect the language reliably.\n"
     ]
    },
    {
     "name": "stdout",
     "output_type": "stream",
     "text": [
      "Зашли в любимый ресторан (@ Сушия / @Sushiya_ukraine in Дніпропетровськ, Дніпропетровська область) https://www.swarmapp.com/c/1oHFc9mURr6 \n"
     ]
    },
    {
     "name": "stderr",
     "output_type": "stream",
     "text": [
      "Detector is not able to detect the language reliably.\n",
      "Detector is not able to detect the language reliably.\n",
      "Detector is not able to detect the language reliably.\n",
      "Detector is not able to detect the language reliably.\n",
      "Detector is not able to detect the language reliably.\n",
      "Detector is not able to detect the language reliably.\n",
      "Detector is not able to detect the language reliably.\n",
      "Detector is not able to detect the language reliably.\n",
      "Detector is not able to detect the language reliably.\n",
      "Detector is not able to detect the language reliably.\n",
      "Detector is not able to detect the language reliably.\n",
      "Detector is not able to detect the language reliably.\n",
      "Detector is not able to detect the language reliably.\n",
      "Detector is not able to detect the language reliably.\n",
      "Detector is not able to detect the language reliably.\n",
      "Detector is not able to detect the language reliably.\n",
      "Detector is not able to detect the language reliably.\n",
      "Detector is not able to detect the language reliably.\n"
     ]
    },
    {
     "name": "stdout",
     "output_type": "stream",
     "text": [
      "Непогане завершення понеділка^^) (@ Сушия / @Sushiya_ukraine in Київ, м. Київ w/ @andriy_ivaniv) https://www.swarmapp.com/c/hzZQnfzVkq1 \n",
      "#сушия #dreemtown\n"
     ]
    },
    {
     "name": "stderr",
     "output_type": "stream",
     "text": [
      "Detector is not able to detect the language reliably.\n",
      "Detector is not able to detect the language reliably.\n",
      "Detector is not able to detect the language reliably.\n",
      "Detector is not able to detect the language reliably.\n"
     ]
    },
    {
     "name": "stdout",
     "output_type": "stream",
     "text": [
      "#Таня Братунь#ТЦ Форум#Сушия#mcdonalds#Прогулянка#Львовом#Чудовий#День#\n"
     ]
    },
    {
     "name": "stderr",
     "output_type": "stream",
     "text": [
      "Detector is not able to detect the language reliably.\n",
      "Detector is not able to detect the language reliably.\n",
      "Detector is not able to detect the language reliably.\n",
      "Detector is not able to detect the language reliably.\n",
      "Detector is not able to detect the language reliably.\n",
      "Detector is not able to detect the language reliably.\n",
      "Detector is not able to detect the language reliably.\n"
     ]
    },
    {
     "name": "stdout",
     "output_type": "stream",
     "text": [
      "#Happy ★ @ Сушия / Sushiya\n",
      "#kitty_ @ Сушия / Sushiya\n"
     ]
    },
    {
     "name": "stderr",
     "output_type": "stream",
     "text": [
      "Detector is not able to detect the language reliably.\n",
      "Detector is not able to detect the language reliably.\n",
      "Detector is not able to detect the language reliably.\n",
      "Detector is not able to detect the language reliably.\n",
      "Detector is not able to detect the language reliably.\n",
      "Detector is not able to detect the language reliably.\n",
      "Detector is not able to detect the language reliably.\n",
      "Detector is not able to detect the language reliably.\n",
      "Detector is not able to detect the language reliably.\n"
     ]
    },
    {
     "name": "stdout",
     "output_type": "stream",
     "text": [
      "#сушиЯ#суші#сушии\n",
      "Kyiv#Dream#сушиЯ\n",
      "Перед отъездом из Киева..#sushiya #kyiv @ Сушия На Майдане\n"
     ]
    },
    {
     "name": "stderr",
     "output_type": "stream",
     "text": [
      "Detector is not able to detect the language reliably.\n",
      "Detector is not able to detect the language reliably.\n",
      "Detector is not able to detect the language reliably.\n",
      "Detector is not able to detect the language reliably.\n",
      "Detector is not able to detect the language reliably.\n"
     ]
    },
    {
     "name": "stdout",
     "output_type": "stream",
     "text": [
      "#деньзкоханим#сушія#суші\n"
     ]
    },
    {
     "name": "stderr",
     "output_type": "stream",
     "text": [
      "Detector is not able to detect the language reliably.\n",
      "Detector is not able to detect the language reliably.\n",
      "Detector is not able to detect the language reliably.\n"
     ]
    },
    {
     "name": "stdout",
     "output_type": "stream",
     "text": [
      "SkyPark.Sushiya. Вінниця\n"
     ]
    },
    {
     "name": "stderr",
     "output_type": "stream",
     "text": [
      "Detector is not able to detect the language reliably.\n",
      "Detector is not able to detect the language reliably.\n",
      "Detector is not able to detect the language reliably.\n",
      "Detector is not able to detect the language reliably.\n",
      "Detector is not able to detect the language reliably.\n",
      "Detector is not able to detect the language reliably.\n"
     ]
    },
    {
     "name": "stdout",
     "output_type": "stream",
     "text": [
      "#сушия#хорошийвечер#отдых #instafollow #insta_kharkiv #instagallery #харьков #instagood #goodday #instafollow #insta_kharkiv #instagallery\n"
     ]
    },
    {
     "name": "stderr",
     "output_type": "stream",
     "text": [
      "Detector is not able to detect the language reliably.\n",
      "Detector is not able to detect the language reliably.\n",
      "Detector is not able to detect the language reliably.\n",
      "Detector is not able to detect the language reliably.\n",
      "Detector is not able to detect the language reliably.\n",
      "Detector is not able to detect the language reliably.\n",
      "Detector is not able to detect the language reliably.\n"
     ]
    },
    {
     "name": "stdout",
     "output_type": "stream",
     "text": [
      "#good #night #сушия\n"
     ]
    },
    {
     "name": "stderr",
     "output_type": "stream",
     "text": [
      "Detector is not able to detect the language reliably.\n",
      "Detector is not able to detect the language reliably.\n",
      "Detector is not able to detect the language reliably.\n",
      "Detector is not able to detect the language reliably.\n"
     ]
    },
    {
     "name": "stdout",
     "output_type": "stream",
     "text": [
      "Старая добрая Сушия (@ Сушия / @Sushiya_ukraine in Київ) http://4sq.com/1O8FDcc \n"
     ]
    },
    {
     "name": "stderr",
     "output_type": "stream",
     "text": [
      "Detector is not able to detect the language reliably.\n",
      "Detector is not able to detect the language reliably.\n",
      "Detector is not able to detect the language reliably.\n",
      "Detector is not able to detect the language reliably.\n",
      "Detector is not able to detect the language reliably.\n",
      "Detector is not able to detect the language reliably.\n",
      "Detector is not able to detect the language reliably.\n",
      "Detector is not able to detect the language reliably.\n",
      "Detector is not able to detect the language reliably.\n",
      "Detector is not able to detect the language reliably.\n",
      "Detector is not able to detect the language reliably.\n",
      "Detector is not able to detect the language reliably.\n",
      "Detector is not able to detect the language reliably.\n",
      "Detector is not able to detect the language reliably.\n",
      "Detector is not able to detect the language reliably.\n"
     ]
    },
    {
     "name": "stdout",
     "output_type": "stream",
     "text": [
      "Список популярных мест: ГДЕ МОЖНО ПОТУСИТЬ В КИЕВЕ: кафе:SkyArtCafeЛьвівська майстерня шоколадуL’kafa Cafe пабы:Docker pubПортер пабGolden Gate рестораны:СушияЦарское селоКонкорд клубы :Sky BarDLuxSorry БабушкаПодробнее: http://dayting.com.ua/ru/vyibor-goroda/perevodchik-gi..\n"
     ]
    },
    {
     "name": "stderr",
     "output_type": "stream",
     "text": [
      "Detector is not able to detect the language reliably.\n",
      "Detector is not able to detect the language reliably.\n",
      "Detector is not able to detect the language reliably.\n",
      "Detector is not able to detect the language reliably.\n",
      "Detector is not able to detect the language reliably.\n",
      "Detector is not able to detect the language reliably.\n",
      "Detector is not able to detect the language reliably.\n",
      "Detector is not able to detect the language reliably.\n"
     ]
    },
    {
     "name": "stdout",
     "output_type": "stream",
     "text": [
      "#Сушия#Japan#food\n",
      "На обед был #читмил чуть меньше половины этого набора) #дневникпитания #мирдолжензнатьчтояем #суши #сушия #роллы\n"
     ]
    },
    {
     "name": "stderr",
     "output_type": "stream",
     "text": [
      "Detector is not able to detect the language reliably.\n"
     ]
    },
    {
     "name": "stdout",
     "output_type": "stream",
     "text": [
      "Вавилон предоставляет свои преимущества. Вегетарианский суши обед заказанный в хостел с помощью интернета с мобильного приложения и доставленный за 55 минут #киев #sushiya #сушия #обед\n",
      "#sushiya #sushi #odessa #одесса_мама #таврия #panorama #niam #друзья #отдых #2016 #старый_новый_год\n",
      "У нас вот такой Старо-Новый Год #суши#sushia#хмелята_сяу_ляю #староновыйгод #\n",
      "Сушия#@ Vinnytsya\n"
     ]
    },
    {
     "name": "stderr",
     "output_type": "stream",
     "text": [
      "Detector is not able to detect the language reliably.\n",
      "Detector is not able to detect the language reliably.\n",
      "Detector is not able to detect the language reliably.\n",
      "Detector is not able to detect the language reliably.\n",
      "Detector is not able to detect the language reliably.\n"
     ]
    },
    {
     "name": "stdout",
     "output_type": "stream",
     "text": [
      "#натюрморт #Київ #Україна #Kiev #kyiv #ua #Ukraine #sushi #суши #суші #сушия #\n"
     ]
    },
    {
     "name": "stderr",
     "output_type": "stream",
     "text": [
      "Detector is not able to detect the language reliably.\n"
     ]
    },
    {
     "name": "stdout",
     "output_type": "stream",
     "text": [
      "Ням) (@ Сушия / @Sushiya_ukraine in Київ, м. Київ) https://www.swarmapp.com/c/5co6Rc7mPYX \n",
      "После концерта ЛСП (@ Сушия / @Sushiya_ukraine in Запоріжжя, Запорізька обл.) https://www.swarmapp.com/c/aR565pZzj74 \n"
     ]
    },
    {
     "name": "stderr",
     "output_type": "stream",
     "text": [
      "Detector is not able to detect the language reliably.\n"
     ]
    },
    {
     "name": "stdout",
     "output_type": "stream",
     "text": [
      "Поход в \"\"Сушия\"\" удался)))\n"
     ]
    },
    {
     "name": "stderr",
     "output_type": "stream",
     "text": [
      "Detector is not able to detect the language reliably.\n",
      "Detector is not able to detect the language reliably.\n",
      "Detector is not able to detect the language reliably.\n"
     ]
    },
    {
     "name": "stdout",
     "output_type": "stream",
     "text": [
      "#сушия #нямням #грейпфрут by nelly.hriffen #Львів Место сьемки:http://bit.ly/1SzbQuc  \n"
     ]
    },
    {
     "name": "stderr",
     "output_type": "stream",
     "text": [
      "Detector is not able to detect the language reliably.\n"
     ]
    },
    {
     "name": "stdout",
     "output_type": "stream",
     "text": [
      "Відгомін , ще осіннього вікенду :) Все по шаблону :) фільм в 4DX енд смачнющі суші !#Сушия #ПланетаКіно #ФорумЛьвів\n"
     ]
    },
    {
     "name": "stderr",
     "output_type": "stream",
     "text": [
      "Detector is not able to detect the language reliably.\n",
      "Detector is not able to detect the language reliably.\n",
      "Detector is not able to detect the language reliably.\n",
      "Detector is not able to detect the language reliably.\n",
      "Detector is not able to detect the language reliably.\n",
      "Detector is not able to detect the language reliably.\n",
      "Detector is not able to detect the language reliably.\n",
      "Detector is not able to detect the language reliably.\n",
      "Detector is not able to detect the language reliably.\n",
      "Detector is not able to detect the language reliably.\n",
      "Detector is not able to detect the language reliably.\n",
      "Detector is not able to detect the language reliably.\n"
     ]
    },
    {
     "name": "stdout",
     "output_type": "stream",
     "text": [
      "#сушия #деньрожденияОушинПлаза #селфи #сестричка\n",
      "#СушиЯ #паха #железный\n"
     ]
    },
    {
     "name": "stderr",
     "output_type": "stream",
     "text": [
      "Detector is not able to detect the language reliably.\n",
      "Detector is not able to detect the language reliably.\n",
      "Detector is not able to detect the language reliably.\n",
      "Detector is not able to detect the language reliably.\n",
      "Detector is not able to detect the language reliably.\n",
      "Detector is not able to detect the language reliably.\n",
      "Detector is not able to detect the language reliably.\n",
      "Detector is not able to detect the language reliably.\n",
      "Detector is not able to detect the language reliably.\n",
      "Detector is not able to detect the language reliably.\n"
     ]
    },
    {
     "name": "stdout",
     "output_type": "stream",
     "text": [
      "#суши, #сушия, #вкусно @ Forum Lviv / Форум Львів\n",
      "#сушия #ruhe #endlich\n",
      "Спасибо, что есть вкусный вега-ролл (@ СушиЯ / @Sushiya_ukraine in Київ, м. Київ) https://www.swarmapp.com/c/396syHHxTnu \n"
     ]
    },
    {
     "name": "stderr",
     "output_type": "stream",
     "text": [
      "Detector is not able to detect the language reliably.\n",
      "Detector is not able to detect the language reliably.\n",
      "Detector is not able to detect the language reliably.\n",
      "Detector is not able to detect the language reliably.\n",
      "Detector is not able to detect the language reliably.\n",
      "Detector is not able to detect the language reliably.\n",
      "Detector is not able to detect the language reliably.\n"
     ]
    },
    {
     "name": "stdout",
     "output_type": "stream",
     "text": [
      "Вкуняшки от #sushiya  #cherkasy #черкассы #черкаси #сушия #food #вкуснятина #чревоугодие #dessert #yami #нямням #де… \n",
      "Вкуняшки от #sushiya  #cherkasy #черкассы #cherkassy #черкаси #сушия #food #вкуснятина #чревоугодие #dessert #yami #нямням #десерт #панакота #panakota #малинка #маракуия #rest_in_cherkassy\n"
     ]
    },
    {
     "name": "stderr",
     "output_type": "stream",
     "text": [
      "Detector is not able to detect the language reliably.\n"
     ]
    },
    {
     "name": "stdout",
     "output_type": "stream",
     "text": [
      "А тем временем мы культурно #отдыхаем с @_nastasya_2103 #сушия #харьков\n",
      "Сеть \"\"Сушия\"\" планирует открыть три-четыре ресторана в следующем году\n"
     ]
    },
    {
     "name": "stderr",
     "output_type": "stream",
     "text": [
      "Detector is not able to detect the language reliably.\n",
      "Detector is not able to detect the language reliably.\n",
      "Detector is not able to detect the language reliably.\n"
     ]
    },
    {
     "name": "stdout",
     "output_type": "stream",
     "text": [
      "ООО \"\"Сyшия\"\" (Киeв), paзвивaющee в Уkpaинe oднoимeннyю ceтb pecтopaнoв япoнckoй kyхни, плaниpyeт в 2016 гoдy oтkpытb тpи-чeтыpe нoвых pecтopaнa ceти в Уkpaинe, cooбщил гeнepaлbный диpekтop ceти Рoмaн Рoмaнчyk.\n",
      "New post: Сеть «Сушия» планирует открыть три-четыре ресторана в следующем году http://den-opt.ru/set-syshiia-planiryet-otkryt-tri-chetyre-restorana-v-sledyushem-\n"
     ]
    },
    {
     "name": "stderr",
     "output_type": "stream",
     "text": [
      "Detector is not able to detect the language reliably.\n",
      "Detector is not able to detect the language reliably.\n",
      "Detector is not able to detect the language reliably.\n",
      "Detector is not able to detect the language reliably.\n",
      "Detector is not able to detect the language reliably.\n"
     ]
    },
    {
     "name": "stdout",
     "output_type": "stream",
     "text": [
      "Сеть «Сушия» планирует открыть три-четыре ресторана в следующем годуООО \"\"Сyшия\"\" (Киeв), paзвивaющee в Уkpaинe oднoимeннyю ceтb pecтopaнoв япoнckoй kyхни, плaниpyeт в 2016 гoдy oтkpытb тpи-чeтыpe нoвых pecтopaнa ceти в Уkpaинe, cooбщил гeнepaлbный диpekтop ceти Рoмaн Рoмaнчyk.\n"
     ]
    },
    {
     "name": "stderr",
     "output_type": "stream",
     "text": [
      "Detector is not able to detect the language reliably.\n",
      "Detector is not able to detect the language reliably.\n",
      "Detector is not able to detect the language reliably.\n"
     ]
    },
    {
     "name": "stdout",
     "output_type": "stream",
     "text": [
      "#Малиновая#паннакотта#Сушия#part2#\n",
      "@Sushiya_Ukraine начинает сотрудничать с @IFC_org по усовершенствованию пищевой безопасности http://vlasnasprava.ua/sushiya-nachinaet-sotrudnichat-s-ifc-po-usovershenstvovaniyu-pishhevoj-bezopasnosti/ … \n"
     ]
    },
    {
     "name": "stderr",
     "output_type": "stream",
     "text": [
      "Detector is not able to detect the language reliably.\n",
      "Detector is not able to detect the language reliably.\n",
      "Detector is not able to detect the language reliably.\n",
      "Detector is not able to detect the language reliably.\n"
     ]
    },
    {
     "name": "stdout",
     "output_type": "stream",
     "text": [
      "В 2016 году сеть ресторанов современной японской кухни «Сушия» намерена оптимизировать собственную систему контроля пищевой безопасности и привести ее в соответствие с современными международными стандартами. В этом компании помогут эксперты «Международной финансовой корпорации» (IFC),...подробнее...                  >>>        \n",
      "А вы уже придумали, где вкусно пообедать? ;)  Ресторан Сушия: ТРЦ Dream Town 1 часть, 3 этаж, атриум Бразилия\n",
      "А вы уже придумали, где вкусно пообедать? ;)Ресторан Сушия: ТРЦ Dream Town 1 часть, 3 этаж, атриум БразилияTimeline Photos\n",
      "New post: Сеть «Сушия» планирует открыть три-четыре ресторана в следующем году http://gcog.ru/set-syshiia-planiryet-otkryt-tri-chetyre-restorana-v-sledyushem-gody/ …\n"
     ]
    },
    {
     "name": "stderr",
     "output_type": "stream",
     "text": [
      "Detector is not able to detect the language reliably.\n",
      "Detector is not able to detect the language reliably.\n",
      "Detector is not able to detect the language reliably.\n"
     ]
    },
    {
     "name": "stdout",
     "output_type": "stream",
     "text": [
      "«Сушия» допускает снижение товарооборота на 1-2% в 2015Сeтb pecтopaнoв япoнckoй kyхни Сyшия дoпyckaeт cнижeниe тoвapooбopoтa нa 1-2% в 2015 гoдy пo cpaвнeнию c 2014 гoдoм. Об этoм Уkpaїнcbkим Нoвинaм cooбщил pykoвoдитeлb ceти Рoмaн Рoмaнчyk.\n",
      "Украина: ООО «Сушия» планирует открыть три-четыре новых ресторана сети в 2016 году http://ukrprod.dp.ua/2015/12/14/ukraina-ooo-sushiya-planiruet-otkryt-tri-chetyre-novyx-restorana-seti-v-2016-godu.html …\n",
      "Украина: ООО “Сушия” планирует открыть три-четыре новых ресторана сети в 2016 году http://ukrprod.dp.ua/2015/12/14/ukraina-ooo-sushiya-planiruet-otkryt-tri-chetyre-novyx-restorana-seti-v-2016-godu.html …\n",
      "Украина: ООО \"\"Сушия\"\" планирует открыть три-четыре новых ресторана сети в 2016 году - http://ukrprod.dp.ua/2015/12/14/ukraina-ooo-sushiya-planiruet-otkryt-tri-chetyre-novyx-restorana-seti-v-2016-godu.html …\n",
      "Время настоящих напитков в Сушия!http://www.biglike.com.ua/deals/Sushiya/Specialnoe-pr..BigLike.com.ua | Специальное предложение от ТМ Джемесон Днепропетровскwww.biglike.com.uaСпециальное предложение от ТМ ДжемесонВремя настоящих напитков в Сушия.С 19.11 по 18.12.2015 в ресторане Сушия действует предложение от \n"
     ]
    },
    {
     "name": "stderr",
     "output_type": "stream",
     "text": [
      "Detector is not able to detect the language reliably.\n",
      "Detector is not able to detect the language reliably.\n",
      "Detector is not able to detect the language reliably.\n"
     ]
    },
    {
     "name": "stdout",
     "output_type": "stream",
     "text": [
      "Сеть «Сушия» планирует открыть три-четыре ресторана в следующем году\n"
     ]
    },
    {
     "name": "stderr",
     "output_type": "stream",
     "text": [
      "Detector is not able to detect the language reliably.\n",
      "Detector is not able to detect the language reliably.\n"
     ]
    },
    {
     "name": "stdout",
     "output_type": "stream",
     "text": [
      "Ну как против такого устоять? :)#sushi #sushiya #forum #forumlviv #ilikeit #love #yammi\n"
     ]
    },
    {
     "name": "stderr",
     "output_type": "stream",
     "text": [
      "Detector is not able to detect the language reliably.\n",
      "Detector is not able to detect the language reliably.\n",
      "Detector is not able to detect the language reliably.\n",
      "Detector is not able to detect the language reliably.\n"
     ]
    },
    {
     "name": "stdout",
     "output_type": "stream",
     "text": [
      "I'm at Сушия / @Sushiya_ukraine in Київ, м. Київ https://www.swarmapp.com/c/gMuubGAtIbA \n"
     ]
    },
    {
     "name": "stderr",
     "output_type": "stream",
     "text": [
      "Detector is not able to detect the language reliably.\n",
      "Detector is not able to detect the language reliably.\n",
      "Detector is not able to detect the language reliably.\n"
     ]
    },
    {
     "name": "stdout",
     "output_type": "stream",
     "text": [
      "#сушия#всесьемсамавсесьемникомунедамбудужирнаянуипусть\n"
     ]
    },
    {
     "name": "stderr",
     "output_type": "stream",
     "text": [
      "Detector is not able to detect the language reliably.\n",
      "Detector is not able to detect the language reliably.\n",
      "Detector is not able to detect the language reliably.\n",
      "Detector is not able to detect the language reliably.\n",
      "Detector is not able to detect the language reliably.\n",
      "Detector is not able to detect the language reliably.\n",
      "Detector is not able to detect the language reliably.\n"
     ]
    },
    {
     "name": "stdout",
     "output_type": "stream",
     "text": [
      "          Сеть «Сушия» и ПриватБанк реализовали возможность заказа доставки блюд японской кухни с помощью                     интернет-банкинга.                    Заказать и оплатить доставку можно через мобильное приложение Приват24 для iOS для Android.                    Украинская сеть ресторанов современной японской кухни «Сушия» расширяет возможности доставки своих блюд и делает данную услугу еще более удобной. Подключение услуги доставки «Сушия» к                     интернет-банкингу                    Приват24 максимально упрощает процесс заказа для пользователей данной платежной системы. Для заказа доставки от «Сушия» через приложение для Android нужно авторизироваться в системе, выбрать раздел «Все услуги», перейти к опции «Заказ еды», определиться с нужным разделом меню, выбрать блюда и положить их в корзину, указать адрес и желаемое время доставки, оплатить заказ. Для iOS схема заказа практически идентична Android, за исключением того, что на стартовой странице нужно нажать значок \"\"+\"\", после чего выбрать опцию «Суши». Весь цикл заказа и оплаты осуществляется в личном кабинете пользователя Приват24, что избавляет от необходимости вводить данные банковской карты  весь процесс, таким образом, осуществляется в несколько кликов и требует минимум действий.                    \"\"Сегодня мы все живем условиях мультизадачности и вполне предсказуемо отдаем предпочтение тем решениям, которые позволяют эффективно выполнять сразу несколько задач,  отметил Евгений Сандрак, руководитель подразделения доставки «Сушия».  Запуск доставки «Сушия» через Приват24  это еще одни шаг навстречу нашим клиентам. Теперь они смогут заказывать любимые блюда с помощью привычной                     онлайн-системы,                    которая уже позволяет им решать множество бытовых вопросов  от денежных переводов до оплаты различных услуг. Надеемся, что пользователи Приват24 оценят новую гастрономическую опцию и станут постоянными клиентами нашей службы доставки\"\".                    На сайте ПриватБанка в личном кабинете пользователя Приват24 услуга заказа блюд «Сушия» будет доступна в ближайшее время.                    Пользователям                     онлайн-системы                    заказов блюд «Сушия» через приложение Приват24 будут доступны специальные акции и дополнительные скидки. Через приложение также можно будет приобретать подарочные карты на                     онлайн-заказы                    или посещение ресторанов сети «Сушия».                    «Сушия»                    Сеть ресторанов современной японской кухни «Сушия» основана в 2006 году и состоит из 40 ресторанов в 12 городах Украины  Киеве, Борисполе, Виннице, Днепропетровске, Запорожье, Луцке, Львове, Одессе, Сумах, Харькове, Черкассах и Черновцах. Ежемесячно обслуживает более 350 000 гостей, имеет собственную службу «Точная доставка».                    Детальная информация о сети ресторанов «Сушия» www.sushiya.ua                    По поводу размещения пресс-релизов обращайтесь в отдел маркетинга:                    e-mail:                     client@agroperspectiva.com                     тел.: +38 (044) 486-8119         \n"
     ]
    },
    {
     "name": "stderr",
     "output_type": "stream",
     "text": [
      "Detector is not able to detect the language reliably.\n",
      "Detector is not able to detect the language reliably.\n",
      "Detector is not able to detect the language reliably.\n",
      "Detector is not able to detect the language reliably.\n",
      "Detector is not able to detect the language reliably.\n",
      "Detector is not able to detect the language reliably.\n",
      "Detector is not able to detect the language reliably.\n",
      "Detector is not able to detect the language reliably.\n"
     ]
    },
    {
     "name": "stdout",
     "output_type": "stream",
     "text": [
      "Хорошая суббота в Сумах #Sumy#выходные#суббота#мануфактура#планетакино#сушиЯ\n"
     ]
    },
    {
     "name": "stderr",
     "output_type": "stream",
     "text": [
      "Detector is not able to detect the language reliably.\n"
     ]
    },
    {
     "name": "stdout",
     "output_type": "stream",
     "text": [
      "          Украинская сеть ресторанов современной японской кухни «Сушия» объявляет о начале сотрудничества с «Международной Финансовой Корпорацией» (IFC) по выстраиванию системы контроля пищевой безопасности. Компания «Сушия» стала первой на ресторанном рынке Украины, инициировавшей такое консультационное сотрудничество.                    Эксперты программы IFC «Внедрение стандартов в секторе агробизнеса в Европе и Центральной Азии» предоставят консультативную поддержку в разработке и внедрении системы управления пищевой безопасностью, чтобы содействовать «Сушия» в подготовке к международной сертификации FSSC 22000.                    Активная фаза проекта сотрудничества с IFC начинается с декабря 2015 года и продлится до июня 2016. За это время IFC проведет для «Сушия» диагностическую оценку, разработает план мер для улучшения безопасности, проведет обучение команды  от руководителей высшего звена до технического и вспомогательного персонала. Сотрудничество IFC и «Сушия» также предусматривает оптимизацию организационной структуры компании, формирование группы по обеспечению и контролю пищевой безопасности, проработку кризисных ситуаций, запуск пошагового внедрения новых нормативов на всех этапах  от поставок до момента подачи гостям ресторанов готовых блюд. В рамках проекта будет разработана система ХАССП (HACCP  Hazard analysis and critical control points  анализ рисков и критические контрольные точки), а также разработан и внедрен план мероприятий для дальнейшей международной сертификации FSSC 22000.                    «В нашей компании существует ряд ценностей, на основании которых мы строим свою работу. Свежесть, качество и безопасность наших блюд  это безусловный приоритет для наших ресторанов,  отметил руководитель сети „Сушия“ Роман Романук.  Наш внутренний контроль чрезвычайно жесткий: мы скрупулёзны в выборе поставщиков и крайне тщательно следим за свежестью. При этом трендом является и растущая требовательность потребителей  сегодня они все больше внимания уделяют качеству и безопасности продуктов. Пищевая безопасность сегодня, в условиях жесткой конкуренции и экономической турбулентности,  это не только важнейшее условие для доверия наших гостей, но и фактор устойчивости бизнеса в целом. И следуя еще одной ценности „Сушия“  инновационности, мы первыми среди рестораторов Украины запускаем проект сертифицированного контроля пищевой безопасности. Наша цель  не только вывести нашу безопасность на новый уровень, но и создать прецедент  чтобы программы пищевой безопасности стали на украинском ресторанном рынке массовым явлением».                    \"\"Сотрудничество с компанией «Сушия»  первый проект IFC по внедрению системы управления пищевой безопасностью в украинском секторе HoReCa,  отметила Елена Волошина, руководитель IFC в Украине.  Это еще один заметный шаг в нашей долгосрочной программе по содействию реформированию системы управления пищевой                   безопасностью, вокруг которой мы стремимся объединить усилия правительства, законодателей и непосредственно самих участников рынка\"\".                    Справка                    «Сушия»                    Сеть ресторанов современной японской кухни «Сушия» основана в 2006 году и состоит из 40 ресторанов в 12 городах Украины  Киеве, Борисполе, Виннице, Днепропетровске, Запорожье, Луцке, Львове, Одессе, Сумах, Харькове, Черкассах и Черновцах. Ежемесячно обслуживает более 350 000 гостей, имеет собственную службу «Точная доставка».                    Детальная информация о сети ресторанов «Сушия» www.sushiya.ua                    IFC                    IFC, член Группы Всемирного банка, является крупнейшим глобальным институтом развития, деятельность которого сосредоточена исключительно на развитии частного сектора на развивающихся рынках. Украина стала членом IFC (Международной финансовой корпорации) в 1993 году. Чтобы помочь украинским компаниям стать признанными лидерами в своих отраслях, IFC уже инвестировала более $2 миллиардов из собственных средств в различные проекты в агробизнесе, финансовом секторе, энергетике, инфраструктуре, индустрии строительных материалов, а также в сфере розничной торговли и обслуживания. Консультативная деятельность остается неотъемлемой составляющей частью стратегии IFC  содействовать развитию частного сектора в Украине.                   Консультационная программа IFC по внедрению стандартов в агробизнесе в Европе и Центральной Азии реализуется при поддержке Министерства финансов Австрии.                   Дополнительная информация www.ifc.org                       Пресс-служба                      «Сушия»:                    По поводу размещения пресс-релизов обращайтесь в отдел маркетинга:                    e-mail:                     client@agroperspectiva.com                     тел.: +38 (044) 486-8119         \n"
     ]
    },
    {
     "name": "stderr",
     "output_type": "stream",
     "text": [
      "Detector is not able to detect the language reliably.\n",
      "Detector is not able to detect the language reliably.\n"
     ]
    },
    {
     "name": "stdout",
     "output_type": "stream",
     "text": [
      "          21 декабря в сети ресторанов современной японской кухни «Сушия» появилось сезонное меню «Волшебная зима»  результат кропотливой творческой работы компании, вдохновленной японским искусством каллиграфии. Новое меню состоит из 5 блюд и 4 горячих напитков и будет доступно во всех ресторанах сети и службе доставки до 29 февраля 2016 года.                   Специфика меню «Волшебная зима»  креативные вариации на тему японской кухни. Традиционные для японской кухне продукты, кулинарные методики и стилистика сервировки соседствуют в зимнем меню с европейскими гастрономическими традициями, а японские классические блюда приобретают новое звучание благодаря использованию непривычных ингредиентов. Так, в меню «Волшебной зимы» рыба в роллах уступает свое место телятине и сервируется с зеленым маслом, а урожденный француз «Тартар» имеет ярко выраженный японский характер за счет лосося, авокадо и икры летучей рыбы. Классический теплый салат с куриной печенью дополнен бататом и белым вином и приобретает восточный шарм за счет соевого соуса и соуса унаги. На горячее здесь также фьюжн  «Рыба с овощами                     по-японски»                    готовится из лосося и креветок, дополненных грибами шиитаке, хондаши, кунжутом и соусом терияки. Десертные фрукты фламбе охлаждают и согревают одновременно: банан, яблоко, ананас, апельсин и персик покрыты хрустящей корочкой, образованной горящим ликером самбука, и подаются с мороженым и корицей. Кроме этого, в зимнем меню представлены оригинальные горячие напитки:                     апельсиново-клубничный                    и облепиховый чай, настоящее какао                     а-ля                    «Сушия»  с маршмеллоу, мороженым или красным перцем, и экзотический глинтвейн из белого вина с манго и маракуйей.                   Для «Сушия» сочетание японских кулинарных традиций и творческих экспериментов становится традиционным. Основное меню  это проверенная временем и пользующаяся неизменной любовью гостей японская классика: многочисленные роллы (более 30 видов), суши и сашими, разнообразная лапша, супы мисо, удон и рамен, закуски, салаты и десерты. Сезонные же предложения  это поле для экспериментов команды Сушия,фантазия которой рождает неожиданные вкусовые сочетания, необычные интерпретации привычных ингредиентов и креативную форму подачи.                   \"\"Японская кухня  это квинтэссенция гастрономического искусства: здесь нет ничего случайного  ни в рецептурах, ни в сочетании ингредиентов, ни в подаче. Мы в «Сушия» чтим кулинарные традиции Страны восходящего солнца и максимально воссоздаем их в наших ресторанах,  отметил руководитель сети «Сушия» Роман Романчук.  При этом мы также любим экспериментировать, искать новые вкусовые сочетания, вносить элемент творчества, ведь «Сушия»  это современная японская кухня. Сезонные меню позволяют нам реализовывать наш творческий потенциал, а наши гости это очень ценят  такие предложения всегда пользуются спросом. Оцените наш новый эксперимент и приходите пробовать «Волшебную зиму»  уверен, что вам понравится\"\".                   Кроме оригинальных гастрономических вариаций «изюминкой» зимнего меню является также стилистика его оформления  традиционная японская каллиграфия, и маленькие сюрпризы для гостей. В каждую папку «Волшебной зимы» вложен набор из 4 новогодних открыток с обезьянками  символом 2016 года по Восточному календарю. Открытки с пожеланиями можно забирать с собой как символ удачи в Новом году, дарить их близким и друзьям.                   «Сушия»                   Сеть ресторанов современной японской кухни «Сушия» основана в 2006 году и состоит из 40 ресторанов в 12 городах Украины  Киеве, Борисполе, Виннице, Днепропетровске, Запорожье, Луцке, Львове, Одессе, Сумах, Харькове, Черкассах и Черновцах. Ежемесячно обслуживает более 350 000 гостей, имеет собственную службу «Точная доставка».                    Детальная информация о сети ресторанов «Сушия» www.sushiya.ua                   По поводу размещения пресс-релизов обращайтесь в отдел маркетинга:                    e-mail:                     client@agroperspectiva.com                     тел.: +38 (044) 486-8119         \n"
     ]
    },
    {
     "name": "stderr",
     "output_type": "stream",
     "text": [
      "Detector is not able to detect the language reliably.\n",
      "Detector is not able to detect the language reliably.\n",
      "Detector is not able to detect the language reliably.\n",
      "Detector is not able to detect the language reliably.\n",
      "Detector is not able to detect the language reliably.\n",
      "Detector is not able to detect the language reliably.\n"
     ]
    },
    {
     "name": "stdout",
     "output_type": "stream",
     "text": [
      "ДР #любимой @anna_belinskaya #сушия #wine #love #girl #happybirthday\n"
     ]
    },
    {
     "name": "stderr",
     "output_type": "stream",
     "text": [
      "Detector is not able to detect the language reliably.\n",
      "Detector is not able to detect the language reliably.\n",
      "Detector is not able to detect the language reliably.\n"
     ]
    },
    {
     "name": "stdout",
     "output_type": "stream",
     "text": [
      "Рамееееееееееееен #ramen #GN #thissukraine #lviv #mimimi можна було б і більше шапші дати #сушия\n"
     ]
    },
    {
     "name": "stderr",
     "output_type": "stream",
     "text": [
      "Detector is not able to detect the language reliably.\n",
      "Detector is not able to detect the language reliably.\n",
      "Detector is not able to detect the language reliably.\n",
      "Detector is not able to detect the language reliably.\n",
      "Detector is not able to detect the language reliably.\n",
      "Detector is not able to detect the language reliably.\n",
      "Detector is not able to detect the language reliably.\n",
      "Detector is not able to detect the language reliably.\n",
      "Detector is not able to detect the language reliably.\n"
     ]
    },
    {
     "name": "stdout",
     "output_type": "stream",
     "text": [
      "Omnomnom#сушия#\n"
     ]
    },
    {
     "name": "stderr",
     "output_type": "stream",
     "text": [
      "Detector is not able to detect the language reliably.\n",
      "Detector is not able to detect the language reliably.\n",
      "Detector is not able to detect the language reliably.\n",
      "Detector is not able to detect the language reliably.\n",
      "Detector is not able to detect the language reliably.\n",
      "Detector is not able to detect the language reliably.\n",
      "Detector is not able to detect the language reliably.\n",
      "Detector is not able to detect the language reliably.\n",
      "Detector is not able to detect the language reliably.\n",
      "Detector is not able to detect the language reliably.\n",
      "Detector is not able to detect the language reliably.\n",
      "Detector is not able to detect the language reliably.\n",
      "Detector is not able to detect the language reliably.\n",
      "Detector is not able to detect the language reliably.\n",
      "Detector is not able to detect the language reliably.\n",
      "Detector is not able to detect the language reliably.\n",
      "Detector is not able to detect the language reliably.\n"
     ]
    },
    {
     "name": "stdout",
     "output_type": "stream",
     "text": [
      "Веселого Рождества! @ На Майдане\n",
      "Посиделки в честь последнего рабочего дня в этом году!!! #сушироллы#я_в_отпуске#свято_наближається_свято_наближається @ Сушия\n",
      "Посиделки в честь последнего рабочего дня в этом году!!! #сушироллы#я_в_отпуске#свято_наближається_свято_наближається \n"
     ]
    },
    {
     "name": "stderr",
     "output_type": "stream",
     "text": [
      "Detector is not able to detect the language reliably.\n",
      "Detector is not able to detect the language reliably.\n",
      "Detector is not able to detect the language reliably.\n",
      "Detector is not able to detect the language reliably.\n",
      "Detector is not able to detect the language reliably.\n",
      "Detector is not able to detect the language reliably.\n",
      "Detector is not able to detect the language reliably.\n",
      "Detector is not able to detect the language reliably.\n",
      "Detector is not able to detect the language reliably.\n",
      "Detector is not able to detect the language reliably.\n"
     ]
    },
    {
     "name": "stdout",
     "output_type": "stream",
     "text": [
      "Последние суши в этом году  #likeforfollow #likebackpromise #likebackalways #likebackteam #likers #like #liker #likes #likers #likeback #likebackteam l#likebackalways #likebackpromise #likebacks #sushi #sushiya #сушия #сушія #сушиязапорожье\n",
      "#сушия #киевграм #океанплаза @ Ocean Plaza - Океан Плаза\n"
     ]
    },
    {
     "name": "stderr",
     "output_type": "stream",
     "text": [
      "Detector is not able to detect the language reliably.\n",
      "Detector is not able to detect the language reliably.\n",
      "Detector is not able to detect the language reliably.\n",
      "Detector is not able to detect the language reliably.\n",
      "Detector is not able to detect the language reliably.\n",
      "Detector is not able to detect the language reliably.\n",
      "Detector is not able to detect the language reliably.\n",
      "Detector is not able to detect the language reliably.\n",
      "Detector is not able to detect the language reliably.\n",
      "Detector is not able to detect the language reliably.\n",
      "Detector is not able to detect the language reliably.\n"
     ]
    },
    {
     "name": "stdout",
     "output_type": "stream",
     "text": [
      "#выходные#с#Дашенькой#Dream#Town#Япона#Хата#Сушия#\n",
      "2. Сушия, экспрес пицца.\n"
     ]
    },
    {
     "name": "stderr",
     "output_type": "stream",
     "text": [
      "Detector is not able to detect the language reliably.\n",
      "Detector is not able to detect the language reliably.\n",
      "Detector is not able to detect the language reliably.\n",
      "Detector is not able to detect the language reliably.\n"
     ]
    },
    {
     "name": "stdout",
     "output_type": "stream",
     "text": [
      "Гарно погуляли з @viktoria_begas та @slavik_petrunik @ Сушия\n",
      "Гарно погуляли з @viktoria_begas та @slavik_petrunik\n"
     ]
    },
    {
     "name": "stderr",
     "output_type": "stream",
     "text": [
      "Detector is not able to detect the language reliably.\n"
     ]
    },
    {
     "name": "stdout",
     "output_type": "stream",
     "text": [
      "#сушия #sushi #суши #jammy\n"
     ]
    },
    {
     "name": "stderr",
     "output_type": "stream",
     "text": [
      "Detector is not able to detect the language reliably.\n",
      "Detector is not able to detect the language reliably.\n"
     ]
    },
    {
     "name": "stdout",
     "output_type": "stream",
     "text": [
      "Отдыхаем (@ Сушия / @Sushiya_ukraine in Київ, м. Київ) https://www.swarmapp.com/c/jJljj3rUcSp  \n"
     ]
    },
    {
     "name": "stderr",
     "output_type": "stream",
     "text": [
      "Detector is not able to detect the language reliably.\n",
      "Detector is not able to detect the language reliably.\n",
      "Detector is not able to detect the language reliably.\n",
      "Detector is not able to detect the language reliably.\n",
      "Detector is not able to detect the language reliably.\n",
      "Detector is not able to detect the language reliably.\n",
      "Detector is not able to detect the language reliably.\n",
      "Detector is not able to detect the language reliably.\n",
      "Detector is not able to detect the language reliably.\n",
      "Detector is not able to detect the language reliably.\n",
      "Detector is not able to detect the language reliably.\n",
      "Detector is not able to detect the language reliably.\n",
      "Detector is not able to detect the language reliably.\n",
      "Detector is not able to detect the language reliably.\n",
      "Detector is not able to detect the language reliably.\n"
     ]
    },
    {
     "name": "stdout",
     "output_type": "stream",
     "text": [
      "С Любимой Бусей  @ Сушия @ Aeromall\n"
     ]
    },
    {
     "name": "stderr",
     "output_type": "stream",
     "text": [
      "Detector is not able to detect the language reliably.\n"
     ]
    },
    {
     "name": "stdout",
     "output_type": "stream",
     "text": [
      "С котей в Сушия выбрались))решили культурно провести день)\n"
     ]
    },
    {
     "name": "stderr",
     "output_type": "stream",
     "text": [
      "Detector is not able to detect the language reliably.\n",
      "Detector is not able to detect the language reliably.\n",
      "Detector is not able to detect the language reliably.\n",
      "Detector is not able to detect the language reliably.\n",
      "Detector is not able to detect the language reliably.\n",
      "Detector is not able to detect the language reliably.\n",
      "Detector is not able to detect the language reliably.\n",
      "Detector is not able to detect the language reliably.\n",
      "Detector is not able to detect the language reliably.\n",
      "Detector is not able to detect the language reliably.\n",
      "Detector is not able to detect the language reliably.\n",
      "Detector is not able to detect the language reliably.\n"
     ]
    },
    {
     "name": "stdout",
     "output_type": "stream",
     "text": [
      "#сушия #семья\n"
     ]
    },
    {
     "name": "stderr",
     "output_type": "stream",
     "text": [
      "Detector is not able to detect the language reliably.\n",
      "Detector is not able to detect the language reliably.\n",
      "Detector is not able to detect the language reliably.\n",
      "Detector is not able to detect the language reliably.\n"
     ]
    },
    {
     "name": "stdout",
     "output_type": "stream",
     "text": [
      "Клан заболевших собрался :) @ Сушия\n"
     ]
    },
    {
     "name": "stderr",
     "output_type": "stream",
     "text": [
      "Detector is not able to detect the language reliably.\n",
      "Detector is not able to detect the language reliably.\n",
      "Detector is not able to detect the language reliably.\n"
     ]
    },
    {
     "name": "stdout",
     "output_type": "stream",
     "text": [
      "Евгений, мак зе бест+сушия\n"
     ]
    },
    {
     "name": "stderr",
     "output_type": "stream",
     "text": [
      "Detector is not able to detect the language reliably.\n",
      "Detector is not able to detect the language reliably.\n",
      "Detector is not able to detect the language reliably.\n",
      "Detector is not able to detect the language reliably.\n",
      "Detector is not able to detect the language reliably.\n",
      "Detector is not able to detect the language reliably.\n",
      "Detector is not able to detect the language reliably.\n",
      "Detector is not able to detect the language reliably.\n"
     ]
    },
    {
     "name": "stdout",
     "output_type": "stream",
     "text": [
      "#сушія #коктейльсет #яцелюблю @alexander_havara #перемоглисуші ;)\n"
     ]
    },
    {
     "name": "stderr",
     "output_type": "stream",
     "text": [
      "Detector is not able to detect the language reliably.\n",
      "Detector is not able to detect the language reliably.\n",
      "Detector is not able to detect the language reliably.\n"
     ]
    },
    {
     "name": "stdout",
     "output_type": "stream",
     "text": [
      "Sushi time  @ Сушия\n",
      "Очень вкусное какао с маршмеллоу в @sushiya_ua на Крещатике @ Сушия Ул. Крещатик, 13/2\n",
      "Люблю моих девуль #girlsparty #meet #loveyou #young #beautiful #комельфо #sushia #kyiv #party #instagood #instadaily #cool #girls @ Сушия\n"
     ]
    },
    {
     "name": "stderr",
     "output_type": "stream",
     "text": [
      "Detector is not able to detect the language reliably.\n",
      "Detector is not able to detect the language reliably.\n",
      "Detector is not able to detect the language reliably.\n",
      "Detector is not able to detect the language reliably.\n",
      "Detector is not able to detect the language reliably.\n",
      "Detector is not able to detect the language reliably.\n",
      "Detector is not able to detect the language reliably.\n",
      "Detector is not able to detect the language reliably.\n",
      "Detector is not able to detect the language reliably.\n"
     ]
    },
    {
     "name": "stdout",
     "output_type": "stream",
     "text": [
      "#СушиЯ #Одесса @ Одесса, ул. Дерибасовская\n",
      "          Мережа ресторанів сучасної японської кухні «Сушия» підвела підсумки 2015 року                      9-го                    року успішної роботи на українському ринку. Свій ювілейний рік компанія починає з 39 ресторанами в 12 містах України (23 в Києві і 16 в регіонах), більше 1500 співробітників, новими планами і перспективами.                    У 2015 році «Сушия» продемонструвала стабільний розвиток. Компанія відкрила нові ресторани в Києві (ТЦ «Апрєль», просп. Л. Курбаса, 19а) та Львові (ТРЦ «Forum Lviv», вул. Під Дубом, 7б), інвестувавши в них близько 6,8 млн. грн.                    Також компанія вже вклала близько 1,8 млн. грн. в два нових ресторани, відкриття яких заплановане на перший квартал 2016: у новому київському                     торгово-розважальному                    центрі «New Way» (вул. Архітектора Вербицького) і у Львові за адресою пр. Т. Шевченка, 3. При цьому з незалежних від компанії причин в 2015 році «Сушия» змушена була закрити 3 київських ресторани  в ТРЦ «Гулівер», ресторани на вул. Грушевського та Городецького.                    Розвиток мережі торкнувся і сервісу «Точна доставка»: на сьогоднішній день послуга доставки від «Сушия» доступна не лише в містах присутності мережі, але також в передмістях, кількість яких вже становить 17. Зростання замовлень «Точної доставки» склало 8,64% по відношенню до 2014 року  компанія обробила 486 275 замовлень доставки. У 2015 році до існуючих каналів замовлення доставки страв «Сушия»  за допомогою офіційного сайту, мобільних додатків і                     call-центру                     додалася можливість замовлення через мобільний додаток для                     онлайн-банкінгу                    Приват24.                    В рамках постійного підвищення стандартів мережі в грудні 2015 року в партнерстві з «Міжнародною фінансовою корпорацією» (IFC)  членом Групи Світового банку і найбільшим глобальним інститутом розвитку  «Сушия» першою серед ресторанів України запустила комплексну піврічну програму підготовки з харчової безпеки. У рамках цього проекту експерти міжнародного рівня проводять комплексну діагностичну оцінку мережі, перевіряють безпеку всіх ресторанів «Сушия» і вносять рекомендації щодо удосконалення системи контролю харчової безпеки. По закінченні проекту наступним кроком стане міжнародна сертифікація FSSC 22000.                    Компанія також продовжує працювати над розвитком системи логістики та власного імпорту, які дозволяють забезпечувати найвищу якість і зберігати демократичні ціни. Сьогодні частка власного імпорту в структурі закупівель «Сушия» становить понад 80% і продовжує зростати. Компанія закуповує ключові інгредієнти в США, Вєтнамі, Китаї та Латвії.                    «Сушия» постійно розширює своє меню, пропонуючи гостям не тільки улюблені страви класичної японської кухні, які користуються незмінним попитом, а й креативні сезонні пропозиції. У 2015 році в меню «Сушия» було 3 сезонних спешіалза  мережа представила 16 нових страв і 11 напоїв. На даний момент в ресторанах мережі доступна спеціальна зимова пропозиція «Чарівна зима».                    Прагнучи власноруч вирішувати проблему відсутності кваліфікованого персоналу ресторанної галузі, «Сушия» інвестує у власну програму підготовки кадрів. Так, у 2015 році компанія провела 40 шкіл офіціантів і 66 шкіл кухарів, навчивши більше 1000 нових офіціантів і кухарів японської кухні. Компанія також інвестує в професійний розвиток співробітників, забезпечує їм комфортні умови праці та соціальні гарантії. У                   2015 році «Сушия» вперше потрапила до рейтингу кращих роботодавців України за версією журналу «Фокус», зайнявши в ньому друге місце.                    Вважаючи своїм обовязком не лише стабільно розвивати бізнес, підвищувати стандарти ресторанної справи в Україні, вирощувати професійні кадри, забезпечувати робочі місця і надходження до бюджету країни за рахунок сплати податків, «Сушия» також бачить свою місію в підтримці суспільства та різних соціальних проектів. Так, в 2015 році в рамках сприяння вітчизняному автоспорту компанія почала проект з підтримки гоночної команди  дебютанта Чемпіонату України з                     шосейно-кільцевих                    перегонів. У 2016 році проект буде продовжено і розширено.                    \"\"2015 рік був непростим для українського бізнесу взагалі і для ресторанів зокрема. Ми всі відчули на собі наслідки нестабільної економічної і політичної ситуації в країні, і «Сушия» не стала винятком,  зазначив керівник мережі «Сушия» Роман Романчук.  При цьому до кінця року позитивна динаміка ставала все більш відчутною, і в цілому я можу оцінити минулий рік як досить успішний. У 2016 ми увійшли з новими амбітними планами, які вже починаємо втілювати. Ми відкриваємо нові ресторани, плануємо розширювати географію присутності, розвиваємо доставку, розробляємо концепцію оновлення «Сушия 2.0». Ми починаємо новий рік з оптимізмом  так, в 2016 нас чекає багато роботи, але це робота яку ми дуже любимо,  годувати наших гостей якісною та смачною японською кухнею і постійно перевершувати їхні очікування \"\".                    Кілька цікавих фактів про «Сушия» в 2015 році:                    •\tНайпопулярніша страва: рол «Філадельфія» зі свіжим лососем (229 433 проданих порції за рік) і водорості хіяші з кунжутом (220 429 порцій за рік)                    •\tНайпопулярніший напій: класичний лимонад з мятою (257 517 порцій за рік)                    •\tНайбільш відвідуваний ресторан мережі: «Сушія» в ТРЦ «Dream Town» (Київ)  147 619 гостей за рік                    •\tНайбільш відвідуваний ресторан мережі в регіонах: «Сушія» в ТРЦ «Kings Cross» (Львів)  135 299 гостей за рік                    •\tРекордну кількість замовлень служба доставки отримала 8 березня  3 501 (приблизно 4 замовлення за хвилину протягом усього дня)                    •\tРекордна кількість відвідувачів в день: 1 111 гостей (890 чеків)  14 лютого, ТРЦ «Dream Town» (Київ)                    •\tВжита кількість рису: 361 тонна за рік                    •\tВжита кількість охолодженого лосося: 111 тонн за рік                    •\tВжита кількість авокадо: 98 тонн за рік                    •\tВжита кількість копченого лосося: 8 тонн за рік                   «Сушия»                    Мережа ресторанів сучасної японської кухні «Сушия» заснована в 2006 році і складається з 39 ресторанів в 12 містах України  Києві, Борисполі, Вінниці, Дніпропетровську, Запоріжжі, Луцьку, Львові, Одесі, Сумах, Харкові, Черкасах та Чернівцях. Щомісяця обслуговує більше 350 000 гостей, має власну службу «Точна доставка».                    По поводу размещения пресс-релизов обращайтесь в отдел маркетинга:                    e-mail:                     client@agroperspectiva.com                     тел.: +38 (044) 486-8119         \n"
     ]
    },
    {
     "name": "stderr",
     "output_type": "stream",
     "text": [
      "Detector is not able to detect the language reliably.\n",
      "Detector is not able to detect the language reliably.\n",
      "Detector is not able to detect the language reliably.\n",
      "Detector is not able to detect the language reliably.\n",
      "Detector is not able to detect the language reliably.\n"
     ]
    },
    {
     "name": "stdout",
     "output_type": "stream",
     "text": [
      "Приятного аппетита #sushi #сушия #одесса_мама #всемдобра✌️#odessa2016 #хочусуши #снегидёт\n",
      "#сушия #Ukranie #Україна #Київ #Kiev\n"
     ]
    },
    {
     "name": "stderr",
     "output_type": "stream",
     "text": [
      "Detector is not able to detect the language reliably.\n",
      "Detector is not able to detect the language reliably.\n",
      "Detector is not able to detect the language reliably.\n",
      "Detector is not able to detect the language reliably.\n",
      "Detector is not able to detect the language reliably.\n",
      "Detector is not able to detect the language reliably.\n"
     ]
    },
    {
     "name": "stdout",
     "output_type": "stream",
     "text": [
      "Ну как же без них #сушки #сушимания #sushi #какжебезних #сушии #insta_kiev #sushitime\n"
     ]
    },
    {
     "name": "stderr",
     "output_type": "stream",
     "text": [
      "Detector is not able to detect the language reliably.\n",
      "Detector is not able to detect the language reliably.\n",
      "Detector is not able to detect the language reliably.\n",
      "Detector is not able to detect the language reliably.\n",
      "Detector is not able to detect the language reliably.\n",
      "Detector is not able to detect the language reliably.\n",
      "Detector is not able to detect the language reliably.\n",
      "Detector is not able to detect the language reliably.\n",
      "Detector is not able to detect the language reliably.\n",
      "Detector is not able to detect the language reliably.\n",
      "Detector is not able to detect the language reliably.\n",
      "Detector is not able to detect the language reliably.\n",
      "Detector is not able to detect the language reliably.\n",
      "Detector is not able to detect the language reliably.\n",
      "Detector is not able to detect the language reliably.\n",
      "Detector is not able to detect the language reliably.\n",
      "Detector is not able to detect the language reliably.\n",
      "Detector is not able to detect the language reliably.\n",
      "Detector is not able to detect the language reliably.\n",
      "Detector is not able to detect the language reliably.\n"
     ]
    },
    {
     "name": "stdout",
     "output_type": "stream",
     "text": [
      "#Киев #Kyiv #Kiev #зима #winter #выходной #holiday #30января2016 #ДримТаун #DreamTown #отдых #relax #Сушия #суши #sushi #роллы #sushitime #панакота #pannacotta #тирамису #tiramisu #креммусс #creammousse #мятныйлимонад #вкусняшечка #yummy #goodday #goodemotions\n",
      "#ужин #sushi #суши #черкассы #cherkassy #sushiya #сушия #rest_in_cherkassy\n"
     ]
    },
    {
     "name": "stderr",
     "output_type": "stream",
     "text": [
      "Detector is not able to detect the language reliably.\n"
     ]
    },
    {
     "name": "stdout",
     "output_type": "stream",
     "text": [
      "Сушии\n",
      "Мы с Ленкай кушаем в Сушие ролы\n"
     ]
    },
    {
     "name": "stderr",
     "output_type": "stream",
     "text": [
      "Detector is not able to detect the language reliably.\n",
      "Detector is not able to detect the language reliably.\n"
     ]
    },
    {
     "name": "stdout",
     "output_type": "stream",
     "text": [
      "Тут сестра @mrs_pai своими постами навеяла воспоминания о чае 😊 Когда я была в Киеве, мы Риммочкой @mackovarimma попробовали совершенно бесподобный чай с облепихой, кусочками яблока и маракуйи👍 Какой у него был аромат и вкус не передать словами 😊 Пы.Сы Если будете в СушиЯ обязательно закажите этот напиток. Кстати, в нём нет ни грамма сахара 😋#чай #облепиховыйчай #полезныйчай #вкуснотища #чайсяблокомиманго\n",
      "I'm at Сушия / @Sushiya_ukraine in Київ, м. Київ https://www.swarmapp.com/c/2Ncausbhmac\n"
     ]
    },
    {
     "name": "stderr",
     "output_type": "stream",
     "text": [
      "Detector is not able to detect the language reliably.\n",
      "Detector is not able to detect the language reliably.\n",
      "Detector is not able to detect the language reliably.\n",
      "Detector is not able to detect the language reliably.\n"
     ]
    },
    {
     "name": "stdout",
     "output_type": "stream",
     "text": [
      "Сушия  Dream Town)\n",
      "Продовжуєм святкувати #моєденьнародження #sushi#greetings#happybirthdaytome#mybirthday#26#немолодеем#деньрождения#семья#цветы#подарки#поздравленияпродолжаются#мойденьрождение#flowers#presents#selfie#tbt#vscocam#vsco#sushiya#japanesecuisine#japan#японськакухня#суші#роли#японія\n",
      "Обожаю суши.... (@ СушиЯ / @Sushiya_ukraine in Київ, м. Київ) https://www.swarmapp.com/c/80Lb1lrkVOq  \n",
      "Кушать всегда надо вкусно. (@ СушиЯ / @Sushiya_ukraine in Київ, м. Київ) https://www.swarmapp.com/c/e5Gz88VBU3L  \n",
      "Ужин #Sumy #Sushi #СушиЯ #genießen #glück #отдых #relax #restaurant #вкусно #abendessen\n"
     ]
    },
    {
     "name": "stderr",
     "output_type": "stream",
     "text": [
      "Detector is not able to detect the language reliably.\n",
      "Detector is not able to detect the language reliably.\n"
     ]
    },
    {
     "name": "stdout",
     "output_type": "stream",
     "text": [
      "День не прошел зря :)#icecream #greentea #mint #kiev #delicious #instafood #instagood #tasty #green @ Сушия На Майдане\n"
     ]
    },
    {
     "name": "stderr",
     "output_type": "stream",
     "text": [
      "Detector is not able to detect the language reliably.\n",
      "Detector is not able to detect the language reliably.\n",
      "Detector is not able to detect the language reliably.\n"
     ]
    },
    {
     "name": "stdout",
     "output_type": "stream",
     "text": [
      "#СушиЯ#суп#Miso#неймовірний#обліпиховийчай @ Ocean Plaza - Океан Плаза\n",
      "Рай  ДЯКУЮ за ще одну радість !!! #сушия #львів #кингкросс #дякую #тобі #счастьеесть #счастьевмелочах #радость #вкусняшки #смакота #mymood #mylife #syshiya #kingkrossleopolis #lviv #thanks #thankyou #ролл #філадельфія #приятности #good #day\n"
     ]
    },
    {
     "name": "stderr",
     "output_type": "stream",
     "text": [
      "Detector is not able to detect the language reliably.\n",
      "Detector is not able to detect the language reliably.\n"
     ]
    },
    {
     "name": "stdout",
     "output_type": "stream",
     "text": [
      "Вкуснейший облепиховый чай в компании @anzhelika_plokhotniuk #томапрости #vsco #vscocam #vscofood #sushiya #tea #seabuckthorn #vscoodessa #vscoua #igersukraine #igersodessa\n"
     ]
    },
    {
     "name": "stderr",
     "output_type": "stream",
     "text": [
      "Detector is not able to detect the language reliably.\n"
     ]
    },
    {
     "name": "stdout",
     "output_type": "stream",
     "text": [
      "#лето#июнь у сестричек в гостях#скучаю#было #круто#сушия#суши#омномном##винишко #filadelfia #филадельфия#мирдолжензнать #мирдолжензнатьчтояделаю #мирдолжензнатьчтояпью #мирдолжензнатьчтояем\n",
      "          8 лютого 2016 року мережа ресторанів сучасної японської кухні «Сушия» відкрила новий ресторан в центрі Львова.                    Новий ресторан «Сушия» (пр. Шевченка, 3) став                     40-м                    закладом мережі в Україні та третім у Львові. Перший ресторан «Сушия» в Західній столиці України було відкрито в 2010 році, другий  восени 2015 року.                    Ресторан розташований в історичному центрі в безпосередній близькості від основних визначних памяток Львова, що робить його привабливим не лише для мешканців міста, а й для туристів. Приміщення площею 285 м? розраховане на 94 посадочних місця.                    «Відкриття третього ресторану мережі у Львові є відповіддю на тренд популярності цього прекрасного старовинного міста для туристів і важливим кроком на шляху розширення присутності» Сушия «в Західному регіоні,  зазначив Антон Ходисько, директор Департаменту розвитку» Сушия\"\".  Для нас ця подія дуже очікувана, оскільки досвід відкриття попереднього ресторану декількома місяцями раніше виявився більш ніж успішним. Жителів такого мультикультурного міста як Львів необхідно постійно дивувати чимось новим і незвичним. І ми з радістю вносимо екзотичну східну ноту в багатонаціональну кулінарну палітру Західної столиці\"\".                    На честь відкриття третього ресторану «Сушия» 11 лютого о 12:00 буде проходити дегустація найпопулярніших страв меню: ролів Філадельфія Де Люкс зі свіжим лососем, Зелений Дракон, Червоний Дракон, Золотий Унаги Дракон, Каліфорнія в ікрі зі свіжим лососем, Хауз рол, Cмайл рол, Ролл з лососем. Крім того, найменших відвідувачів чекає невеличкий сюрприз  фірмовий магнітний пазл «Сушия».                    Відкриття ще одного ресторану дозволить збільшити потужності сервісу «Точна доставка» у Львові і скоротити час обробки замовлень для центральних районів міста  свіжі страви японської кухні додому та в офіс стануть ще доступнішими.                   Про компанію «Сушия»                    Мережа ресторанів сучасної японської кухні «Сушия» заснована в 2006 році і складається з 40 ресторанів в 12 містах України  Києві, Борисполі, Вінниці, Дніпропетровську, Запоріжжі, Луцьку, Львові, Одесі, Сумах, Харкові, Черкасах та Чернівцях. Щомісяця обслуговує більше 350 000 гостей, має власну службу доставки «Точна доставка».                   По поводу размещения пресс-релизов обращайтесь в отдел маркетинга:                    e-mail:                     client@agroperspectiva.com                     тел.: +38 (044) 486-8119         \n"
     ]
    },
    {
     "name": "stderr",
     "output_type": "stream",
     "text": [
      "Detector is not able to detect the language reliably.\n",
      "Detector is not able to detect the language reliably.\n"
     ]
    },
    {
     "name": "stdout",
     "output_type": "stream",
     "text": [
      "@Sushiya_Ukraine открыла третий ресторан во Львове http://eda.vlasnasprava.ua/novosti-restorannogo-bi... … \n"
     ]
    },
    {
     "name": "stderr",
     "output_type": "stream",
     "text": [
      "Detector is not able to detect the language reliably.\n",
      "Detector is not able to detect the language reliably.\n",
      "Detector is not able to detect the language reliably.\n"
     ]
    },
    {
     "name": "stdout",
     "output_type": "stream",
     "text": [
      "«Сушия» открыла третий ресторан во Львове (2)Новый ресторан «Сушия» (пр. http://news.meta.ua/reg/kharkiv/cluster:47186807-S...﻿\n",
      "«Сушия» открыла третий ресторан во Львове (2)Новый ресторан «Сушия» (пр. http://news.meta.ua/reg/dnipropetrovsk/cluster:471...﻿\n"
     ]
    },
    {
     "name": "stderr",
     "output_type": "stream",
     "text": [
      "Detector is not able to detect the language reliably.\n",
      "Detector is not able to detect the language reliably.\n",
      "Detector is not able to detect the language reliably.\n",
      "Detector is not able to detect the language reliably.\n",
      "Detector is not able to detect the language reliably.\n",
      "Detector is not able to detect the language reliably.\n",
      "Detector is not able to detect the language reliably.\n",
      "Detector is not able to detect the language reliably.\n"
     ]
    },
    {
     "name": "stdout",
     "output_type": "stream",
     "text": [
      "Ай вай,Сандра)Спасибо#сушия #sushiya\n",
      "Мега набір #сушіяжизньмая#Ірашаймасе#сушія#forumlviv\n"
     ]
    },
    {
     "name": "stderr",
     "output_type": "stream",
     "text": [
      "Detector is not able to detect the language reliably.\n",
      "Detector is not able to detect the language reliably.\n",
      "Detector is not able to detect the language reliably.\n",
      "Detector is not able to detect the language reliably.\n",
      "Detector is not able to detect the language reliably.\n"
     ]
    },
    {
     "name": "stdout",
     "output_type": "stream",
     "text": [
      "РЕПОСТ!!!!Разыгрываем конкурсы за 14 февраля 2016Сделайте, пожалуйста, репост этой записи, чтобы больше людей могли узнать о группе и выиграть призы.Выбирайте любой конкурс, который вас заинтересовал, делайте все условия указанные в данном конкурсе, и ждите розыгрыш. Вам обязательно должно повезти выиграть хотя бы один из всех)1. http://vk.com/wall-105691881_445 сертификат Кировоград2. http://vk.com/wall-105691881_456  Підвіска у формі серця на вибір 3. http://vk.com/wall-105691881_519 свадебный набор бокалы4. http://vk.com/wall-105691881_671 50 грн 5. http://vk.com/wall-113188916_48 бананку на вибір 6. http://vk.com/wall-105691881_448 5 пряников Кировоград 7. http://vk.com/wall-105691881_377 серьги 8. http://vk.com/wall-105691881_415 лак 9. http://vk.com/wall-105691881_367 подушечка для колец 10. http://vk.com/wall-110801236_425 Розіграємо солодощі !!! 11. http://vk.com/wall-110801236_409 Розіграємо солодощі !!! 12. http://vk.com/wall-69505096_196 сертификат 300гр13. http://vk.com/wall-89634760_14674 20 14. http://vk.com/wall-96427011_1707 кроссы или легинсы 15. http://vk.com/wall-111630467_2 9 призов 16. http://vk.com/wall-86191847_2537 упаковку молотого кофе \"\"Paulig President\"\" (75 г) 17. http://vk.com/wall-96197440_812 фоторамка 18. http://vk.com/wall-95492761_2306 консиллер 19. http://vk.com/wall-89634760_14647 часы 20. http://vk.com/wall-114363078_6 магниты 21. http://vk.com/wall-107029725_213 будь-яку свічку на вибір зі своєї групи 22. http://vk.com/wall-91401362_44507 500 грн 23. http://vk.com/wall-91401362_44515 Живую 3D раскраску 24. http://vk.com/wall-91401362_44520 стиральный порошок \"\"Галус 10кг\"\"25. http://vk.com/wall-91401362_44525 комплект нижнего белья или 200 грн на выбор 26. http://vk.com/wall-105218324_333 Розіграш безкоштовного відпочинку в КАРПАТАХ у котеджі до чотирьох осіб: 27. http://vk.com/wall-91401362_44502 сладости 28. http://vk.com/wall-80336469_5230 сладости 29. http://vk.com/wall-97418488_2399 карандаши 30. http://vk.com/wall310129655_556 кондиционер для белья 31. http://vk.com/wall-109799773_139 50 32. http://vk.com/wall-75530448_1460 20 33. http://vk.com/wall-44222464_2591 подвеска 34. http://vk.com/wall-97745575_3471 флешка 35. http://vk.com/wall-97745575_3463 консиллер 36. http://vk.com/wall-97745575_3457 монопод 37. http://vk.com/wall-104538235_4067 браслет 38. http://vk.com/wall-104538235_4065 свитшот 39. http://vk.com/wall-109773749_5005 сладости 40. http://vk.com/wall-109349166_290 чай 41. http://vk.com/wall-97121373_2314 суперовий гель для душу (на вибір).42. http://vk.com/wall-97121373_2331 подарує один із чудових подарунків (на вибір).43. http://vk.com/wall-97121373_2339 дитячий одяг 44. http://vk.com/wall-97121373_2402 ексклюзивні валентинки ручної роботи45. http://vk.com/wall-109349166_955 набор капкейков!46. http://vk.com/wall-109349166_954 1-е место Подарочный набор духов,2-е место Итальянское шампанское,3-е место Фруктовый гранулированный чай!47. http://vk.com/wall-84618443_36392 парфюм 48. http://vk.com/wall-88267645_22 торт и скидки 49. http://vk.com/wall-111512653_20 Абсолютно НОВЫЙ iPhone 6 64 Gb Silver50. http://vk.com/wall-37121309_1156 iPhone 5s, 64GB51 http://vk.com/wall-50550939_666 сертификат 3000 52 http://vk.com/wall-95594642_1004 нутелла,рафаэлло,жвачки 53 http://vk.com/wall-56987833_3296 20 54 http://vk.com/wall-98287679_685 100 55 http://vk.com/wall-97772538_1252 смартфон 56 http://vk.com/wall-102092113_1048 бальзам для губ 57 http://vk.com/wall-102807151_532 500 58 http://vk.com/wall-102807151_534 корзинка сладостей 59 http://vk.com/wall-109265154_539 мягкая игрушка 60 http://vk.com/wall-109685176_666 61 http://vk.com/wall-109685176_665 надувной матрац 62 http://vk.com/wall-109685176_663 гель для душа 63 https://vk.com/wall-99759061_2581 Крутий \"\"Приз-сюрприз\"\"64 https://vk.com/wall-99759061_4199 онлайн програму по зниженню ваги на 10 тижнів65 https://vk.com/wall-99759061_6269 пусети на вибір 66 http://vk.com/wall-102757008_3127 200 67 http://vk.com/wall-105133945_1200 100 68 http://vk.com/wall-105133945_1203 20 69 http://vk.com/wall-95594642_1012 нижнее белье 70 http://vk.com/wall-99174067_1622 монопод или часы 71 http://vk.com/wall-85395279_12181 маска для волос 72 http://vk.com/wall-40615234_3190 топ 3 73 http://vk.com/wall-95492761_2306 консиллер 74 http://vk.com/wall-107886823_582 портрет 75 http://vk.com/wall-66755683_23516 сюрприз 76 http://vk.com/wall-97080196_322 шампанское 77 http://vk.com/wall-40373561_951 конфетная композиция 78 http://vk.com/wall-92994451_2395 парфюм 79 http://vk.com/wall-92994451_2394 расческа 80 http://vk.com/wall-92994451_2391 платье 81 http://vk.com/wall-58472252_518710 монопод 82 http://vk.com/wall-58472252_518709 складной нож 83 http://vk.com/wall-95154338_14484 подарок из представленных на фото.84 http://vk.com/wall-95154338_14478 маркер для губ 85.http://vk.com/wall-95409779_2308 метрика новорожденному86. http://vk.com/wall-93239092_2047 массаж Киев88. http://vk.com/wall-81893334_42614 портрет 89. http://vk.com/wall-81893334_42648 набор для ухода за телом 90. http://vk.com/wall-30347957_46 фотосессия Чернигов 91. http://vk.com/wall-107185845_2126 подарок на выбор подписчику92. http://vk.com/wall-94826053_4452елегантний аромат Парфюмерную воду Miss Giordani!93. http://vk.com/wall-94826053_4452 парфюм 94. http://vk.com/wall-111495828_26 ПОДАРОК НА ВЫБОР!95. http://vk.com/wall-98754864_812 50 96. http://vk.com/wall-92934963_3793 средство для лица 97.http://vk.com/wall-92934963_3799 украшение на волосы98. http://vk.com/wall-92934963_3803 браслет 99. http://vk.com/wall-114395900_12 плюшевый мишка 100. http://vk.com/wall-88681190_584 50 101 https://vk.com/wall-109615853_54 стильные крутые наушники102 https://vk.com/wall-111360054_21 20 103 http://vk.com/wall-90359214_9241 комплект белья 104 http://vk.com/wall-112776911_17 20 105 http://vk.com/wall-105132892_3366 парфюм 106 http://vk.com/wall-97494347_2332 10 107 http://vk.com/wall-97494347_2311 50 108 http://vk.com/wall-97494347_2287 роза 109 http://vk.com/wall325947327_112 50 110 http://vk.com/wall-97494347_2004 набор от эйвон 111 http://vk.com/wall-97494347_1988 шапка 112 http://vk.com/wall-38785180_3011 юсб фонарик 113 http://vk.com/wall-47914993_15203 маникюр Харьков 114 http://vk.com/wall-81967020_4680 набор натуральной косметики 115 http://vk.com/wall-81967020_4576 наращивание ресниц Харьков 116 http://vk.com/wall-81967020_4483 кукла-ангелочек, 20... 117 http://vk.com/wall-85361640_1182 парфюм 118 http://vk.com/wall-109402561_51 фотоаппарат 119 http://vk.com/wall-65054796_971 фотосессия Киев 120 http://vk.com/wall-70793162_4286 планшет 121 http://vk.com/wall-104391727_382 сертификат 300 в СушиЯ 122 http://vk.com/wall-108260381_4471 юсб лампа 123 http://vk.com/wall-5452945_17771 сертификат 200 124 http://vk.com/wall-5452945_17703 тренажерный зал Мариуполь 125 http://vk.com/wall-5452945_17701 маникюр Мариуполь 126 http://vk.com/wall-87332987_10516 набор пряников 127 http://vk.com/wall-87332987_10506 фотомагнит 128 http://vk.com/wall-87332987_10455 сертификат 500 Николаев 129 http://vk.com/wall-87332987_10453 100\n",
      "#сушия2016 #valentines2016 #ДеньСвятогоВалентина #StValentinesDay #14февраля2016 #love #сушия #sushia #14февраля\n"
     ]
    },
    {
     "name": "stderr",
     "output_type": "stream",
     "text": [
      "Detector is not able to detect the language reliably.\n"
     ]
    },
    {
     "name": "stdout",
     "output_type": "stream",
     "text": [
      "#sait #for #you #business #portfoliowebsite #pintawebware Больше информации, новостей и инфоблог на @pinta_webware ПОДПИСЫВАЙТЕСЬ)#burgerking #бургеркинг #burger #макдоналдс #сушия #сушибар #сушироллы #сушисити #ресторанспб #ресторанчик #ресторан #кафемосквы #компот #кафешоколад #шоколадница\n"
     ]
    },
    {
     "name": "stderr",
     "output_type": "stream",
     "text": [
      "Detector is not able to detect the language reliably.\n",
      "Detector is not able to detect the language reliably.\n"
     ]
    },
    {
     "name": "stdout",
     "output_type": "stream",
     "text": [
      "#Valentine's#Valentineday #sushia #love #sushi #деньсвятоговалентина#happy #happyday #inkerman#selfie #joy #ilovesushi #\n"
     ]
    },
    {
     "name": "stderr",
     "output_type": "stream",
     "text": [
      "Detector is not able to detect the language reliably.\n",
      "Detector is not able to detect the language reliably.\n",
      "Detector is not able to detect the language reliably.\n",
      "Detector is not able to detect the language reliably.\n",
      "Detector is not able to detect the language reliably.\n",
      "Detector is not able to detect the language reliably.\n",
      "Detector is not able to detect the language reliably.\n",
      "Detector is not able to detect the language reliably.\n",
      "Detector is not able to detect the language reliably.\n",
      "Detector is not able to detect the language reliably.\n"
     ]
    },
    {
     "name": "stdout",
     "output_type": "stream",
     "text": [
      "В кругу семьи #kiev #ukraine #борщаговка #сушия #family #vscocam #insta #instagramers #vscocam #vsco #vscogood #get #happy #instafit\n"
     ]
    },
    {
     "name": "stderr",
     "output_type": "stream",
     "text": [
      "Detector is not able to detect the language reliably.\n",
      "Detector is not able to detect the language reliably.\n",
      "Detector is not able to detect the language reliably.\n",
      "Detector is not able to detect the language reliably.\n"
     ]
    },
    {
     "name": "stdout",
     "output_type": "stream",
     "text": [
      "Dinner with my family from Denmark.#ужин #dinner #family #семья #суши #denysromanenko  @ Сушия\n"
     ]
    },
    {
     "name": "stderr",
     "output_type": "stream",
     "text": [
      "Detector is not able to detect the language reliably.\n",
      "Detector is not able to detect the language reliably.\n",
      "Detector is not able to detect the language reliably.\n",
      "Detector is not able to detect the language reliably.\n",
      "Detector is not able to detect the language reliably.\n",
      "Detector is not able to detect the language reliably.\n",
      "Detector is not able to detect the language reliably.\n",
      "Detector is not able to detect the language reliably.\n",
      "Detector is not able to detect the language reliably.\n"
     ]
    },
    {
     "name": "stdout",
     "output_type": "stream",
     "text": [
      "Есть у нас такая традиция))) всегда отмечаем приезд @yanaglivinskaya8 в #сушия #sushi #mylove #frend #пятницаразвратница #ушелвотрыв\n"
     ]
    },
    {
     "name": "stderr",
     "output_type": "stream",
     "text": [
      "Detector is not able to detect the language reliably.\n",
      "Detector is not able to detect the language reliably.\n",
      "Detector is not able to detect the language reliably.\n",
      "Detector is not able to detect the language reliably.\n",
      "Detector is not able to detect the language reliably.\n",
      "Detector is not able to detect the language reliably.\n",
      "Detector is not able to detect the language reliably.\n"
     ]
    },
    {
     "name": "stdout",
     "output_type": "stream",
     "text": [
      "#sushiya #днепроплаза\n"
     ]
    },
    {
     "name": "stderr",
     "output_type": "stream",
     "text": [
      "Detector is not able to detect the language reliably.\n",
      "Detector is not able to detect the language reliably.\n",
      "Detector is not able to detect the language reliably.\n",
      "Detector is not able to detect the language reliably.\n"
     ]
    },
    {
     "name": "stdout",
     "output_type": "stream",
     "text": [
      "Посидели на \"\"ура! #odessa #sushiya #goodday #funday\n"
     ]
    },
    {
     "name": "stderr",
     "output_type": "stream",
     "text": [
      "Detector is not able to detect the language reliably.\n",
      "Detector is not able to detect the language reliably.\n",
      "Detector is not able to detect the language reliably.\n",
      "Detector is not able to detect the language reliably.\n",
      "Detector is not able to detect the language reliably.\n",
      "Detector is not able to detect the language reliably.\n"
     ]
    },
    {
     "name": "stdout",
     "output_type": "stream",
     "text": [
      "ТРЦ или street-ритейл? Советы сетевого ресторатора «Сушия» http://rau.com.ua/experience/management/trts-ili-s... …\n"
     ]
    },
    {
     "name": "stderr",
     "output_type": "stream",
     "text": [
      "Detector is not able to detect the language reliably.\n",
      "Detector is not able to detect the language reliably.\n",
      "Detector is not able to detect the language reliably.\n",
      "Detector is not able to detect the language reliably.\n",
      "Detector is not able to detect the language reliably.\n"
     ]
    },
    {
     "name": "stdout",
     "output_type": "stream",
     "text": [
      "Time for sushi #сушия#lviv\n"
     ]
    },
    {
     "name": "stderr",
     "output_type": "stream",
     "text": [
      "Detector is not able to detect the language reliably.\n",
      "Detector is not able to detect the language reliably.\n",
      "Detector is not able to detect the language reliably.\n",
      "Detector is not able to detect the language reliably.\n",
      "Detector is not able to detect the language reliably.\n",
      "Detector is not able to detect the language reliably.\n",
      "Detector is not able to detect the language reliably.\n"
     ]
    },
    {
     "name": "stdout",
     "output_type": "stream",
     "text": [
      "Нежданчик в супе ) #гуляем #sushiya #супчик #оченьвкусно\n"
     ]
    },
    {
     "name": "stderr",
     "output_type": "stream",
     "text": [
      "Detector is not able to detect the language reliably.\n",
      "Detector is not able to detect the language reliably.\n",
      "Detector is not able to detect the language reliably.\n",
      "Detector is not able to detect the language reliably.\n",
      "Detector is not able to detect the language reliably.\n",
      "Detector is not able to detect the language reliably.\n",
      "Detector is not able to detect the language reliably.\n"
     ]
    },
    {
     "name": "stdout",
     "output_type": "stream",
     "text": [
      "I'm at Сушия / @Sushiya_ukraine in Дніпропетровськ, Дніпропетровська область https://www.swarmapp.com/c/2GISU0n2mnT  \n",
      "Друзья, а что у вас было сегодня на обед? Photo by @iryna_mysiura #lunch #yummy #dreamtown #сушия #дримтаун #обед #нямням #вкусно #kiev #kyiv #kievgram #instakiev #obolon\n"
     ]
    },
    {
     "name": "stderr",
     "output_type": "stream",
     "text": [
      "Detector is not able to detect the language reliably.\n",
      "Detector is not able to detect the language reliably.\n",
      "Detector is not able to detect the language reliably.\n",
      "Detector is not able to detect the language reliably.\n",
      "Detector is not able to detect the language reliably.\n"
     ]
    },
    {
     "name": "stdout",
     "output_type": "stream",
     "text": [
      "приятного аппетита🍴 вкусностей в ленту☺️ #diner #time #kiev #sushiya #good #day #spring #march\n"
     ]
    },
    {
     "name": "stderr",
     "output_type": "stream",
     "text": [
      "Detector is not able to detect the language reliably.\n",
      "Detector is not able to detect the language reliably.\n",
      "Detector is not able to detect the language reliably.\n",
      "Detector is not able to detect the language reliably.\n"
     ]
    },
    {
     "name": "stdout",
     "output_type": "stream",
     "text": [
      "#сушии#няям#нямкаа\n"
     ]
    },
    {
     "name": "stderr",
     "output_type": "stream",
     "text": [
      "Detector is not able to detect the language reliably.\n",
      "Detector is not able to detect the language reliably.\n",
      "Detector is not able to detect the language reliably.\n"
     ]
    },
    {
     "name": "stdout",
     "output_type": "stream",
     "text": [
      "Вечер суши #sushi #evening #japanese #food #rolls #philadelphia #instafood #delivery #yummy #sushitime #loveit #greatmood #greatday #home #sushiya #sumy #ukraine #суши #роллы #филадельфия #сушия\n"
     ]
    },
    {
     "name": "stderr",
     "output_type": "stream",
     "text": [
      "Detector is not able to detect the language reliably.\n",
      "Detector is not able to detect the language reliably.\n"
     ]
    },
    {
     "name": "stdout",
     "output_type": "stream",
     "text": [
      "Какао с маршмеллоу#какао#с#маршмеллоу #вкусно#нямням#хочу#mydream😘 #люблю#лайкі#взаимныелайки #Instagram#sushiya#лав#моялюбовьнавсегда\n"
     ]
    },
    {
     "name": "stderr",
     "output_type": "stream",
     "text": [
      "Detector is not able to detect the language reliably.\n",
      "Detector is not able to detect the language reliably.\n",
      "Detector is not able to detect the language reliably.\n",
      "Detector is not able to detect the language reliably.\n"
     ]
    }
   ],
   "source": [
    "updated_df['language'] = \"unknown\"\n",
    "for index, row in updated_df.iterrows():\n",
    "    try:\n",
    "        updated_df['language'][index] = Detector(row[\"text\"]).language.code    \n",
    "    except:\n",
    "        print(row[\"text\"])"
   ]
  },
  {
   "cell_type": "markdown",
   "metadata": {},
   "source": [
    "Розподіл мов"
   ]
  },
  {
   "cell_type": "code",
   "execution_count": 13,
   "metadata": {
    "scrolled": true
   },
   "outputs": [
    {
     "data": {
      "text/plain": [
       "ru         5036\n",
       "uk         1078\n",
       "en          440\n",
       "bg          438\n",
       "unknown     354\n",
       "sr           38\n",
       "da           18\n",
       "ro           10\n",
       "be            7\n",
       "sco           7\n",
       "uz            6\n",
       "tr            4\n",
       "mk            4\n",
       "ky            4\n",
       "cs            4\n",
       "kl            3\n",
       "sm            3\n",
       "ie            3\n",
       "tg            3\n",
       "sw            2\n",
       "nn            2\n",
       "af            2\n",
       "rm            2\n",
       "sk            2\n",
       "jw            2\n",
       "tk            2\n",
       "kk            2\n",
       "pt            1\n",
       "fo            1\n",
       "zu            1\n",
       "ln            1\n",
       "na            1\n",
       "lt            1\n",
       "mi            1\n",
       "ht            1\n",
       "mn            1\n",
       "es            1\n",
       "pl            1\n",
       "aa            1\n",
       "zzp           1\n",
       "no            1\n",
       "Name: language, dtype: int64"
      ]
     },
     "execution_count": 13,
     "metadata": {},
     "output_type": "execute_result"
    }
   ],
   "source": [
    "updated_df[\"language\"].value_counts()"
   ]
  },
  {
   "cell_type": "markdown",
   "metadata": {},
   "source": [
    "Змінюємо negative на -1, а positive на 1, neutral на 0"
   ]
  },
  {
   "cell_type": "code",
   "execution_count": 14,
   "metadata": {
    "scrolled": true
   },
   "outputs": [
    {
     "name": "stderr",
     "output_type": "stream",
     "text": [
      "/usr/local/lib/python3.5/dist-packages/ipykernel_launcher.py:2: SettingWithCopyWarning: \n",
      "A value is trying to be set on a copy of a slice from a DataFrame.\n",
      "Try using .loc[row_indexer,col_indexer] = value instead\n",
      "\n",
      "See the caveats in the documentation: http://pandas.pydata.org/pandas-docs/stable/indexing.html#indexing-view-versus-copy\n",
      "  \n"
     ]
    },
    {
     "data": {
      "text/html": [
       "<div>\n",
       "<style scoped>\n",
       "    .dataframe tbody tr th:only-of-type {\n",
       "        vertical-align: middle;\n",
       "    }\n",
       "\n",
       "    .dataframe tbody tr th {\n",
       "        vertical-align: top;\n",
       "    }\n",
       "\n",
       "    .dataframe thead th {\n",
       "        text-align: right;\n",
       "    }\n",
       "</style>\n",
       "<table border=\"1\" class=\"dataframe\">\n",
       "  <thead>\n",
       "    <tr style=\"text-align: right;\">\n",
       "      <th></th>\n",
       "      <th>title</th>\n",
       "      <th>text</th>\n",
       "      <th>keyword_role</th>\n",
       "      <th>keyword_tone</th>\n",
       "      <th>source_type</th>\n",
       "      <th>source_url</th>\n",
       "      <th>language</th>\n",
       "    </tr>\n",
       "  </thead>\n",
       "  <tbody>\n",
       "    <tr>\n",
       "      <th>0</th>\n",
       "      <td>Какой у вас в Харькове Сушия? У нас в Одессе к...</td>\n",
       "      <td>Какой у вас в Харькове Сушия? У нас в Одессе к...</td>\n",
       "      <td>object</td>\n",
       "      <td>-1</td>\n",
       "      <td>socialnetworksource</td>\n",
       "      <td>http://instagram.com/</td>\n",
       "      <td>ru</td>\n",
       "    </tr>\n",
       "    <tr>\n",
       "      <th>1</th>\n",
       "      <td>Меня качество еды в Сушия устраивает, но не ве...</td>\n",
       "      <td>Меня качество еды в Сушия устраивает, но не ве...</td>\n",
       "      <td>object</td>\n",
       "      <td>-1</td>\n",
       "      <td>socialnetworksource</td>\n",
       "      <td>http://youtube.com/</td>\n",
       "      <td>ru</td>\n",
       "    </tr>\n",
       "    <tr>\n",
       "      <th>2</th>\n",
       "      <td>[club30459962|Сушия – сучасна японська кухня],...</td>\n",
       "      <td>Сушия – сучасна японська кухня, тогда, получае...</td>\n",
       "      <td>object</td>\n",
       "      <td>-1</td>\n",
       "      <td>socialnetworksource</td>\n",
       "      <td>http://vk.com/</td>\n",
       "      <td>ru</td>\n",
       "    </tr>\n",
       "    <tr>\n",
       "      <th>3</th>\n",
       "      <td>​Ни при каких не заказывайте доставку</td>\n",
       "      <td>Отзыв о Сушия: Ни при каких не заказывайте до...</td>\n",
       "      <td>object</td>\n",
       "      <td>-1</td>\n",
       "      <td>socialnetworksource</td>\n",
       "      <td>http://www.otzyvua.net/</td>\n",
       "      <td>ru</td>\n",
       "    </tr>\n",
       "    <tr>\n",
       "      <th>4</th>\n",
       "      <td>Сушия, на час не на 2.</td>\n",
       "      <td>Сушия, на час не на 2.</td>\n",
       "      <td>object</td>\n",
       "      <td>-1</td>\n",
       "      <td>socialnetworksource</td>\n",
       "      <td>http://vk.com/</td>\n",
       "      <td>sr</td>\n",
       "    </tr>\n",
       "  </tbody>\n",
       "</table>\n",
       "</div>"
      ],
      "text/plain": [
       "                                               title  \\\n",
       "0  Какой у вас в Харькове Сушия? У нас в Одессе к...   \n",
       "1  Меня качество еды в Сушия устраивает, но не ве...   \n",
       "2  [club30459962|Сушия – сучасна японська кухня],...   \n",
       "3              ​Ни при каких не заказывайте доставку   \n",
       "4                             Сушия, на час не на 2.   \n",
       "\n",
       "                                                text keyword_role  \\\n",
       "0  Какой у вас в Харькове Сушия? У нас в Одессе к...       object   \n",
       "1  Меня качество еды в Сушия устраивает, но не ве...       object   \n",
       "2  Сушия – сучасна японська кухня, тогда, получае...       object   \n",
       "3   Отзыв о Сушия: Ни при каких не заказывайте до...       object   \n",
       "4                             Сушия, на час не на 2.       object   \n",
       "\n",
       "   keyword_tone          source_type               source_url language  \n",
       "0            -1  socialnetworksource    http://instagram.com/       ru  \n",
       "1            -1  socialnetworksource      http://youtube.com/       ru  \n",
       "2            -1  socialnetworksource           http://vk.com/       ru  \n",
       "3            -1  socialnetworksource  http://www.otzyvua.net/       ru  \n",
       "4            -1  socialnetworksource           http://vk.com/       sr  "
      ]
     },
     "execution_count": 14,
     "metadata": {},
     "output_type": "execute_result"
    }
   ],
   "source": [
    "mapper = {\"neutral\": 0, \"negative\": -1, \"positive\":1} \n",
    "updated_df[\"keyword_tone\"] = updated_df[\"keyword_tone\"].apply(lambda x: mapper[x])\n",
    "updated_df.head()\n"
   ]
  },
  {
   "cell_type": "code",
   "execution_count": 15,
   "metadata": {},
   "outputs": [],
   "source": [
    "df_ru = updated_df[updated_df[\"language\"] == \"ru\"]\n",
    "df_ru = df_ru[(df_ru[\"keyword_tone\"] == -1) | (df_ru[\"keyword_tone\"] == 1)]"
   ]
  },
  {
   "cell_type": "code",
   "execution_count": 16,
   "metadata": {},
   "outputs": [
    {
     "name": "stderr",
     "output_type": "stream",
     "text": [
      "/usr/local/lib/python3.5/dist-packages/sklearn/linear_model/logistic.py:1228: UserWarning: 'n_jobs' > 1 does not have any effect when 'solver' is set to 'liblinear'. Got 'n_jobs' = -1.\n",
      "  \" = {}.\".format(self.n_jobs))\n"
     ]
    },
    {
     "data": {
      "text/plain": [
       "0.88736263736263732"
      ]
     },
     "execution_count": 16,
     "metadata": {},
     "output_type": "execute_result"
    }
   ],
   "source": [
    "data_train, data_test, labels_train, labels_test = train_test_split(df_ru[\"text\"], df_ru[\"keyword_tone\"], test_size=0.1, random_state=42, stratify=df_ru[\"keyword_tone\"])\n",
    "mdl = Pipeline([('tfidf', TfidfVectorizer(ngram_range=(1, 3), max_features=10000)), ('lr', LogisticRegression(C=1, n_jobs=-1))])\n",
    "mdl.fit(data_train, labels_train)\n",
    "mdl.score(data_test, labels_test)"
   ]
  },
  {
   "cell_type": "code",
   "execution_count": 17,
   "metadata": {},
   "outputs": [
    {
     "data": {
      "text/plain": [
       "title           #vsco #vscocam #vscolove #vscolive #vscolikes ...\n",
       "text            #vsco #vscocam #vscolove #vscolive #vscolikes ...\n",
       "keyword_role                                               object\n",
       "keyword_tone                                                    1\n",
       "source_type                                   socialnetworksource\n",
       "source_url                                  http://instagram.com/\n",
       "language                                                       da\n",
       "Name: 6636, dtype: object"
      ]
     },
     "execution_count": 17,
     "metadata": {},
     "output_type": "execute_result"
    }
   ],
   "source": [
    "updated_df[updated_df[\"language\"] == \"da\"].iloc[8]"
   ]
  },
  {
   "cell_type": "code",
   "execution_count": 46,
   "metadata": {},
   "outputs": [],
   "source": [
    "\n",
    "splited = updated_df.copy()\n",
    "splited[\"text\"]=splited[\"text\"].apply( lambda x : sent_tokenize(x))\n"
   ]
  },
  {
   "cell_type": "code",
   "execution_count": 47,
   "metadata": {
    "scrolled": true
   },
   "outputs": [
    {
     "data": {
      "text/html": [
       "<div>\n",
       "<style scoped>\n",
       "    .dataframe tbody tr th:only-of-type {\n",
       "        vertical-align: middle;\n",
       "    }\n",
       "\n",
       "    .dataframe tbody tr th {\n",
       "        vertical-align: top;\n",
       "    }\n",
       "\n",
       "    .dataframe thead th {\n",
       "        text-align: right;\n",
       "    }\n",
       "</style>\n",
       "<table border=\"1\" class=\"dataframe\">\n",
       "  <thead>\n",
       "    <tr style=\"text-align: right;\">\n",
       "      <th></th>\n",
       "      <th>title</th>\n",
       "      <th>text</th>\n",
       "      <th>keyword_role</th>\n",
       "      <th>keyword_tone</th>\n",
       "      <th>source_type</th>\n",
       "      <th>source_url</th>\n",
       "      <th>language</th>\n",
       "    </tr>\n",
       "  </thead>\n",
       "  <tbody>\n",
       "    <tr>\n",
       "      <th>0</th>\n",
       "      <td>Какой у вас в Харькове Сушия? У нас в Одессе к...</td>\n",
       "      <td>[Какой у вас в Харькове Сушия?, У нас в Одессе...</td>\n",
       "      <td>object</td>\n",
       "      <td>-1</td>\n",
       "      <td>socialnetworksource</td>\n",
       "      <td>http://instagram.com/</td>\n",
       "      <td>ru</td>\n",
       "    </tr>\n",
       "    <tr>\n",
       "      <th>1</th>\n",
       "      <td>Меня качество еды в Сушия устраивает, но не ве...</td>\n",
       "      <td>[Меня качество еды в Сушия устраивает, но не в...</td>\n",
       "      <td>object</td>\n",
       "      <td>-1</td>\n",
       "      <td>socialnetworksource</td>\n",
       "      <td>http://youtube.com/</td>\n",
       "      <td>ru</td>\n",
       "    </tr>\n",
       "    <tr>\n",
       "      <th>2</th>\n",
       "      <td>[club30459962|Сушия – сучасна японська кухня],...</td>\n",
       "      <td>[Сушия – сучасна японська кухня, тогда, получа...</td>\n",
       "      <td>object</td>\n",
       "      <td>-1</td>\n",
       "      <td>socialnetworksource</td>\n",
       "      <td>http://vk.com/</td>\n",
       "      <td>ru</td>\n",
       "    </tr>\n",
       "    <tr>\n",
       "      <th>3</th>\n",
       "      <td>​Ни при каких не заказывайте доставку</td>\n",
       "      <td>[ Отзыв о Сушия: Ни при каких не заказывайте д...</td>\n",
       "      <td>object</td>\n",
       "      <td>-1</td>\n",
       "      <td>socialnetworksource</td>\n",
       "      <td>http://www.otzyvua.net/</td>\n",
       "      <td>ru</td>\n",
       "    </tr>\n",
       "    <tr>\n",
       "      <th>4</th>\n",
       "      <td>Сушия, на час не на 2.</td>\n",
       "      <td>[Сушия, на час не на 2.]</td>\n",
       "      <td>object</td>\n",
       "      <td>-1</td>\n",
       "      <td>socialnetworksource</td>\n",
       "      <td>http://vk.com/</td>\n",
       "      <td>sr</td>\n",
       "    </tr>\n",
       "  </tbody>\n",
       "</table>\n",
       "</div>"
      ],
      "text/plain": [
       "                                               title  \\\n",
       "0  Какой у вас в Харькове Сушия? У нас в Одессе к...   \n",
       "1  Меня качество еды в Сушия устраивает, но не ве...   \n",
       "2  [club30459962|Сушия – сучасна японська кухня],...   \n",
       "3              ​Ни при каких не заказывайте доставку   \n",
       "4                             Сушия, на час не на 2.   \n",
       "\n",
       "                                                text keyword_role  \\\n",
       "0  [Какой у вас в Харькове Сушия?, У нас в Одессе...       object   \n",
       "1  [Меня качество еды в Сушия устраивает, но не в...       object   \n",
       "2  [Сушия – сучасна японська кухня, тогда, получа...       object   \n",
       "3  [ Отзыв о Сушия: Ни при каких не заказывайте д...       object   \n",
       "4                           [Сушия, на час не на 2.]       object   \n",
       "\n",
       "   keyword_tone          source_type               source_url language  \n",
       "0            -1  socialnetworksource    http://instagram.com/       ru  \n",
       "1            -1  socialnetworksource      http://youtube.com/       ru  \n",
       "2            -1  socialnetworksource           http://vk.com/       ru  \n",
       "3            -1  socialnetworksource  http://www.otzyvua.net/       ru  \n",
       "4            -1  socialnetworksource           http://vk.com/       sr  "
      ]
     },
     "execution_count": 47,
     "metadata": {},
     "output_type": "execute_result"
    }
   ],
   "source": [
    "splited.head()"
   ]
  },
  {
   "cell_type": "code",
   "execution_count": 48,
   "metadata": {},
   "outputs": [],
   "source": [
    "#splited[\"keyword\"] = \"Сушия\"\n"
   ]
  },
  {
   "cell_type": "code",
   "execution_count": 49,
   "metadata": {},
   "outputs": [
    {
     "data": {
      "text/html": [
       "<div>\n",
       "<style scoped>\n",
       "    .dataframe tbody tr th:only-of-type {\n",
       "        vertical-align: middle;\n",
       "    }\n",
       "\n",
       "    .dataframe tbody tr th {\n",
       "        vertical-align: top;\n",
       "    }\n",
       "\n",
       "    .dataframe thead th {\n",
       "        text-align: right;\n",
       "    }\n",
       "</style>\n",
       "<table border=\"1\" class=\"dataframe\">\n",
       "  <thead>\n",
       "    <tr style=\"text-align: right;\">\n",
       "      <th></th>\n",
       "      <th>title</th>\n",
       "      <th>text</th>\n",
       "      <th>keyword_role</th>\n",
       "      <th>keyword_tone</th>\n",
       "      <th>source_type</th>\n",
       "      <th>source_url</th>\n",
       "      <th>language</th>\n",
       "      <th>keyword</th>\n",
       "    </tr>\n",
       "  </thead>\n",
       "  <tbody>\n",
       "    <tr>\n",
       "      <th>0</th>\n",
       "      <td>Какой у вас в Харькове Сушия? У нас в Одессе к...</td>\n",
       "      <td>[Какой у вас в Харькове Сушия?, У нас в Одессе...</td>\n",
       "      <td>object</td>\n",
       "      <td>-1</td>\n",
       "      <td>socialnetworksource</td>\n",
       "      <td>http://instagram.com/</td>\n",
       "      <td>ru</td>\n",
       "      <td>Сушия</td>\n",
       "    </tr>\n",
       "    <tr>\n",
       "      <th>1</th>\n",
       "      <td>Меня качество еды в Сушия устраивает, но не ве...</td>\n",
       "      <td>[Меня качество еды в Сушия устраивает, но не в...</td>\n",
       "      <td>object</td>\n",
       "      <td>-1</td>\n",
       "      <td>socialnetworksource</td>\n",
       "      <td>http://youtube.com/</td>\n",
       "      <td>ru</td>\n",
       "      <td>Сушия</td>\n",
       "    </tr>\n",
       "    <tr>\n",
       "      <th>2</th>\n",
       "      <td>[club30459962|Сушия – сучасна японська кухня],...</td>\n",
       "      <td>[Сушия – сучасна японська кухня, тогда, получа...</td>\n",
       "      <td>object</td>\n",
       "      <td>-1</td>\n",
       "      <td>socialnetworksource</td>\n",
       "      <td>http://vk.com/</td>\n",
       "      <td>ru</td>\n",
       "      <td>Сушия</td>\n",
       "    </tr>\n",
       "    <tr>\n",
       "      <th>3</th>\n",
       "      <td>​Ни при каких не заказывайте доставку</td>\n",
       "      <td>[ Отзыв о Сушия: Ни при каких не заказывайте д...</td>\n",
       "      <td>object</td>\n",
       "      <td>-1</td>\n",
       "      <td>socialnetworksource</td>\n",
       "      <td>http://www.otzyvua.net/</td>\n",
       "      <td>ru</td>\n",
       "      <td>Сушия</td>\n",
       "    </tr>\n",
       "    <tr>\n",
       "      <th>4</th>\n",
       "      <td>Сушия, на час не на 2.</td>\n",
       "      <td>[Сушия, на час не на 2.]</td>\n",
       "      <td>object</td>\n",
       "      <td>-1</td>\n",
       "      <td>socialnetworksource</td>\n",
       "      <td>http://vk.com/</td>\n",
       "      <td>sr</td>\n",
       "      <td>Сушия</td>\n",
       "    </tr>\n",
       "  </tbody>\n",
       "</table>\n",
       "</div>"
      ],
      "text/plain": [
       "                                               title  \\\n",
       "0  Какой у вас в Харькове Сушия? У нас в Одессе к...   \n",
       "1  Меня качество еды в Сушия устраивает, но не ве...   \n",
       "2  [club30459962|Сушия – сучасна японська кухня],...   \n",
       "3              ​Ни при каких не заказывайте доставку   \n",
       "4                             Сушия, на час не на 2.   \n",
       "\n",
       "                                                text keyword_role  \\\n",
       "0  [Какой у вас в Харькове Сушия?, У нас в Одессе...       object   \n",
       "1  [Меня качество еды в Сушия устраивает, но не в...       object   \n",
       "2  [Сушия – сучасна японська кухня, тогда, получа...       object   \n",
       "3  [ Отзыв о Сушия: Ни при каких не заказывайте д...       object   \n",
       "4                           [Сушия, на час не на 2.]       object   \n",
       "\n",
       "   keyword_tone          source_type               source_url language keyword  \n",
       "0            -1  socialnetworksource    http://instagram.com/       ru   Сушия  \n",
       "1            -1  socialnetworksource      http://youtube.com/       ru   Сушия  \n",
       "2            -1  socialnetworksource           http://vk.com/       ru   Сушия  \n",
       "3            -1  socialnetworksource  http://www.otzyvua.net/       ru   Сушия  \n",
       "4            -1  socialnetworksource           http://vk.com/       sr   Сушия  "
      ]
     },
     "execution_count": 49,
     "metadata": {},
     "output_type": "execute_result"
    }
   ],
   "source": [
    "# Запамятовувати забарвлення попередніх"
   ]
  },
  {
   "cell_type": "code",
   "execution_count": 50,
   "metadata": {},
   "outputs": [
    {
     "data": {
      "text/html": [
       "<div>\n",
       "<style scoped>\n",
       "    .dataframe tbody tr th:only-of-type {\n",
       "        vertical-align: middle;\n",
       "    }\n",
       "\n",
       "    .dataframe tbody tr th {\n",
       "        vertical-align: top;\n",
       "    }\n",
       "\n",
       "    .dataframe thead th {\n",
       "        text-align: right;\n",
       "    }\n",
       "</style>\n",
       "<table border=\"1\" class=\"dataframe\">\n",
       "  <thead>\n",
       "    <tr style=\"text-align: right;\">\n",
       "      <th></th>\n",
       "      <th>title</th>\n",
       "      <th>text</th>\n",
       "      <th>keyword_role</th>\n",
       "      <th>keyword_tone</th>\n",
       "      <th>source_type</th>\n",
       "      <th>source_url</th>\n",
       "      <th>language</th>\n",
       "      <th>keyword</th>\n",
       "    </tr>\n",
       "  </thead>\n",
       "  <tbody>\n",
       "    <tr>\n",
       "      <th>0</th>\n",
       "      <td>Какой у вас в Харькове Сушия? У нас в Одессе к...</td>\n",
       "      <td>[Какой у вас в Харькове Сушия?]</td>\n",
       "      <td>object</td>\n",
       "      <td>-1</td>\n",
       "      <td>socialnetworksource</td>\n",
       "      <td>http://instagram.com/</td>\n",
       "      <td>ru</td>\n",
       "      <td>Сушия</td>\n",
       "    </tr>\n",
       "    <tr>\n",
       "      <th>1</th>\n",
       "      <td>Меня качество еды в Сушия устраивает, но не ве...</td>\n",
       "      <td>[Меня качество еды в Сушия устраивает, но не в...</td>\n",
       "      <td>object</td>\n",
       "      <td>-1</td>\n",
       "      <td>socialnetworksource</td>\n",
       "      <td>http://youtube.com/</td>\n",
       "      <td>ru</td>\n",
       "      <td>Сушия</td>\n",
       "    </tr>\n",
       "    <tr>\n",
       "      <th>2</th>\n",
       "      <td>[club30459962|Сушия – сучасна японська кухня],...</td>\n",
       "      <td>[Сушия – сучасна японська кухня, тогда, получа...</td>\n",
       "      <td>object</td>\n",
       "      <td>-1</td>\n",
       "      <td>socialnetworksource</td>\n",
       "      <td>http://vk.com/</td>\n",
       "      <td>ru</td>\n",
       "      <td>Сушия</td>\n",
       "    </tr>\n",
       "    <tr>\n",
       "      <th>3</th>\n",
       "      <td>​Ни при каких не заказывайте доставку</td>\n",
       "      <td>[ Отзыв о Сушия: Ни при каких не заказывайте д...</td>\n",
       "      <td>object</td>\n",
       "      <td>-1</td>\n",
       "      <td>socialnetworksource</td>\n",
       "      <td>http://www.otzyvua.net/</td>\n",
       "      <td>ru</td>\n",
       "      <td>Сушия</td>\n",
       "    </tr>\n",
       "    <tr>\n",
       "      <th>4</th>\n",
       "      <td>Сушия, на час не на 2.</td>\n",
       "      <td>[Сушия, на час не на 2.]</td>\n",
       "      <td>object</td>\n",
       "      <td>-1</td>\n",
       "      <td>socialnetworksource</td>\n",
       "      <td>http://vk.com/</td>\n",
       "      <td>sr</td>\n",
       "      <td>Сушия</td>\n",
       "    </tr>\n",
       "  </tbody>\n",
       "</table>\n",
       "</div>"
      ],
      "text/plain": [
       "                                               title  \\\n",
       "0  Какой у вас в Харькове Сушия? У нас в Одессе к...   \n",
       "1  Меня качество еды в Сушия устраивает, но не ве...   \n",
       "2  [club30459962|Сушия – сучасна японська кухня],...   \n",
       "3              ​Ни при каких не заказывайте доставку   \n",
       "4                             Сушия, на час не на 2.   \n",
       "\n",
       "                                                text keyword_role  \\\n",
       "0                    [Какой у вас в Харькове Сушия?]       object   \n",
       "1  [Меня качество еды в Сушия устраивает, но не в...       object   \n",
       "2  [Сушия – сучасна японська кухня, тогда, получа...       object   \n",
       "3  [ Отзыв о Сушия: Ни при каких не заказывайте д...       object   \n",
       "4                           [Сушия, на час не на 2.]       object   \n",
       "\n",
       "   keyword_tone          source_type               source_url language keyword  \n",
       "0            -1  socialnetworksource    http://instagram.com/       ru   Сушия  \n",
       "1            -1  socialnetworksource      http://youtube.com/       ru   Сушия  \n",
       "2            -1  socialnetworksource           http://vk.com/       ru   Сушия  \n",
       "3            -1  socialnetworksource  http://www.otzyvua.net/       ru   Сушия  \n",
       "4            -1  socialnetworksource           http://vk.com/       sr   Сушия  "
      ]
     },
     "execution_count": 50,
     "metadata": {},
     "output_type": "execute_result"
    }
   ],
   "source": [
    "splited[\"text\"]=splited[\"text\"].apply( lambda x : [i for i in x if i.find(\"Сушия\") != -1])\n",
    "splited.head()\n"
   ]
  },
  {
   "cell_type": "code",
   "execution_count": 51,
   "metadata": {},
   "outputs": [
    {
     "name": "stderr",
     "output_type": "stream",
     "text": [
      "/usr/local/lib/python3.5/dist-packages/sklearn/linear_model/logistic.py:1228: UserWarning: 'n_jobs' > 1 does not have any effect when 'solver' is set to 'liblinear'. Got 'n_jobs' = -1.\n",
      "  \" = {}.\".format(self.n_jobs))\n"
     ]
    },
    {
     "data": {
      "text/plain": [
       "0.68956043956043955"
      ]
     },
     "execution_count": 51,
     "metadata": {},
     "output_type": "execute_result"
    }
   ],
   "source": [
    "splited[\"text\"]=splited[\"text\"].apply( lambda x : '.'.join(x))\n",
    "df_ru1 = splited[splited[\"language\"] == \"ru\"]\n",
    "df_ru1 = df_ru1[(df_ru1[\"keyword_tone\"] == -1) | (df_ru1[\"keyword_tone\"] == 1)]\n",
    "\n",
    "\n",
    "data_train, data_test, labels_train, labels_test = train_test_split(df_ru1[\"text\"], df_ru1[\"keyword_tone\"], test_size=0.1, random_state=42, stratify=df_ru1[\"keyword_tone\"])\n",
    "mdl = Pipeline([('tfidf', TfidfVectorizer(ngram_range=(1, 3), max_features=10000)), ('lr', LogisticRegression(C=1, n_jobs=-1))])\n",
    "mdl.fit(data_train, labels_train)\n",
    "mdl.score(data_test, labels_test)"
   ]
  },
  {
   "cell_type": "code",
   "execution_count": 53,
   "metadata": {},
   "outputs": [
    {
     "data": {
      "text/plain": [
       "'Какой у вас в Харькове Сушия?'"
      ]
     },
     "execution_count": 53,
     "metadata": {},
     "output_type": "execute_result"
    }
   ],
   "source": [
    "splited[\"text\"][0]"
   ]
  },
  {
   "cell_type": "code",
   "execution_count": null,
   "metadata": {},
   "outputs": [],
   "source": []
  }
 ],
 "metadata": {
  "kernelspec": {
   "display_name": "Python 3",
   "language": "python",
   "name": "python3"
  },
  "language_info": {
   "codemirror_mode": {
    "name": "ipython",
    "version": 3
   },
   "file_extension": ".py",
   "mimetype": "text/x-python",
   "name": "python",
   "nbconvert_exporter": "python",
   "pygments_lexer": "ipython3",
   "version": "3.5.2"
  }
 },
 "nbformat": 4,
 "nbformat_minor": 2
}
